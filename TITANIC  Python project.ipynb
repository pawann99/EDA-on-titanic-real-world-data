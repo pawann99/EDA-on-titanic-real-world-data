{
 "cells": [
  {
   "cell_type": "markdown",
   "id": "0cce38cd",
   "metadata": {},
   "source": [
    "# How to load a csv(comma structure value) file in pandas "
   ]
  },
  {
   "cell_type": "markdown",
   "id": "7c609a84",
   "metadata": {},
   "source": [
    "# EDA--> EXPLORATORY DATA ANALYSIS"
   ]
  },
  {
   "cell_type": "code",
   "execution_count": 2,
   "id": "fba036d0",
   "metadata": {},
   "outputs": [],
   "source": [
    "import pandas as pd\n",
    "import numpy as np"
   ]
  },
  {
   "cell_type": "code",
   "execution_count": 4,
   "id": "83f70911",
   "metadata": {},
   "outputs": [
    {
     "data": {
      "text/html": [
       "<div>\n",
       "<style scoped>\n",
       "    .dataframe tbody tr th:only-of-type {\n",
       "        vertical-align: middle;\n",
       "    }\n",
       "\n",
       "    .dataframe tbody tr th {\n",
       "        vertical-align: top;\n",
       "    }\n",
       "\n",
       "    .dataframe thead th {\n",
       "        text-align: right;\n",
       "    }\n",
       "</style>\n",
       "<table border=\"1\" class=\"dataframe\">\n",
       "  <thead>\n",
       "    <tr style=\"text-align: right;\">\n",
       "      <th></th>\n",
       "      <th>PassengerId</th>\n",
       "      <th>Survived</th>\n",
       "      <th>Pclass</th>\n",
       "      <th>Name</th>\n",
       "      <th>Sex</th>\n",
       "      <th>Age</th>\n",
       "      <th>SibSp</th>\n",
       "      <th>Parch</th>\n",
       "      <th>Ticket</th>\n",
       "      <th>Fare</th>\n",
       "      <th>Cabin</th>\n",
       "      <th>Embarked</th>\n",
       "    </tr>\n",
       "  </thead>\n",
       "  <tbody>\n",
       "    <tr>\n",
       "      <th>0</th>\n",
       "      <td>1</td>\n",
       "      <td>0</td>\n",
       "      <td>3</td>\n",
       "      <td>Braund, Mr. Owen Harris</td>\n",
       "      <td>male</td>\n",
       "      <td>22.0</td>\n",
       "      <td>1</td>\n",
       "      <td>0</td>\n",
       "      <td>A/5 21171</td>\n",
       "      <td>7.2500</td>\n",
       "      <td>NaN</td>\n",
       "      <td>S</td>\n",
       "    </tr>\n",
       "    <tr>\n",
       "      <th>1</th>\n",
       "      <td>2</td>\n",
       "      <td>1</td>\n",
       "      <td>1</td>\n",
       "      <td>Cumings, Mrs. John Bradley (Florence Briggs Th...</td>\n",
       "      <td>female</td>\n",
       "      <td>38.0</td>\n",
       "      <td>1</td>\n",
       "      <td>0</td>\n",
       "      <td>PC 17599</td>\n",
       "      <td>71.2833</td>\n",
       "      <td>C85</td>\n",
       "      <td>C</td>\n",
       "    </tr>\n",
       "    <tr>\n",
       "      <th>2</th>\n",
       "      <td>3</td>\n",
       "      <td>1</td>\n",
       "      <td>3</td>\n",
       "      <td>Heikkinen, Miss. Laina</td>\n",
       "      <td>female</td>\n",
       "      <td>26.0</td>\n",
       "      <td>0</td>\n",
       "      <td>0</td>\n",
       "      <td>STON/O2. 3101282</td>\n",
       "      <td>7.9250</td>\n",
       "      <td>NaN</td>\n",
       "      <td>S</td>\n",
       "    </tr>\n",
       "    <tr>\n",
       "      <th>3</th>\n",
       "      <td>4</td>\n",
       "      <td>1</td>\n",
       "      <td>1</td>\n",
       "      <td>Futrelle, Mrs. Jacques Heath (Lily May Peel)</td>\n",
       "      <td>female</td>\n",
       "      <td>35.0</td>\n",
       "      <td>1</td>\n",
       "      <td>0</td>\n",
       "      <td>113803</td>\n",
       "      <td>53.1000</td>\n",
       "      <td>C123</td>\n",
       "      <td>S</td>\n",
       "    </tr>\n",
       "    <tr>\n",
       "      <th>4</th>\n",
       "      <td>5</td>\n",
       "      <td>0</td>\n",
       "      <td>3</td>\n",
       "      <td>Allen, Mr. William Henry</td>\n",
       "      <td>male</td>\n",
       "      <td>35.0</td>\n",
       "      <td>0</td>\n",
       "      <td>0</td>\n",
       "      <td>373450</td>\n",
       "      <td>8.0500</td>\n",
       "      <td>NaN</td>\n",
       "      <td>S</td>\n",
       "    </tr>\n",
       "    <tr>\n",
       "      <th>...</th>\n",
       "      <td>...</td>\n",
       "      <td>...</td>\n",
       "      <td>...</td>\n",
       "      <td>...</td>\n",
       "      <td>...</td>\n",
       "      <td>...</td>\n",
       "      <td>...</td>\n",
       "      <td>...</td>\n",
       "      <td>...</td>\n",
       "      <td>...</td>\n",
       "      <td>...</td>\n",
       "      <td>...</td>\n",
       "    </tr>\n",
       "    <tr>\n",
       "      <th>886</th>\n",
       "      <td>887</td>\n",
       "      <td>0</td>\n",
       "      <td>2</td>\n",
       "      <td>Montvila, Rev. Juozas</td>\n",
       "      <td>male</td>\n",
       "      <td>27.0</td>\n",
       "      <td>0</td>\n",
       "      <td>0</td>\n",
       "      <td>211536</td>\n",
       "      <td>13.0000</td>\n",
       "      <td>NaN</td>\n",
       "      <td>S</td>\n",
       "    </tr>\n",
       "    <tr>\n",
       "      <th>887</th>\n",
       "      <td>888</td>\n",
       "      <td>1</td>\n",
       "      <td>1</td>\n",
       "      <td>Graham, Miss. Margaret Edith</td>\n",
       "      <td>female</td>\n",
       "      <td>19.0</td>\n",
       "      <td>0</td>\n",
       "      <td>0</td>\n",
       "      <td>112053</td>\n",
       "      <td>30.0000</td>\n",
       "      <td>B42</td>\n",
       "      <td>S</td>\n",
       "    </tr>\n",
       "    <tr>\n",
       "      <th>888</th>\n",
       "      <td>889</td>\n",
       "      <td>0</td>\n",
       "      <td>3</td>\n",
       "      <td>Johnston, Miss. Catherine Helen \"Carrie\"</td>\n",
       "      <td>female</td>\n",
       "      <td>NaN</td>\n",
       "      <td>1</td>\n",
       "      <td>2</td>\n",
       "      <td>W./C. 6607</td>\n",
       "      <td>23.4500</td>\n",
       "      <td>NaN</td>\n",
       "      <td>S</td>\n",
       "    </tr>\n",
       "    <tr>\n",
       "      <th>889</th>\n",
       "      <td>890</td>\n",
       "      <td>1</td>\n",
       "      <td>1</td>\n",
       "      <td>Behr, Mr. Karl Howell</td>\n",
       "      <td>male</td>\n",
       "      <td>26.0</td>\n",
       "      <td>0</td>\n",
       "      <td>0</td>\n",
       "      <td>111369</td>\n",
       "      <td>30.0000</td>\n",
       "      <td>C148</td>\n",
       "      <td>C</td>\n",
       "    </tr>\n",
       "    <tr>\n",
       "      <th>890</th>\n",
       "      <td>891</td>\n",
       "      <td>0</td>\n",
       "      <td>3</td>\n",
       "      <td>Dooley, Mr. Patrick</td>\n",
       "      <td>male</td>\n",
       "      <td>32.0</td>\n",
       "      <td>0</td>\n",
       "      <td>0</td>\n",
       "      <td>370376</td>\n",
       "      <td>7.7500</td>\n",
       "      <td>NaN</td>\n",
       "      <td>Q</td>\n",
       "    </tr>\n",
       "  </tbody>\n",
       "</table>\n",
       "<p>891 rows × 12 columns</p>\n",
       "</div>"
      ],
      "text/plain": [
       "     PassengerId  Survived  Pclass  \\\n",
       "0              1         0       3   \n",
       "1              2         1       1   \n",
       "2              3         1       3   \n",
       "3              4         1       1   \n",
       "4              5         0       3   \n",
       "..           ...       ...     ...   \n",
       "886          887         0       2   \n",
       "887          888         1       1   \n",
       "888          889         0       3   \n",
       "889          890         1       1   \n",
       "890          891         0       3   \n",
       "\n",
       "                                                  Name     Sex   Age  SibSp  \\\n",
       "0                              Braund, Mr. Owen Harris    male  22.0      1   \n",
       "1    Cumings, Mrs. John Bradley (Florence Briggs Th...  female  38.0      1   \n",
       "2                               Heikkinen, Miss. Laina  female  26.0      0   \n",
       "3         Futrelle, Mrs. Jacques Heath (Lily May Peel)  female  35.0      1   \n",
       "4                             Allen, Mr. William Henry    male  35.0      0   \n",
       "..                                                 ...     ...   ...    ...   \n",
       "886                              Montvila, Rev. Juozas    male  27.0      0   \n",
       "887                       Graham, Miss. Margaret Edith  female  19.0      0   \n",
       "888           Johnston, Miss. Catherine Helen \"Carrie\"  female   NaN      1   \n",
       "889                              Behr, Mr. Karl Howell    male  26.0      0   \n",
       "890                                Dooley, Mr. Patrick    male  32.0      0   \n",
       "\n",
       "     Parch            Ticket     Fare Cabin Embarked  \n",
       "0        0         A/5 21171   7.2500   NaN        S  \n",
       "1        0          PC 17599  71.2833   C85        C  \n",
       "2        0  STON/O2. 3101282   7.9250   NaN        S  \n",
       "3        0            113803  53.1000  C123        S  \n",
       "4        0            373450   8.0500   NaN        S  \n",
       "..     ...               ...      ...   ...      ...  \n",
       "886      0            211536  13.0000   NaN        S  \n",
       "887      0            112053  30.0000   B42        S  \n",
       "888      2        W./C. 6607  23.4500   NaN        S  \n",
       "889      0            111369  30.0000  C148        C  \n",
       "890      0            370376   7.7500   NaN        Q  \n",
       "\n",
       "[891 rows x 12 columns]"
      ]
     },
     "execution_count": 4,
     "metadata": {},
     "output_type": "execute_result"
    }
   ],
   "source": [
    "data=pd.read_csv(\"C:\\\\Users\\HP\\\\Downloads\\\\Titanic csv.csv\")\n",
    "data"
   ]
  },
  {
   "cell_type": "markdown",
   "id": "698053a2",
   "metadata": {},
   "source": [
    "# attributes on data frame"
   ]
  },
  {
   "cell_type": "markdown",
   "id": "473b391f",
   "metadata": {},
   "source": [
    "#size()"
   ]
  },
  {
   "cell_type": "code",
   "execution_count": 6,
   "id": "f66a4f40",
   "metadata": {},
   "outputs": [
    {
     "data": {
      "text/plain": [
       "10692"
      ]
     },
     "execution_count": 6,
     "metadata": {},
     "output_type": "execute_result"
    }
   ],
   "source": [
    "data.size"
   ]
  },
  {
   "cell_type": "code",
   "execution_count": 7,
   "id": "8e432e6b",
   "metadata": {},
   "outputs": [
    {
     "data": {
      "text/plain": [
       "891"
      ]
     },
     "execution_count": 7,
     "metadata": {},
     "output_type": "execute_result"
    }
   ],
   "source": [
    "len(data)"
   ]
  },
  {
   "cell_type": "markdown",
   "id": "58ee7830",
   "metadata": {},
   "source": [
    "#shape"
   ]
  },
  {
   "cell_type": "code",
   "execution_count": 8,
   "id": "fcdc2d42",
   "metadata": {},
   "outputs": [
    {
     "data": {
      "text/plain": [
       "(891, 12)"
      ]
     },
     "execution_count": 8,
     "metadata": {},
     "output_type": "execute_result"
    }
   ],
   "source": [
    "data.shape"
   ]
  },
  {
   "cell_type": "markdown",
   "id": "8ddddece",
   "metadata": {},
   "source": [
    "# dtypes"
   ]
  },
  {
   "cell_type": "code",
   "execution_count": 12,
   "id": "4baaed5b",
   "metadata": {},
   "outputs": [
    {
     "data": {
      "text/plain": [
       "PassengerId      int64\n",
       "Survived         int64\n",
       "Pclass           int64\n",
       "Name            object\n",
       "Sex             object\n",
       "Age            float64\n",
       "SibSp            int64\n",
       "Parch            int64\n",
       "Ticket          object\n",
       "Fare           float64\n",
       "Cabin           object\n",
       "Embarked        object\n",
       "dtype: object"
      ]
     },
     "execution_count": 12,
     "metadata": {},
     "output_type": "execute_result"
    }
   ],
   "source": [
    "data.dtypes"
   ]
  },
  {
   "cell_type": "markdown",
   "id": "e8e7424c",
   "metadata": {},
   "source": [
    "# head"
   ]
  },
  {
   "cell_type": "code",
   "execution_count": null,
   "id": "3c43d06c",
   "metadata": {},
   "outputs": [],
   "source": [
    "-> It print the first 5 rows by default but we can change as per need"
   ]
  },
  {
   "cell_type": "code",
   "execution_count": 13,
   "id": "4eeb5af3",
   "metadata": {},
   "outputs": [
    {
     "data": {
      "text/html": [
       "<div>\n",
       "<style scoped>\n",
       "    .dataframe tbody tr th:only-of-type {\n",
       "        vertical-align: middle;\n",
       "    }\n",
       "\n",
       "    .dataframe tbody tr th {\n",
       "        vertical-align: top;\n",
       "    }\n",
       "\n",
       "    .dataframe thead th {\n",
       "        text-align: right;\n",
       "    }\n",
       "</style>\n",
       "<table border=\"1\" class=\"dataframe\">\n",
       "  <thead>\n",
       "    <tr style=\"text-align: right;\">\n",
       "      <th></th>\n",
       "      <th>PassengerId</th>\n",
       "      <th>Survived</th>\n",
       "      <th>Pclass</th>\n",
       "      <th>Name</th>\n",
       "      <th>Sex</th>\n",
       "      <th>Age</th>\n",
       "      <th>SibSp</th>\n",
       "      <th>Parch</th>\n",
       "      <th>Ticket</th>\n",
       "      <th>Fare</th>\n",
       "      <th>Cabin</th>\n",
       "      <th>Embarked</th>\n",
       "    </tr>\n",
       "  </thead>\n",
       "  <tbody>\n",
       "    <tr>\n",
       "      <th>0</th>\n",
       "      <td>1</td>\n",
       "      <td>0</td>\n",
       "      <td>3</td>\n",
       "      <td>Braund, Mr. Owen Harris</td>\n",
       "      <td>male</td>\n",
       "      <td>22.0</td>\n",
       "      <td>1</td>\n",
       "      <td>0</td>\n",
       "      <td>A/5 21171</td>\n",
       "      <td>7.2500</td>\n",
       "      <td>NaN</td>\n",
       "      <td>S</td>\n",
       "    </tr>\n",
       "    <tr>\n",
       "      <th>1</th>\n",
       "      <td>2</td>\n",
       "      <td>1</td>\n",
       "      <td>1</td>\n",
       "      <td>Cumings, Mrs. John Bradley (Florence Briggs Th...</td>\n",
       "      <td>female</td>\n",
       "      <td>38.0</td>\n",
       "      <td>1</td>\n",
       "      <td>0</td>\n",
       "      <td>PC 17599</td>\n",
       "      <td>71.2833</td>\n",
       "      <td>C85</td>\n",
       "      <td>C</td>\n",
       "    </tr>\n",
       "    <tr>\n",
       "      <th>2</th>\n",
       "      <td>3</td>\n",
       "      <td>1</td>\n",
       "      <td>3</td>\n",
       "      <td>Heikkinen, Miss. Laina</td>\n",
       "      <td>female</td>\n",
       "      <td>26.0</td>\n",
       "      <td>0</td>\n",
       "      <td>0</td>\n",
       "      <td>STON/O2. 3101282</td>\n",
       "      <td>7.9250</td>\n",
       "      <td>NaN</td>\n",
       "      <td>S</td>\n",
       "    </tr>\n",
       "    <tr>\n",
       "      <th>3</th>\n",
       "      <td>4</td>\n",
       "      <td>1</td>\n",
       "      <td>1</td>\n",
       "      <td>Futrelle, Mrs. Jacques Heath (Lily May Peel)</td>\n",
       "      <td>female</td>\n",
       "      <td>35.0</td>\n",
       "      <td>1</td>\n",
       "      <td>0</td>\n",
       "      <td>113803</td>\n",
       "      <td>53.1000</td>\n",
       "      <td>C123</td>\n",
       "      <td>S</td>\n",
       "    </tr>\n",
       "    <tr>\n",
       "      <th>4</th>\n",
       "      <td>5</td>\n",
       "      <td>0</td>\n",
       "      <td>3</td>\n",
       "      <td>Allen, Mr. William Henry</td>\n",
       "      <td>male</td>\n",
       "      <td>35.0</td>\n",
       "      <td>0</td>\n",
       "      <td>0</td>\n",
       "      <td>373450</td>\n",
       "      <td>8.0500</td>\n",
       "      <td>NaN</td>\n",
       "      <td>S</td>\n",
       "    </tr>\n",
       "  </tbody>\n",
       "</table>\n",
       "</div>"
      ],
      "text/plain": [
       "   PassengerId  Survived  Pclass  \\\n",
       "0            1         0       3   \n",
       "1            2         1       1   \n",
       "2            3         1       3   \n",
       "3            4         1       1   \n",
       "4            5         0       3   \n",
       "\n",
       "                                                Name     Sex   Age  SibSp  \\\n",
       "0                            Braund, Mr. Owen Harris    male  22.0      1   \n",
       "1  Cumings, Mrs. John Bradley (Florence Briggs Th...  female  38.0      1   \n",
       "2                             Heikkinen, Miss. Laina  female  26.0      0   \n",
       "3       Futrelle, Mrs. Jacques Heath (Lily May Peel)  female  35.0      1   \n",
       "4                           Allen, Mr. William Henry    male  35.0      0   \n",
       "\n",
       "   Parch            Ticket     Fare Cabin Embarked  \n",
       "0      0         A/5 21171   7.2500   NaN        S  \n",
       "1      0          PC 17599  71.2833   C85        C  \n",
       "2      0  STON/O2. 3101282   7.9250   NaN        S  \n",
       "3      0            113803  53.1000  C123        S  \n",
       "4      0            373450   8.0500   NaN        S  "
      ]
     },
     "execution_count": 13,
     "metadata": {},
     "output_type": "execute_result"
    }
   ],
   "source": [
    "data.head()"
   ]
  },
  {
   "cell_type": "code",
   "execution_count": 16,
   "id": "8e63c9ba",
   "metadata": {},
   "outputs": [
    {
     "data": {
      "text/html": [
       "<div>\n",
       "<style scoped>\n",
       "    .dataframe tbody tr th:only-of-type {\n",
       "        vertical-align: middle;\n",
       "    }\n",
       "\n",
       "    .dataframe tbody tr th {\n",
       "        vertical-align: top;\n",
       "    }\n",
       "\n",
       "    .dataframe thead th {\n",
       "        text-align: right;\n",
       "    }\n",
       "</style>\n",
       "<table border=\"1\" class=\"dataframe\">\n",
       "  <thead>\n",
       "    <tr style=\"text-align: right;\">\n",
       "      <th></th>\n",
       "      <th>PassengerId</th>\n",
       "      <th>Survived</th>\n",
       "      <th>Pclass</th>\n",
       "      <th>Name</th>\n",
       "      <th>Sex</th>\n",
       "      <th>Age</th>\n",
       "      <th>SibSp</th>\n",
       "      <th>Parch</th>\n",
       "      <th>Ticket</th>\n",
       "      <th>Fare</th>\n",
       "      <th>Cabin</th>\n",
       "      <th>Embarked</th>\n",
       "    </tr>\n",
       "  </thead>\n",
       "  <tbody>\n",
       "    <tr>\n",
       "      <th>0</th>\n",
       "      <td>1</td>\n",
       "      <td>0</td>\n",
       "      <td>3</td>\n",
       "      <td>Braund, Mr. Owen Harris</td>\n",
       "      <td>male</td>\n",
       "      <td>22.0</td>\n",
       "      <td>1</td>\n",
       "      <td>0</td>\n",
       "      <td>A/5 21171</td>\n",
       "      <td>7.2500</td>\n",
       "      <td>NaN</td>\n",
       "      <td>S</td>\n",
       "    </tr>\n",
       "    <tr>\n",
       "      <th>1</th>\n",
       "      <td>2</td>\n",
       "      <td>1</td>\n",
       "      <td>1</td>\n",
       "      <td>Cumings, Mrs. John Bradley (Florence Briggs Th...</td>\n",
       "      <td>female</td>\n",
       "      <td>38.0</td>\n",
       "      <td>1</td>\n",
       "      <td>0</td>\n",
       "      <td>PC 17599</td>\n",
       "      <td>71.2833</td>\n",
       "      <td>C85</td>\n",
       "      <td>C</td>\n",
       "    </tr>\n",
       "    <tr>\n",
       "      <th>2</th>\n",
       "      <td>3</td>\n",
       "      <td>1</td>\n",
       "      <td>3</td>\n",
       "      <td>Heikkinen, Miss. Laina</td>\n",
       "      <td>female</td>\n",
       "      <td>26.0</td>\n",
       "      <td>0</td>\n",
       "      <td>0</td>\n",
       "      <td>STON/O2. 3101282</td>\n",
       "      <td>7.9250</td>\n",
       "      <td>NaN</td>\n",
       "      <td>S</td>\n",
       "    </tr>\n",
       "    <tr>\n",
       "      <th>3</th>\n",
       "      <td>4</td>\n",
       "      <td>1</td>\n",
       "      <td>1</td>\n",
       "      <td>Futrelle, Mrs. Jacques Heath (Lily May Peel)</td>\n",
       "      <td>female</td>\n",
       "      <td>35.0</td>\n",
       "      <td>1</td>\n",
       "      <td>0</td>\n",
       "      <td>113803</td>\n",
       "      <td>53.1000</td>\n",
       "      <td>C123</td>\n",
       "      <td>S</td>\n",
       "    </tr>\n",
       "    <tr>\n",
       "      <th>4</th>\n",
       "      <td>5</td>\n",
       "      <td>0</td>\n",
       "      <td>3</td>\n",
       "      <td>Allen, Mr. William Henry</td>\n",
       "      <td>male</td>\n",
       "      <td>35.0</td>\n",
       "      <td>0</td>\n",
       "      <td>0</td>\n",
       "      <td>373450</td>\n",
       "      <td>8.0500</td>\n",
       "      <td>NaN</td>\n",
       "      <td>S</td>\n",
       "    </tr>\n",
       "    <tr>\n",
       "      <th>5</th>\n",
       "      <td>6</td>\n",
       "      <td>0</td>\n",
       "      <td>3</td>\n",
       "      <td>Moran, Mr. James</td>\n",
       "      <td>male</td>\n",
       "      <td>NaN</td>\n",
       "      <td>0</td>\n",
       "      <td>0</td>\n",
       "      <td>330877</td>\n",
       "      <td>8.4583</td>\n",
       "      <td>NaN</td>\n",
       "      <td>Q</td>\n",
       "    </tr>\n",
       "    <tr>\n",
       "      <th>6</th>\n",
       "      <td>7</td>\n",
       "      <td>0</td>\n",
       "      <td>1</td>\n",
       "      <td>McCarthy, Mr. Timothy J</td>\n",
       "      <td>male</td>\n",
       "      <td>54.0</td>\n",
       "      <td>0</td>\n",
       "      <td>0</td>\n",
       "      <td>17463</td>\n",
       "      <td>51.8625</td>\n",
       "      <td>E46</td>\n",
       "      <td>S</td>\n",
       "    </tr>\n",
       "    <tr>\n",
       "      <th>7</th>\n",
       "      <td>8</td>\n",
       "      <td>0</td>\n",
       "      <td>3</td>\n",
       "      <td>Palsson, Master. Gosta Leonard</td>\n",
       "      <td>male</td>\n",
       "      <td>2.0</td>\n",
       "      <td>3</td>\n",
       "      <td>1</td>\n",
       "      <td>349909</td>\n",
       "      <td>21.0750</td>\n",
       "      <td>NaN</td>\n",
       "      <td>S</td>\n",
       "    </tr>\n",
       "    <tr>\n",
       "      <th>8</th>\n",
       "      <td>9</td>\n",
       "      <td>1</td>\n",
       "      <td>3</td>\n",
       "      <td>Johnson, Mrs. Oscar W (Elisabeth Vilhelmina Berg)</td>\n",
       "      <td>female</td>\n",
       "      <td>27.0</td>\n",
       "      <td>0</td>\n",
       "      <td>2</td>\n",
       "      <td>347742</td>\n",
       "      <td>11.1333</td>\n",
       "      <td>NaN</td>\n",
       "      <td>S</td>\n",
       "    </tr>\n",
       "    <tr>\n",
       "      <th>9</th>\n",
       "      <td>10</td>\n",
       "      <td>1</td>\n",
       "      <td>2</td>\n",
       "      <td>Nasser, Mrs. Nicholas (Adele Achem)</td>\n",
       "      <td>female</td>\n",
       "      <td>14.0</td>\n",
       "      <td>1</td>\n",
       "      <td>0</td>\n",
       "      <td>237736</td>\n",
       "      <td>30.0708</td>\n",
       "      <td>NaN</td>\n",
       "      <td>C</td>\n",
       "    </tr>\n",
       "    <tr>\n",
       "      <th>10</th>\n",
       "      <td>11</td>\n",
       "      <td>1</td>\n",
       "      <td>3</td>\n",
       "      <td>Sandstrom, Miss. Marguerite Rut</td>\n",
       "      <td>female</td>\n",
       "      <td>4.0</td>\n",
       "      <td>1</td>\n",
       "      <td>1</td>\n",
       "      <td>PP 9549</td>\n",
       "      <td>16.7000</td>\n",
       "      <td>G6</td>\n",
       "      <td>S</td>\n",
       "    </tr>\n",
       "    <tr>\n",
       "      <th>11</th>\n",
       "      <td>12</td>\n",
       "      <td>1</td>\n",
       "      <td>1</td>\n",
       "      <td>Bonnell, Miss. Elizabeth</td>\n",
       "      <td>female</td>\n",
       "      <td>58.0</td>\n",
       "      <td>0</td>\n",
       "      <td>0</td>\n",
       "      <td>113783</td>\n",
       "      <td>26.5500</td>\n",
       "      <td>C103</td>\n",
       "      <td>S</td>\n",
       "    </tr>\n",
       "    <tr>\n",
       "      <th>12</th>\n",
       "      <td>13</td>\n",
       "      <td>0</td>\n",
       "      <td>3</td>\n",
       "      <td>Saundercock, Mr. William Henry</td>\n",
       "      <td>male</td>\n",
       "      <td>20.0</td>\n",
       "      <td>0</td>\n",
       "      <td>0</td>\n",
       "      <td>A/5. 2151</td>\n",
       "      <td>8.0500</td>\n",
       "      <td>NaN</td>\n",
       "      <td>S</td>\n",
       "    </tr>\n",
       "    <tr>\n",
       "      <th>13</th>\n",
       "      <td>14</td>\n",
       "      <td>0</td>\n",
       "      <td>3</td>\n",
       "      <td>Andersson, Mr. Anders Johan</td>\n",
       "      <td>male</td>\n",
       "      <td>39.0</td>\n",
       "      <td>1</td>\n",
       "      <td>5</td>\n",
       "      <td>347082</td>\n",
       "      <td>31.2750</td>\n",
       "      <td>NaN</td>\n",
       "      <td>S</td>\n",
       "    </tr>\n",
       "    <tr>\n",
       "      <th>14</th>\n",
       "      <td>15</td>\n",
       "      <td>0</td>\n",
       "      <td>3</td>\n",
       "      <td>Vestrom, Miss. Hulda Amanda Adolfina</td>\n",
       "      <td>female</td>\n",
       "      <td>14.0</td>\n",
       "      <td>0</td>\n",
       "      <td>0</td>\n",
       "      <td>350406</td>\n",
       "      <td>7.8542</td>\n",
       "      <td>NaN</td>\n",
       "      <td>S</td>\n",
       "    </tr>\n",
       "  </tbody>\n",
       "</table>\n",
       "</div>"
      ],
      "text/plain": [
       "    PassengerId  Survived  Pclass  \\\n",
       "0             1         0       3   \n",
       "1             2         1       1   \n",
       "2             3         1       3   \n",
       "3             4         1       1   \n",
       "4             5         0       3   \n",
       "5             6         0       3   \n",
       "6             7         0       1   \n",
       "7             8         0       3   \n",
       "8             9         1       3   \n",
       "9            10         1       2   \n",
       "10           11         1       3   \n",
       "11           12         1       1   \n",
       "12           13         0       3   \n",
       "13           14         0       3   \n",
       "14           15         0       3   \n",
       "\n",
       "                                                 Name     Sex   Age  SibSp  \\\n",
       "0                             Braund, Mr. Owen Harris    male  22.0      1   \n",
       "1   Cumings, Mrs. John Bradley (Florence Briggs Th...  female  38.0      1   \n",
       "2                              Heikkinen, Miss. Laina  female  26.0      0   \n",
       "3        Futrelle, Mrs. Jacques Heath (Lily May Peel)  female  35.0      1   \n",
       "4                            Allen, Mr. William Henry    male  35.0      0   \n",
       "5                                    Moran, Mr. James    male   NaN      0   \n",
       "6                             McCarthy, Mr. Timothy J    male  54.0      0   \n",
       "7                      Palsson, Master. Gosta Leonard    male   2.0      3   \n",
       "8   Johnson, Mrs. Oscar W (Elisabeth Vilhelmina Berg)  female  27.0      0   \n",
       "9                 Nasser, Mrs. Nicholas (Adele Achem)  female  14.0      1   \n",
       "10                    Sandstrom, Miss. Marguerite Rut  female   4.0      1   \n",
       "11                           Bonnell, Miss. Elizabeth  female  58.0      0   \n",
       "12                     Saundercock, Mr. William Henry    male  20.0      0   \n",
       "13                        Andersson, Mr. Anders Johan    male  39.0      1   \n",
       "14               Vestrom, Miss. Hulda Amanda Adolfina  female  14.0      0   \n",
       "\n",
       "    Parch            Ticket     Fare Cabin Embarked  \n",
       "0       0         A/5 21171   7.2500   NaN        S  \n",
       "1       0          PC 17599  71.2833   C85        C  \n",
       "2       0  STON/O2. 3101282   7.9250   NaN        S  \n",
       "3       0            113803  53.1000  C123        S  \n",
       "4       0            373450   8.0500   NaN        S  \n",
       "5       0            330877   8.4583   NaN        Q  \n",
       "6       0             17463  51.8625   E46        S  \n",
       "7       1            349909  21.0750   NaN        S  \n",
       "8       2            347742  11.1333   NaN        S  \n",
       "9       0            237736  30.0708   NaN        C  \n",
       "10      1           PP 9549  16.7000    G6        S  \n",
       "11      0            113783  26.5500  C103        S  \n",
       "12      0         A/5. 2151   8.0500   NaN        S  \n",
       "13      5            347082  31.2750   NaN        S  \n",
       "14      0            350406   7.8542   NaN        S  "
      ]
     },
     "execution_count": 16,
     "metadata": {},
     "output_type": "execute_result"
    }
   ],
   "source": [
    "data.head(15)"
   ]
  },
  {
   "cell_type": "markdown",
   "id": "06606202",
   "metadata": {},
   "source": [
    "#data.to string"
   ]
  },
  {
   "cell_type": "code",
   "execution_count": null,
   "id": "ec1971ff",
   "metadata": {},
   "outputs": [],
   "source": [
    "to print the whole dataset\n"
   ]
  },
  {
   "cell_type": "code",
   "execution_count": 24,
   "id": "25dbe767",
   "metadata": {},
   "outputs": [
    {
     "data": {
      "text/plain": [
       "'     PassengerId  Survived  Pclass                                                                                Name     Sex    Age  SibSp  Parch              Ticket      Fare            Cabin Embarked\\n0              1         0       3                                                             Braund, Mr. Owen Harris    male  22.00      1      0           A/5 21171    7.2500              NaN        S\\n1              2         1       1                                 Cumings, Mrs. John Bradley (Florence Briggs Thayer)  female  38.00      1      0            PC 17599   71.2833              C85        C\\n2              3         1       3                                                              Heikkinen, Miss. Laina  female  26.00      0      0    STON/O2. 3101282    7.9250              NaN        S\\n3              4         1       1                                        Futrelle, Mrs. Jacques Heath (Lily May Peel)  female  35.00      1      0              113803   53.1000             C123        S\\n4              5         0       3                                                            Allen, Mr. William Henry    male  35.00      0      0              373450    8.0500              NaN        S\\n5              6         0       3                                                                    Moran, Mr. James    male    NaN      0      0              330877    8.4583              NaN        Q\\n6              7         0       1                                                             McCarthy, Mr. Timothy J    male  54.00      0      0               17463   51.8625              E46        S\\n7              8         0       3                                                      Palsson, Master. Gosta Leonard    male   2.00      3      1              349909   21.0750              NaN        S\\n8              9         1       3                                   Johnson, Mrs. Oscar W (Elisabeth Vilhelmina Berg)  female  27.00      0      2              347742   11.1333              NaN        S\\n9             10         1       2                                                 Nasser, Mrs. Nicholas (Adele Achem)  female  14.00      1      0              237736   30.0708              NaN        C\\n10            11         1       3                                                     Sandstrom, Miss. Marguerite Rut  female   4.00      1      1             PP 9549   16.7000               G6        S\\n11            12         1       1                                                            Bonnell, Miss. Elizabeth  female  58.00      0      0              113783   26.5500             C103        S\\n12            13         0       3                                                      Saundercock, Mr. William Henry    male  20.00      0      0           A/5. 2151    8.0500              NaN        S\\n13            14         0       3                                                         Andersson, Mr. Anders Johan    male  39.00      1      5              347082   31.2750              NaN        S\\n14            15         0       3                                                Vestrom, Miss. Hulda Amanda Adolfina  female  14.00      0      0              350406    7.8542              NaN        S\\n15            16         1       2                                                    Hewlett, Mrs. (Mary D Kingcome)   female  55.00      0      0              248706   16.0000              NaN        S\\n16            17         0       3                                                                Rice, Master. Eugene    male   2.00      4      1              382652   29.1250              NaN        Q\\n17            18         1       2                                                        Williams, Mr. Charles Eugene    male    NaN      0      0              244373   13.0000              NaN        S\\n18            19         0       3                             Vander Planke, Mrs. Julius (Emelia Maria Vandemoortele)  female  31.00      1      0              345763   18.0000              NaN        S\\n19            20         1       3                                                             Masselmani, Mrs. Fatima  female    NaN      0      0                2649    7.2250              NaN        C\\n20            21         0       2                                                                Fynney, Mr. Joseph J    male  35.00      0      0              239865   26.0000              NaN        S\\n21            22         1       2                                                               Beesley, Mr. Lawrence    male  34.00      0      0              248698   13.0000              D56        S\\n22            23         1       3                                                         McGowan, Miss. Anna \"Annie\"  female  15.00      0      0              330923    8.0292              NaN        Q\\n23            24         1       1                                                        Sloper, Mr. William Thompson    male  28.00      0      0              113788   35.5000               A6        S\\n24            25         0       3                                                       Palsson, Miss. Torborg Danira  female   8.00      3      1              349909   21.0750              NaN        S\\n25            26         1       3                           Asplund, Mrs. Carl Oscar (Selma Augusta Emilia Johansson)  female  38.00      1      5              347077   31.3875              NaN        S\\n26            27         0       3                                                             Emir, Mr. Farred Chehab    male    NaN      0      0                2631    7.2250              NaN        C\\n27            28         0       1                                                      Fortune, Mr. Charles Alexander    male  19.00      3      2               19950  263.0000      C23 C25 C27        S\\n28            29         1       3                                                       O\\'Dwyer, Miss. Ellen \"Nellie\"  female    NaN      0      0              330959    7.8792              NaN        Q\\n29            30         0       3                                                                 Todoroff, Mr. Lalio    male    NaN      0      0              349216    7.8958              NaN        S\\n30            31         0       1                                                            Uruchurtu, Don. Manuel E    male  40.00      0      0            PC 17601   27.7208              NaN        C\\n31            32         1       1                                      Spencer, Mrs. William Augustus (Marie Eugenie)  female    NaN      1      0            PC 17569  146.5208              B78        C\\n32            33         1       3                                                            Glynn, Miss. Mary Agatha  female    NaN      0      0              335677    7.7500              NaN        Q\\n33            34         0       2                                                               Wheadon, Mr. Edward H    male  66.00      0      0          C.A. 24579   10.5000              NaN        S\\n34            35         0       1                                                             Meyer, Mr. Edgar Joseph    male  28.00      1      0            PC 17604   82.1708              NaN        C\\n35            36         0       1                                                      Holverson, Mr. Alexander Oskar    male  42.00      1      0              113789   52.0000              NaN        S\\n36            37         1       3                                                                    Mamee, Mr. Hanna    male    NaN      0      0                2677    7.2292              NaN        C\\n37            38         0       3                                                            Cann, Mr. Ernest Charles    male  21.00      0      0          A./5. 2152    8.0500              NaN        S\\n38            39         0       3                                                  Vander Planke, Miss. Augusta Maria  female  18.00      2      0              345764   18.0000              NaN        S\\n39            40         1       3                                                         Nicola-Yarred, Miss. Jamila  female  14.00      1      0                2651   11.2417              NaN        C\\n40            41         0       3                                      Ahlin, Mrs. Johan (Johanna Persdotter Larsson)  female  40.00      1      0                7546    9.4750              NaN        S\\n41            42         0       2                            Turpin, Mrs. William John Robert (Dorothy Ann Wonnacott)  female  27.00      1      0               11668   21.0000              NaN        S\\n42            43         0       3                                                                 Kraeff, Mr. Theodor    male    NaN      0      0              349253    7.8958              NaN        C\\n43            44         1       2                                            Laroche, Miss. Simonne Marie Anne Andree  female   3.00      1      2       SC/Paris 2123   41.5792              NaN        C\\n44            45         1       3                                                       Devaney, Miss. Margaret Delia  female  19.00      0      0              330958    7.8792              NaN        Q\\n45            46         0       3                                                            Rogers, Mr. William John    male    NaN      0      0     S.C./A.4. 23567    8.0500              NaN        S\\n46            47         0       3                                                                   Lennon, Mr. Denis    male    NaN      1      0              370371   15.5000              NaN        Q\\n47            48         1       3                                                           O\\'Driscoll, Miss. Bridget  female    NaN      0      0               14311    7.7500              NaN        Q\\n48            49         0       3                                                                 Samaan, Mr. Youssef    male    NaN      2      0                2662   21.6792              NaN        C\\n49            50         0       3                                       Arnold-Franchi, Mrs. Josef (Josefine Franchi)  female  18.00      1      0              349237   17.8000              NaN        S\\n50            51         0       3                                                          Panula, Master. Juha Niilo    male   7.00      4      1             3101295   39.6875              NaN        S\\n51            52         0       3                                                        Nosworthy, Mr. Richard Cater    male  21.00      0      0          A/4. 39886    7.8000              NaN        S\\n52            53         1       1                                            Harper, Mrs. Henry Sleeper (Myna Haxtun)  female  49.00      1      0            PC 17572   76.7292              D33        C\\n53            54         1       2                                  Faunthorpe, Mrs. Lizzie (Elizabeth Anne Wilkinson)  female  29.00      1      0                2926   26.0000              NaN        S\\n54            55         0       1                                                      Ostby, Mr. Engelhart Cornelius    male  65.00      0      1              113509   61.9792              B30        C\\n55            56         1       1                                                                   Woolner, Mr. Hugh    male    NaN      0      0               19947   35.5000              C52        S\\n56            57         1       2                                                                   Rugg, Miss. Emily  female  21.00      0      0          C.A. 31026   10.5000              NaN        S\\n57            58         0       3                                                                 Novel, Mr. Mansouer    male  28.50      0      0                2697    7.2292              NaN        C\\n58            59         1       2                                                        West, Miss. Constance Mirium  female   5.00      1      2          C.A. 34651   27.7500              NaN        S\\n59            60         0       3                                                  Goodwin, Master. William Frederick    male  11.00      5      2             CA 2144   46.9000              NaN        S\\n60            61         0       3                                                               Sirayanian, Mr. Orsen    male  22.00      0      0                2669    7.2292              NaN        C\\n61            62         1       1                                                                 Icard, Miss. Amelie  female  38.00      0      0              113572   80.0000              B28      NaN\\n62            63         0       1                                                         Harris, Mr. Henry Birkhardt    male  45.00      1      0               36973   83.4750              C83        S\\n63            64         0       3                                                               Skoog, Master. Harald    male   4.00      3      2              347088   27.9000              NaN        S\\n64            65         0       1                                                               Stewart, Mr. Albert A    male    NaN      0      0            PC 17605   27.7208              NaN        C\\n65            66         1       3                                                            Moubarek, Master. Gerios    male    NaN      1      1                2661   15.2458              NaN        C\\n66            67         1       2                                                        Nye, Mrs. (Elizabeth Ramell)  female  29.00      0      0          C.A. 29395   10.5000              F33        S\\n67            68         0       3                                                            Crease, Mr. Ernest James    male  19.00      0      0           S.P. 3464    8.1583              NaN        S\\n68            69         1       3                                                     Andersson, Miss. Erna Alexandra  female  17.00      4      2             3101281    7.9250              NaN        S\\n69            70         0       3                                                                   Kink, Mr. Vincenz    male  26.00      2      0              315151    8.6625              NaN        S\\n70            71         0       2                                                          Jenkin, Mr. Stephen Curnow    male  32.00      0      0          C.A. 33111   10.5000              NaN        S\\n71            72         0       3                                                          Goodwin, Miss. Lillian Amy  female  16.00      5      2             CA 2144   46.9000              NaN        S\\n72            73         0       2                                                                Hood, Mr. Ambrose Jr    male  21.00      0      0        S.O.C. 14879   73.5000              NaN        S\\n73            74         0       3                                                         Chronopoulos, Mr. Apostolos    male  26.00      1      0                2680   14.4542              NaN        C\\n74            75         1       3                                                                       Bing, Mr. Lee    male  32.00      0      0                1601   56.4958              NaN        S\\n75            76         0       3                                                             Moen, Mr. Sigurd Hansen    male  25.00      0      0              348123    7.6500            F G73        S\\n76            77         0       3                                                                   Staneff, Mr. Ivan    male    NaN      0      0              349208    7.8958              NaN        S\\n77            78         0       3                                                            Moutal, Mr. Rahamin Haim    male    NaN      0      0              374746    8.0500              NaN        S\\n78            79         1       2                                                       Caldwell, Master. Alden Gates    male   0.83      0      2              248738   29.0000              NaN        S\\n79            80         1       3                                                            Dowdell, Miss. Elizabeth  female  30.00      0      0              364516   12.4750              NaN        S\\n80            81         0       3                                                                Waelens, Mr. Achille    male  22.00      0      0              345767    9.0000              NaN        S\\n81            82         1       3                                                         Sheerlinck, Mr. Jan Baptist    male  29.00      0      0              345779    9.5000              NaN        S\\n82            83         1       3                                                      McDermott, Miss. Brigdet Delia  female    NaN      0      0              330932    7.7875              NaN        Q\\n83            84         0       1                                                             Carrau, Mr. Francisco M    male  28.00      0      0              113059   47.1000              NaN        S\\n84            85         1       2                                                                 Ilett, Miss. Bertha  female  17.00      0      0          SO/C 14885   10.5000              NaN        S\\n85            86         1       3                             Backstrom, Mrs. Karl Alfred (Maria Mathilda Gustafsson)  female  33.00      3      0             3101278   15.8500              NaN        S\\n86            87         0       3                                                              Ford, Mr. William Neal    male  16.00      1      3          W./C. 6608   34.3750              NaN        S\\n87            88         0       3                                                       Slocovski, Mr. Selman Francis    male    NaN      0      0     SOTON/OQ 392086    8.0500              NaN        S\\n88            89         1       1                                                          Fortune, Miss. Mabel Helen  female  23.00      3      2               19950  263.0000      C23 C25 C27        S\\n89            90         0       3                                                              Celotti, Mr. Francesco    male  24.00      0      0              343275    8.0500              NaN        S\\n90            91         0       3                                                                Christmann, Mr. Emil    male  29.00      0      0              343276    8.0500              NaN        S\\n91            92         0       3                                                          Andreasson, Mr. Paul Edvin    male  20.00      0      0              347466    7.8542              NaN        S\\n92            93         0       1                                                         Chaffee, Mr. Herbert Fuller    male  46.00      1      0         W.E.P. 5734   61.1750              E31        S\\n93            94         0       3                                                             Dean, Mr. Bertram Frank    male  26.00      1      2           C.A. 2315   20.5750              NaN        S\\n94            95         0       3                                                                   Coxon, Mr. Daniel    male  59.00      0      0              364500    7.2500              NaN        S\\n95            96         0       3                                                         Shorney, Mr. Charles Joseph    male    NaN      0      0              374910    8.0500              NaN        S\\n96            97         0       1                                                           Goldschmidt, Mr. George B    male  71.00      0      0            PC 17754   34.6542               A5        C\\n97            98         1       1                                                     Greenfield, Mr. William Bertram    male  23.00      0      1            PC 17759   63.3583          D10 D12        C\\n98            99         1       2                                                Doling, Mrs. John T (Ada Julia Bone)  female  34.00      0      1              231919   23.0000              NaN        S\\n99           100         0       2                                                                   Kantor, Mr. Sinai    male  34.00      1      0              244367   26.0000              NaN        S\\n100          101         0       3                                                             Petranec, Miss. Matilda  female  28.00      0      0              349245    7.8958              NaN        S\\n101          102         0       3                                                    Petroff, Mr. Pastcho (\"Pentcho\")    male    NaN      0      0              349215    7.8958              NaN        S\\n102          103         0       1                                                           White, Mr. Richard Frasar    male  21.00      0      1               35281   77.2875              D26        S\\n103          104         0       3                                                          Johansson, Mr. Gustaf Joel    male  33.00      0      0                7540    8.6542              NaN        S\\n104          105         0       3                                                      Gustafsson, Mr. Anders Vilhelm    male  37.00      2      0             3101276    7.9250              NaN        S\\n105          106         0       3                                                               Mionoff, Mr. Stoytcho    male  28.00      0      0              349207    7.8958              NaN        S\\n106          107         1       3                                                    Salkjelsvik, Miss. Anna Kristine  female  21.00      0      0              343120    7.6500              NaN        S\\n107          108         1       3                                                              Moss, Mr. Albert Johan    male    NaN      0      0              312991    7.7750              NaN        S\\n108          109         0       3                                                                     Rekic, Mr. Tido    male  38.00      0      0              349249    7.8958              NaN        S\\n109          110         1       3                                                                 Moran, Miss. Bertha  female    NaN      1      0              371110   24.1500              NaN        Q\\n110          111         0       1                                                      Porter, Mr. Walter Chamberlain    male  47.00      0      0              110465   52.0000             C110        S\\n111          112         0       3                                                                Zabour, Miss. Hileni  female  14.50      1      0                2665   14.4542              NaN        C\\n112          113         0       3                                                              Barton, Mr. David John    male  22.00      0      0              324669    8.0500              NaN        S\\n113          114         0       3                                                             Jussila, Miss. Katriina  female  20.00      1      0                4136    9.8250              NaN        S\\n114          115         0       3                                                               Attalah, Miss. Malake  female  17.00      0      0                2627   14.4583              NaN        C\\n115          116         0       3                                                               Pekoniemi, Mr. Edvard    male  21.00      0      0   STON/O 2. 3101294    7.9250              NaN        S\\n116          117         0       3                                                                Connors, Mr. Patrick    male  70.50      0      0              370369    7.7500              NaN        Q\\n117          118         0       2                                                     Turpin, Mr. William John Robert    male  29.00      1      0               11668   21.0000              NaN        S\\n118          119         0       1                                                            Baxter, Mr. Quigg Edmond    male  24.00      0      1            PC 17558  247.5208          B58 B60        C\\n119          120         0       3                                                   Andersson, Miss. Ellis Anna Maria  female   2.00      4      2              347082   31.2750              NaN        S\\n120          121         0       2                                                         Hickman, Mr. Stanley George    male  21.00      2      0        S.O.C. 14879   73.5000              NaN        S\\n121          122         0       3                                                          Moore, Mr. Leonard Charles    male    NaN      0      0           A4. 54510    8.0500              NaN        S\\n122          123         0       2                                                                Nasser, Mr. Nicholas    male  32.50      1      0              237736   30.0708              NaN        C\\n123          124         1       2                                                                 Webber, Miss. Susan  female  32.50      0      0               27267   13.0000             E101        S\\n124          125         0       1                                                         White, Mr. Percival Wayland    male  54.00      0      1               35281   77.2875              D26        S\\n125          126         1       3                                                        Nicola-Yarred, Master. Elias    male  12.00      1      0                2651   11.2417              NaN        C\\n126          127         0       3                                                                 McMahon, Mr. Martin    male    NaN      0      0              370372    7.7500              NaN        Q\\n127          128         1       3                                                           Madsen, Mr. Fridtjof Arne    male  24.00      0      0             C 17369    7.1417              NaN        S\\n128          129         1       3                                                                   Peter, Miss. Anna  female    NaN      1      1                2668   22.3583            F E69        C\\n129          130         0       3                                                                  Ekstrom, Mr. Johan    male  45.00      0      0              347061    6.9750              NaN        S\\n130          131         0       3                                                                Drazenoic, Mr. Jozef    male  33.00      0      0              349241    7.8958              NaN        C\\n131          132         0       3                                                      Coelho, Mr. Domingos Fernandeo    male  20.00      0      0  SOTON/O.Q. 3101307    7.0500              NaN        S\\n132          133         0       3                                      Robins, Mrs. Alexander A (Grace Charity Laury)  female  47.00      1      0           A/5. 3337   14.5000              NaN        S\\n133          134         1       2                                       Weisz, Mrs. Leopold (Mathilde Francoise Pede)  female  29.00      1      0              228414   26.0000              NaN        S\\n134          135         0       2                                                      Sobey, Mr. Samuel James Hayden    male  25.00      0      0          C.A. 29178   13.0000              NaN        S\\n135          136         0       2                                                                  Richard, Mr. Emile    male  23.00      0      0       SC/PARIS 2133   15.0458              NaN        C\\n136          137         1       1                                                        Newsom, Miss. Helen Monypeny  female  19.00      0      2               11752   26.2833              D47        S\\n137          138         0       1                                                         Futrelle, Mr. Jacques Heath    male  37.00      1      0              113803   53.1000             C123        S\\n138          139         0       3                                                                 Osen, Mr. Olaf Elon    male  16.00      0      0                7534    9.2167              NaN        S\\n139          140         0       1                                                                  Giglio, Mr. Victor    male  24.00      0      0            PC 17593   79.2000              B86        C\\n140          141         0       3                                                       Boulos, Mrs. Joseph (Sultana)  female    NaN      0      2                2678   15.2458              NaN        C\\n141          142         1       3                                                            Nysten, Miss. Anna Sofia  female  22.00      0      0              347081    7.7500              NaN        S\\n142          143         1       3                                Hakkarainen, Mrs. Pekka Pietari (Elin Matilda Dolck)  female  24.00      1      0    STON/O2. 3101279   15.8500              NaN        S\\n143          144         0       3                                                                 Burke, Mr. Jeremiah    male  19.00      0      0              365222    6.7500              NaN        Q\\n144          145         0       2                                                          Andrew, Mr. Edgardo Samuel    male  18.00      0      0              231945   11.5000              NaN        S\\n145          146         0       2                                                        Nicholls, Mr. Joseph Charles    male  19.00      1      1          C.A. 33112   36.7500              NaN        S\\n146          147         1       3                                        Andersson, Mr. August Edvard (\"Wennerstrom\")    male  27.00      0      0              350043    7.7958              NaN        S\\n147          148         0       3                                                    Ford, Miss. Robina Maggie \"Ruby\"  female   9.00      2      2          W./C. 6608   34.3750              NaN        S\\n148          149         0       2                                            Navratil, Mr. Michel (\"Louis M Hoffman\")    male  36.50      0      2              230080   26.0000               F2        S\\n149          150         0       2                                                   Byles, Rev. Thomas Roussel Davids    male  42.00      0      0              244310   13.0000              NaN        S\\n150          151         0       2                                                          Bateman, Rev. Robert James    male  51.00      0      0         S.O.P. 1166   12.5250              NaN        S\\n151          152         1       1                                                   Pears, Mrs. Thomas (Edith Wearne)  female  22.00      1      0              113776   66.6000               C2        S\\n152          153         0       3                                                                    Meo, Mr. Alfonzo    male  55.50      0      0          A.5. 11206    8.0500              NaN        S\\n153          154         0       3                                                     van Billiard, Mr. Austin Blyler    male  40.50      0      2            A/5. 851   14.5000              NaN        S\\n154          155         0       3                                                               Olsen, Mr. Ole Martin    male    NaN      0      0           Fa 265302    7.3125              NaN        S\\n155          156         0       1                                                         Williams, Mr. Charles Duane    male  51.00      0      1            PC 17597   61.3792              NaN        C\\n156          157         1       3                                                    Gilnagh, Miss. Katherine \"Katie\"  female  16.00      0      0               35851    7.7333              NaN        Q\\n157          158         0       3                                                                     Corn, Mr. Harry    male  30.00      0      0     SOTON/OQ 392090    8.0500              NaN        S\\n158          159         0       3                                                                 Smiljanic, Mr. Mile    male    NaN      0      0              315037    8.6625              NaN        S\\n159          160         0       3                                                          Sage, Master. Thomas Henry    male    NaN      8      2            CA. 2343   69.5500              NaN        S\\n160          161         0       3                                                            Cribb, Mr. John Hatfield    male  44.00      0      1              371362   16.1000              NaN        S\\n161          162         1       2                                  Watt, Mrs. James (Elizabeth \"Bessie\" Inglis Milne)  female  40.00      0      0          C.A. 33595   15.7500              NaN        S\\n162          163         0       3                                                          Bengtsson, Mr. John Viktor    male  26.00      0      0              347068    7.7750              NaN        S\\n163          164         0       3                                                                     Calic, Mr. Jovo    male  17.00      0      0              315093    8.6625              NaN        S\\n164          165         0       3                                                        Panula, Master. Eino Viljami    male   1.00      4      1             3101295   39.6875              NaN        S\\n165          166         1       3                                     Goldsmith, Master. Frank John William \"Frankie\"    male   9.00      0      2              363291   20.5250              NaN        S\\n166          167         1       1                                              Chibnall, Mrs. (Edith Martha Bowerman)  female    NaN      0      1              113505   55.0000              E33        S\\n167          168         0       3                                     Skoog, Mrs. William (Anna Bernhardina Karlsson)  female  45.00      1      4              347088   27.9000              NaN        S\\n168          169         0       1                                                                 Baumann, Mr. John D    male    NaN      0      0            PC 17318   25.9250              NaN        S\\n169          170         0       3                                                                       Ling, Mr. Lee    male  28.00      0      0                1601   56.4958              NaN        S\\n170          171         0       1                                                           Van der hoef, Mr. Wyckoff    male  61.00      0      0              111240   33.5000              B19        S\\n171          172         0       3                                                                Rice, Master. Arthur    male   4.00      4      1              382652   29.1250              NaN        Q\\n172          173         1       3                                                        Johnson, Miss. Eleanor Ileen  female   1.00      1      1              347742   11.1333              NaN        S\\n173          174         0       3                                                           Sivola, Mr. Antti Wilhelm    male  21.00      0      0   STON/O 2. 3101280    7.9250              NaN        S\\n174          175         0       1                                                             Smith, Mr. James Clinch    male  56.00      0      0               17764   30.6958               A7        C\\n175          176         0       3                                                              Klasen, Mr. Klas Albin    male  18.00      1      1              350404    7.8542              NaN        S\\n176          177         0       3                                                       Lefebre, Master. Henry Forbes    male    NaN      3      1                4133   25.4667              NaN        S\\n177          178         0       1                                                          Isham, Miss. Ann Elizabeth  female  50.00      0      0            PC 17595   28.7125              C49        C\\n178          179         0       2                                                                  Hale, Mr. Reginald    male  30.00      0      0              250653   13.0000              NaN        S\\n179          180         0       3                                                                 Leonard, Mr. Lionel    male  36.00      0      0                LINE    0.0000              NaN        S\\n180          181         0       3                                                        Sage, Miss. Constance Gladys  female    NaN      8      2            CA. 2343   69.5500              NaN        S\\n181          182         0       2                                                                    Pernot, Mr. Rene    male    NaN      0      0       SC/PARIS 2131   15.0500              NaN        C\\n182          183         0       3                                               Asplund, Master. Clarence Gustaf Hugo    male   9.00      4      2              347077   31.3875              NaN        S\\n183          184         1       2                                                           Becker, Master. Richard F    male   1.00      2      1              230136   39.0000               F4        S\\n184          185         1       3                                                 Kink-Heilmann, Miss. Luise Gretchen  female   4.00      0      2              315153   22.0250              NaN        S\\n185          186         0       1                                                               Rood, Mr. Hugh Roscoe    male    NaN      0      0              113767   50.0000              A32        S\\n186          187         1       3                                     O\\'Brien, Mrs. Thomas (Johanna \"Hannah\" Godfrey)  female    NaN      1      0              370365   15.5000              NaN        Q\\n187          188         1       1                                       Romaine, Mr. Charles Hallace (\"Mr C Rolmane\")    male  45.00      0      0              111428   26.5500              NaN        S\\n188          189         0       3                                                                    Bourke, Mr. John    male  40.00      1      1              364849   15.5000              NaN        Q\\n189          190         0       3                                                                 Turcin, Mr. Stjepan    male  36.00      0      0              349247    7.8958              NaN        S\\n190          191         1       2                                                                 Pinsky, Mrs. (Rosa)  female  32.00      0      0              234604   13.0000              NaN        S\\n191          192         0       2                                                               Carbines, Mr. William    male  19.00      0      0               28424   13.0000              NaN        S\\n192          193         1       3                                     Andersen-Jensen, Miss. Carla Christine Nielsine  female  19.00      1      0              350046    7.8542              NaN        S\\n193          194         1       2                                                          Navratil, Master. Michel M    male   3.00      1      1              230080   26.0000               F2        S\\n194          195         1       1                                           Brown, Mrs. James Joseph (Margaret Tobin)  female  44.00      0      0            PC 17610   27.7208               B4        C\\n195          196         1       1                                                                Lurette, Miss. Elise  female  58.00      0      0            PC 17569  146.5208              B80        C\\n196          197         0       3                                                                 Mernagh, Mr. Robert    male    NaN      0      0              368703    7.7500              NaN        Q\\n197          198         0       3                                                    Olsen, Mr. Karl Siegwart Andreas    male  42.00      0      1                4579    8.4042              NaN        S\\n198          199         1       3                                                    Madigan, Miss. Margaret \"Maggie\"  female    NaN      0      0              370370    7.7500              NaN        Q\\n199          200         0       2                                              Yrois, Miss. Henriette (\"Mrs Harbeck\")  female  24.00      0      0              248747   13.0000              NaN        S\\n200          201         0       3                                                      Vande Walle, Mr. Nestor Cyriel    male  28.00      0      0              345770    9.5000              NaN        S\\n201          202         0       3                                                                 Sage, Mr. Frederick    male    NaN      8      2            CA. 2343   69.5500              NaN        S\\n202          203         0       3                                                          Johanson, Mr. Jakob Alfred    male  34.00      0      0             3101264    6.4958              NaN        S\\n203          204         0       3                                                                Youseff, Mr. Gerious    male  45.50      0      0                2628    7.2250              NaN        C\\n204          205         1       3                                                            Cohen, Mr. Gurshon \"Gus\"    male  18.00      0      0            A/5 3540    8.0500              NaN        S\\n205          206         0       3                                                          Strom, Miss. Telma Matilda  female   2.00      0      1              347054   10.4625               G6        S\\n206          207         0       3                                                          Backstrom, Mr. Karl Alfred    male  32.00      1      0             3101278   15.8500              NaN        S\\n207          208         1       3                                                         Albimona, Mr. Nassef Cassem    male  26.00      0      0                2699   18.7875              NaN        C\\n208          209         1       3                                                           Carr, Miss. Helen \"Ellen\"  female  16.00      0      0              367231    7.7500              NaN        Q\\n209          210         1       1                                                                    Blank, Mr. Henry    male  40.00      0      0              112277   31.0000              A31        C\\n210          211         0       3                                                                      Ali, Mr. Ahmed    male  24.00      0      0  SOTON/O.Q. 3101311    7.0500              NaN        S\\n211          212         1       2                                                          Cameron, Miss. Clear Annie  female  35.00      0      0        F.C.C. 13528   21.0000              NaN        S\\n212          213         0       3                                                              Perkin, Mr. John Henry    male  22.00      0      0           A/5 21174    7.2500              NaN        S\\n213          214         0       2                                                         Givard, Mr. Hans Kristensen    male  30.00      0      0              250646   13.0000              NaN        S\\n214          215         0       3                                                                 Kiernan, Mr. Philip    male    NaN      1      0              367229    7.7500              NaN        Q\\n215          216         1       1                                                             Newell, Miss. Madeleine  female  31.00      1      0               35273  113.2750              D36        C\\n216          217         1       3                                                              Honkanen, Miss. Eliina  female  27.00      0      0    STON/O2. 3101283    7.9250              NaN        S\\n217          218         0       2                                                        Jacobsohn, Mr. Sidney Samuel    male  42.00      1      0              243847   27.0000              NaN        S\\n218          219         1       1                                                               Bazzani, Miss. Albina  female  32.00      0      0               11813   76.2917              D15        C\\n219          220         0       2                                                                  Harris, Mr. Walter    male  30.00      0      0           W/C 14208   10.5000              NaN        S\\n220          221         1       3                                                      Sunderland, Mr. Victor Francis    male  16.00      0      0     SOTON/OQ 392089    8.0500              NaN        S\\n221          222         0       2                                                                Bracken, Mr. James H    male  27.00      0      0              220367   13.0000              NaN        S\\n222          223         0       3                                                             Green, Mr. George Henry    male  51.00      0      0               21440    8.0500              NaN        S\\n223          224         0       3                                                                Nenkoff, Mr. Christo    male    NaN      0      0              349234    7.8958              NaN        S\\n224          225         1       1                                                        Hoyt, Mr. Frederick Maxfield    male  38.00      1      0               19943   90.0000              C93        S\\n225          226         0       3                                                        Berglund, Mr. Karl Ivar Sven    male  22.00      0      0             PP 4348    9.3500              NaN        S\\n226          227         1       2                                                           Mellors, Mr. William John    male  19.00      0      0           SW/PP 751   10.5000              NaN        S\\n227          228         0       3                                                     Lovell, Mr. John Hall (\"Henry\")    male  20.50      0      0           A/5 21173    7.2500              NaN        S\\n228          229         0       2                                                           Fahlstrom, Mr. Arne Jonas    male  18.00      0      0              236171   13.0000              NaN        S\\n229          230         0       3                                                             Lefebre, Miss. Mathilde  female    NaN      3      1                4133   25.4667              NaN        S\\n230          231         1       1                                        Harris, Mrs. Henry Birkhardt (Irene Wallach)  female  35.00      1      0               36973   83.4750              C83        S\\n231          232         0       3                                                            Larsson, Mr. Bengt Edvin    male  29.00      0      0              347067    7.7750              NaN        S\\n232          233         0       2                                                           Sjostedt, Mr. Ernst Adolf    male  59.00      0      0              237442   13.5000              NaN        S\\n233          234         1       3                                                      Asplund, Miss. Lillian Gertrud  female   5.00      4      2              347077   31.3875              NaN        S\\n234          235         0       2                                                   Leyson, Mr. Robert William Norman    male  24.00      0      0          C.A. 29566   10.5000              NaN        S\\n235          236         0       3                                                        Harknett, Miss. Alice Phoebe  female    NaN      0      0          W./C. 6609    7.5500              NaN        S\\n236          237         0       2                                                                   Hold, Mr. Stephen    male  44.00      1      0               26707   26.0000              NaN        S\\n237          238         1       2                                                    Collyer, Miss. Marjorie \"Lottie\"  female   8.00      0      2          C.A. 31921   26.2500              NaN        S\\n238          239         0       2                                                     Pengelly, Mr. Frederick William    male  19.00      0      0               28665   10.5000              NaN        S\\n239          240         0       2                                                              Hunt, Mr. George Henry    male  33.00      0      0          SCO/W 1585   12.2750              NaN        S\\n240          241         0       3                                                               Zabour, Miss. Thamine  female    NaN      1      0                2665   14.4542              NaN        C\\n241          242         1       3                                                      Murphy, Miss. Katherine \"Kate\"  female    NaN      1      0              367230   15.5000              NaN        Q\\n242          243         0       2                                                     Coleridge, Mr. Reginald Charles    male  29.00      0      0         W./C. 14263   10.5000              NaN        S\\n243          244         0       3                                                       Maenpaa, Mr. Matti Alexanteri    male  22.00      0      0   STON/O 2. 3101275    7.1250              NaN        S\\n244          245         0       3                                                                Attalah, Mr. Sleiman    male  30.00      0      0                2694    7.2250              NaN        C\\n245          246         0       1                                                         Minahan, Dr. William Edward    male  44.00      2      0               19928   90.0000              C78        Q\\n246          247         0       3                                               Lindahl, Miss. Agda Thorilda Viktoria  female  25.00      0      0              347071    7.7750              NaN        S\\n247          248         1       2                                                     Hamalainen, Mrs. William (Anna)  female  24.00      0      2              250649   14.5000              NaN        S\\n248          249         1       1                                                       Beckwith, Mr. Richard Leonard    male  37.00      1      1               11751   52.5542              D35        S\\n249          250         0       2                                                       Carter, Rev. Ernest Courtenay    male  54.00      1      0              244252   26.0000              NaN        S\\n250          251         0       3                                                              Reed, Mr. James George    male    NaN      0      0              362316    7.2500              NaN        S\\n251          252         0       3                                          Strom, Mrs. Wilhelm (Elna Matilda Persson)  female  29.00      1      1              347054   10.4625               G6        S\\n252          253         0       1                                                           Stead, Mr. William Thomas    male  62.00      0      0              113514   26.5500              C87        S\\n253          254         0       3                                                            Lobb, Mr. William Arthur    male  30.00      1      0           A/5. 3336   16.1000              NaN        S\\n254          255         0       3                                            Rosblom, Mrs. Viktor (Helena Wilhelmina)  female  41.00      0      2              370129   20.2125              NaN        S\\n255          256         1       3                                             Touma, Mrs. Darwis (Hanne Youssef Razi)  female  29.00      0      2                2650   15.2458              NaN        C\\n256          257         1       1                                                      Thorne, Mrs. Gertrude Maybelle  female    NaN      0      0            PC 17585   79.2000              NaN        C\\n257          258         1       1                                                                Cherry, Miss. Gladys  female  30.00      0      0              110152   86.5000              B77        S\\n258          259         1       1                                                                    Ward, Miss. Anna  female  35.00      0      0            PC 17755  512.3292              NaN        C\\n259          260         1       2                                                         Parrish, Mrs. (Lutie Davis)  female  50.00      0      1              230433   26.0000              NaN        S\\n260          261         0       3                                                                   Smith, Mr. Thomas    male    NaN      0      0              384461    7.7500              NaN        Q\\n261          262         1       3                                                   Asplund, Master. Edvin Rojj Felix    male   3.00      4      2              347077   31.3875              NaN        S\\n262          263         0       1                                                                   Taussig, Mr. Emil    male  52.00      1      1              110413   79.6500              E67        S\\n263          264         0       1                                                               Harrison, Mr. William    male  40.00      0      0              112059    0.0000              B94        S\\n264          265         0       3                                                                  Henry, Miss. Delia  female    NaN      0      0              382649    7.7500              NaN        Q\\n265          266         0       2                                                                   Reeves, Mr. David    male  36.00      0      0          C.A. 17248   10.5000              NaN        S\\n266          267         0       3                                                           Panula, Mr. Ernesti Arvid    male  16.00      4      1             3101295   39.6875              NaN        S\\n267          268         1       3                                                            Persson, Mr. Ernst Ulrik    male  25.00      1      0              347083    7.7750              NaN        S\\n268          269         1       1                                       Graham, Mrs. William Thompson (Edith Junkins)  female  58.00      0      1            PC 17582  153.4625             C125        S\\n269          270         1       1                                                              Bissette, Miss. Amelia  female  35.00      0      0            PC 17760  135.6333              C99        S\\n270          271         0       1                                                               Cairns, Mr. Alexander    male    NaN      0      0              113798   31.0000              NaN        S\\n271          272         1       3                                                        Tornquist, Mr. William Henry    male  25.00      0      0                LINE    0.0000              NaN        S\\n272          273         1       2                                           Mellinger, Mrs. (Elizabeth Anne Maidment)  female  41.00      0      1              250644   19.5000              NaN        S\\n273          274         0       1                                                               Natsch, Mr. Charles H    male  37.00      0      1            PC 17596   29.7000             C118        C\\n274          275         1       3                                                          Healy, Miss. Hanora \"Nora\"  female    NaN      0      0              370375    7.7500              NaN        Q\\n275          276         1       1                                                   Andrews, Miss. Kornelia Theodosia  female  63.00      1      0               13502   77.9583               D7        S\\n276          277         0       3                                                   Lindblom, Miss. Augusta Charlotta  female  45.00      0      0              347073    7.7500              NaN        S\\n277          278         0       2                                                         Parkes, Mr. Francis \"Frank\"    male    NaN      0      0              239853    0.0000              NaN        S\\n278          279         0       3                                                                  Rice, Master. Eric    male   7.00      4      1              382652   29.1250              NaN        Q\\n279          280         1       3                                                    Abbott, Mrs. Stanton (Rosa Hunt)  female  35.00      1      1           C.A. 2673   20.2500              NaN        S\\n280          281         0       3                                                                    Duane, Mr. Frank    male  65.00      0      0              336439    7.7500              NaN        Q\\n281          282         0       3                                                    Olsson, Mr. Nils Johan Goransson    male  28.00      0      0              347464    7.8542              NaN        S\\n282          283         0       3                                                           de Pelsmaeker, Mr. Alfons    male  16.00      0      0              345778    9.5000              NaN        S\\n283          284         1       3                                                          Dorking, Mr. Edward Arthur    male  19.00      0      0          A/5. 10482    8.0500              NaN        S\\n284          285         0       1                                                          Smith, Mr. Richard William    male    NaN      0      0              113056   26.0000              A19        S\\n285          286         0       3                                                                 Stankovic, Mr. Ivan    male  33.00      0      0              349239    8.6625              NaN        C\\n286          287         1       3                                                             de Mulder, Mr. Theodore    male  30.00      0      0              345774    9.5000              NaN        S\\n287          288         0       3                                                                Naidenoff, Mr. Penko    male  22.00      0      0              349206    7.8958              NaN        S\\n288          289         1       2                                                                Hosono, Mr. Masabumi    male  42.00      0      0              237798   13.0000              NaN        S\\n289          290         1       3                                                                Connolly, Miss. Kate  female  22.00      0      0              370373    7.7500              NaN        Q\\n290          291         1       1                                                        Barber, Miss. Ellen \"Nellie\"  female  26.00      0      0               19877   78.8500              NaN        S\\n291          292         1       1                                             Bishop, Mrs. Dickinson H (Helen Walton)  female  19.00      1      0               11967   91.0792              B49        C\\n292          293         0       2                                                              Levy, Mr. Rene Jacques    male  36.00      0      0       SC/Paris 2163   12.8750                D        C\\n293          294         0       3                                                                 Haas, Miss. Aloisia  female  24.00      0      0              349236    8.8500              NaN        S\\n294          295         0       3                                                                    Mineff, Mr. Ivan    male  24.00      0      0              349233    7.8958              NaN        S\\n295          296         0       1                                                                   Lewy, Mr. Ervin G    male    NaN      0      0            PC 17612   27.7208              NaN        C\\n296          297         0       3                                                                  Hanna, Mr. Mansour    male  23.50      0      0                2693    7.2292              NaN        C\\n297          298         0       1                                                        Allison, Miss. Helen Loraine  female   2.00      1      2              113781  151.5500          C22 C26        S\\n298          299         1       1                                                               Saalfeld, Mr. Adolphe    male    NaN      0      0               19988   30.5000             C106        S\\n299          300         1       1                                     Baxter, Mrs. James (Helene DeLaudeniere Chaput)  female  50.00      0      1            PC 17558  247.5208          B58 B60        C\\n300          301         1       3                                            Kelly, Miss. Anna Katherine \"Annie Kate\"  female    NaN      0      0                9234    7.7500              NaN        Q\\n301          302         1       3                                                                  McCoy, Mr. Bernard    male    NaN      2      0              367226   23.2500              NaN        Q\\n302          303         0       3                                                     Johnson, Mr. William Cahoone Jr    male  19.00      0      0                LINE    0.0000              NaN        S\\n303          304         1       2                                                                 Keane, Miss. Nora A  female    NaN      0      0              226593   12.3500             E101        Q\\n304          305         0       3                                                   Williams, Mr. Howard Hugh \"Harry\"    male    NaN      0      0            A/5 2466    8.0500              NaN        S\\n305          306         1       1                                                      Allison, Master. Hudson Trevor    male   0.92      1      2              113781  151.5500          C22 C26        S\\n306          307         1       1                                                             Fleming, Miss. Margaret  female    NaN      0      0               17421  110.8833              NaN        C\\n307          308         1       1  Penasco y Castellana, Mrs. Victor de Satode (Maria Josefa Perez de Soto y Vallejo)  female  17.00      1      0            PC 17758  108.9000              C65        C\\n308          309         0       2                                                                 Abelson, Mr. Samuel    male  30.00      1      0           P/PP 3381   24.0000              NaN        C\\n309          310         1       1                                                      Francatelli, Miss. Laura Mabel  female  30.00      0      0            PC 17485   56.9292              E36        C\\n310          311         1       1                                                      Hays, Miss. Margaret Bechstein  female  24.00      0      0               11767   83.1583              C54        C\\n311          312         1       1                                                          Ryerson, Miss. Emily Borie  female  18.00      2      2            PC 17608  262.3750  B57 B59 B63 B66        C\\n312          313         0       2                                               Lahtinen, Mrs. William (Anna Sylfven)  female  26.00      1      1              250651   26.0000              NaN        S\\n313          314         0       3                                                              Hendekovic, Mr. Ignjac    male  28.00      0      0              349243    7.8958              NaN        S\\n314          315         0       2                                                                  Hart, Mr. Benjamin    male  43.00      1      1        F.C.C. 13529   26.2500              NaN        S\\n315          316         1       3                                                     Nilsson, Miss. Helmina Josefina  female  26.00      0      0              347470    7.8542              NaN        S\\n316          317         1       2                                                 Kantor, Mrs. Sinai (Miriam Sternin)  female  24.00      1      0              244367   26.0000              NaN        S\\n317          318         0       2                                                                Moraweck, Dr. Ernest    male  54.00      0      0               29011   14.0000              NaN        S\\n318          319         1       1                                                            Wick, Miss. Mary Natalie  female  31.00      0      2               36928  164.8667               C7        S\\n319          320         1       1                            Spedden, Mrs. Frederic Oakley (Margaretta Corning Stone)  female  40.00      1      1               16966  134.5000              E34        C\\n320          321         0       3                                                                  Dennis, Mr. Samuel    male  22.00      0      0           A/5 21172    7.2500              NaN        S\\n321          322         0       3                                                                    Danoff, Mr. Yoto    male  27.00      0      0              349219    7.8958              NaN        S\\n322          323         1       2                                                           Slayter, Miss. Hilda Mary  female  30.00      0      0              234818   12.3500              NaN        Q\\n323          324         1       2                                 Caldwell, Mrs. Albert Francis (Sylvia Mae Harbaugh)  female  22.00      1      1              248738   29.0000              NaN        S\\n324          325         0       3                                                            Sage, Mr. George John Jr    male    NaN      8      2            CA. 2343   69.5500              NaN        S\\n325          326         1       1                                                            Young, Miss. Marie Grice  female  36.00      0      0            PC 17760  135.6333              C32        C\\n326          327         0       3                                                           Nysveen, Mr. Johan Hansen    male  61.00      0      0              345364    6.2375              NaN        S\\n327          328         1       2                                                             Ball, Mrs. (Ada E Hall)  female  36.00      0      0               28551   13.0000                D        S\\n328          329         1       3                                      Goldsmith, Mrs. Frank John (Emily Alice Brown)  female  31.00      1      1              363291   20.5250              NaN        S\\n329          330         1       1                                                        Hippach, Miss. Jean Gertrude  female  16.00      0      1              111361   57.9792              B18        C\\n330          331         1       3                                                                  McCoy, Miss. Agnes  female    NaN      2      0              367226   23.2500              NaN        Q\\n331          332         0       1                                                                 Partner, Mr. Austen    male  45.50      0      0              113043   28.5000             C124        S\\n332          333         0       1                                                           Graham, Mr. George Edward    male  38.00      0      1            PC 17582  153.4625              C91        S\\n333          334         0       3                                                     Vander Planke, Mr. Leo Edmondus    male  16.00      2      0              345764   18.0000              NaN        S\\n334          335         1       1                                  Frauenthal, Mrs. Henry William (Clara Heinsheimer)  female    NaN      1      0            PC 17611  133.6500              NaN        S\\n335          336         0       3                                                                  Denkoff, Mr. Mitto    male    NaN      0      0              349225    7.8958              NaN        S\\n336          337         0       1                                                           Pears, Mr. Thomas Clinton    male  29.00      1      0              113776   66.6000               C2        S\\n337          338         1       1                                                     Burns, Miss. Elizabeth Margaret  female  41.00      0      0               16966  134.5000              E40        C\\n338          339         1       3                                                               Dahl, Mr. Karl Edwart    male  45.00      0      0                7598    8.0500              NaN        S\\n339          340         0       1                                                        Blackwell, Mr. Stephen Weart    male  45.00      0      0              113784   35.5000                T        S\\n340          341         1       2                                                      Navratil, Master. Edmond Roger    male   2.00      1      1              230080   26.0000               F2        S\\n341          342         1       1                                                      Fortune, Miss. Alice Elizabeth  female  24.00      3      2               19950  263.0000      C23 C25 C27        S\\n342          343         0       2                                                          Collander, Mr. Erik Gustaf    male  28.00      0      0              248740   13.0000              NaN        S\\n343          344         0       2                                          Sedgwick, Mr. Charles Frederick Waddington    male  25.00      0      0              244361   13.0000              NaN        S\\n344          345         0       2                                                             Fox, Mr. Stanley Hubert    male  36.00      0      0              229236   13.0000              NaN        S\\n345          346         1       2                                                       Brown, Miss. Amelia \"Mildred\"  female  24.00      0      0              248733   13.0000              F33        S\\n346          347         1       2                                                           Smith, Miss. Marion Elsie  female  40.00      0      0               31418   13.0000              NaN        S\\n347          348         1       3                                           Davison, Mrs. Thomas Henry (Mary E Finck)  female    NaN      1      0              386525   16.1000              NaN        S\\n348          349         1       3                                              Coutts, Master. William Loch \"William\"    male   3.00      1      1          C.A. 37671   15.9000              NaN        S\\n349          350         0       3                                                                    Dimic, Mr. Jovan    male  42.00      0      0              315088    8.6625              NaN        S\\n350          351         0       3                                                              Odahl, Mr. Nils Martin    male  23.00      0      0                7267    9.2250              NaN        S\\n351          352         0       1                                              Williams-Lambert, Mr. Fletcher Fellows    male    NaN      0      0              113510   35.0000             C128        S\\n352          353         0       3                                                                  Elias, Mr. Tannous    male  15.00      1      1                2695    7.2292              NaN        C\\n353          354         0       3                                                           Arnold-Franchi, Mr. Josef    male  25.00      1      0              349237   17.8000              NaN        S\\n354          355         0       3                                                                   Yousif, Mr. Wazli    male    NaN      0      0                2647    7.2250              NaN        C\\n355          356         0       3                                                         Vanden Steen, Mr. Leo Peter    male  28.00      0      0              345783    9.5000              NaN        S\\n356          357         1       1                                                         Bowerman, Miss. Elsie Edith  female  22.00      0      1              113505   55.0000              E33        S\\n357          358         0       2                                                           Funk, Miss. Annie Clemmer  female  38.00      0      0              237671   13.0000              NaN        S\\n358          359         1       3                                                                McGovern, Miss. Mary  female    NaN      0      0              330931    7.8792              NaN        Q\\n359          360         1       3                                                   Mockler, Miss. Helen Mary \"Ellie\"  female    NaN      0      0              330980    7.8792              NaN        Q\\n360          361         0       3                                                                  Skoog, Mr. Wilhelm    male  40.00      1      4              347088   27.9000              NaN        S\\n361          362         0       2                                                           del Carlo, Mr. Sebastiano    male  29.00      1      0       SC/PARIS 2167   27.7208              NaN        C\\n362          363         0       3                                                     Barbara, Mrs. (Catherine David)  female  45.00      0      1                2691   14.4542              NaN        C\\n363          364         0       3                                                                     Asim, Mr. Adola    male  35.00      0      0  SOTON/O.Q. 3101310    7.0500              NaN        S\\n364          365         0       3                                                                 O\\'Brien, Mr. Thomas    male    NaN      1      0              370365   15.5000              NaN        Q\\n365          366         0       3                                                      Adahl, Mr. Mauritz Nils Martin    male  30.00      0      0              C 7076    7.2500              NaN        S\\n366          367         1       1                                    Warren, Mrs. Frank Manley (Anna Sophia Atkinson)  female  60.00      1      0              110813   75.2500              D37        C\\n367          368         1       3                                                      Moussa, Mrs. (Mantoura Boulos)  female    NaN      0      0                2626    7.2292              NaN        C\\n368          369         1       3                                                                 Jermyn, Miss. Annie  female    NaN      0      0               14313    7.7500              NaN        Q\\n369          370         1       1                                                       Aubart, Mme. Leontine Pauline  female  24.00      0      0            PC 17477   69.3000              B35        C\\n370          371         1       1                                                         Harder, Mr. George Achilles    male  25.00      1      0               11765   55.4417              E50        C\\n371          372         0       3                                                           Wiklund, Mr. Jakob Alfred    male  18.00      1      0             3101267    6.4958              NaN        S\\n372          373         0       3                                                          Beavan, Mr. William Thomas    male  19.00      0      0              323951    8.0500              NaN        S\\n373          374         0       1                                                                 Ringhini, Mr. Sante    male  22.00      0      0            PC 17760  135.6333              NaN        C\\n374          375         0       3                                                          Palsson, Miss. Stina Viola  female   3.00      3      1              349909   21.0750              NaN        S\\n375          376         1       1                                               Meyer, Mrs. Edgar Joseph (Leila Saks)  female    NaN      1      0            PC 17604   82.1708              NaN        C\\n376          377         1       3                                                     Landergren, Miss. Aurora Adelia  female  22.00      0      0              C 7077    7.2500              NaN        S\\n377          378         0       1                                                           Widener, Mr. Harry Elkins    male  27.00      0      2              113503  211.5000              C82        C\\n378          379         0       3                                                                 Betros, Mr. Tannous    male  20.00      0      0                2648    4.0125              NaN        C\\n379          380         0       3                                                         Gustafsson, Mr. Karl Gideon    male  19.00      0      0              347069    7.7750              NaN        S\\n380          381         1       1                                                               Bidois, Miss. Rosalie  female  42.00      0      0            PC 17757  227.5250              NaN        C\\n381          382         1       3                                                         Nakid, Miss. Maria (\"Mary\")  female   1.00      0      2                2653   15.7417              NaN        C\\n382          383         0       3                                                                  Tikkanen, Mr. Juho    male  32.00      0      0   STON/O 2. 3101293    7.9250              NaN        S\\n383          384         1       1                                 Holverson, Mrs. Alexander Oskar (Mary Aline Towner)  female  35.00      1      0              113789   52.0000              NaN        S\\n384          385         0       3                                                              Plotcharsky, Mr. Vasil    male    NaN      0      0              349227    7.8958              NaN        S\\n385          386         0       2                                                           Davies, Mr. Charles Henry    male  18.00      0      0        S.O.C. 14879   73.5000              NaN        S\\n386          387         0       3                                                     Goodwin, Master. Sidney Leonard    male   1.00      5      2             CA 2144   46.9000              NaN        S\\n387          388         1       2                                                                    Buss, Miss. Kate  female  36.00      0      0               27849   13.0000              NaN        S\\n388          389         0       3                                                                Sadlier, Mr. Matthew    male    NaN      0      0              367655    7.7292              NaN        Q\\n389          390         1       2                                                               Lehmann, Miss. Bertha  female  17.00      0      0             SC 1748   12.0000              NaN        C\\n390          391         1       1                                                          Carter, Mr. William Ernest    male  36.00      1      2              113760  120.0000          B96 B98        S\\n391          392         1       3                                                              Jansson, Mr. Carl Olof    male  21.00      0      0              350034    7.7958              NaN        S\\n392          393         0       3                                                        Gustafsson, Mr. Johan Birger    male  28.00      2      0             3101277    7.9250              NaN        S\\n393          394         1       1                                                              Newell, Miss. Marjorie  female  23.00      1      0               35273  113.2750              D36        C\\n394          395         1       3                                 Sandstrom, Mrs. Hjalmar (Agnes Charlotta Bengtsson)  female  24.00      0      2             PP 9549   16.7000               G6        S\\n395          396         0       3                                                                 Johansson, Mr. Erik    male  22.00      0      0              350052    7.7958              NaN        S\\n396          397         0       3                                                                 Olsson, Miss. Elina  female  31.00      0      0              350407    7.8542              NaN        S\\n397          398         0       2                                                             McKane, Mr. Peter David    male  46.00      0      0               28403   26.0000              NaN        S\\n398          399         0       2                                                                    Pain, Dr. Alfred    male  23.00      0      0              244278   10.5000              NaN        S\\n399          400         1       2                                                    Trout, Mrs. William H (Jessie L)  female  28.00      0      0              240929   12.6500              NaN        S\\n400          401         1       3                                                                  Niskanen, Mr. Juha    male  39.00      0      0   STON/O 2. 3101289    7.9250              NaN        S\\n401          402         0       3                                                                     Adams, Mr. John    male  26.00      0      0              341826    8.0500              NaN        S\\n402          403         0       3                                                            Jussila, Miss. Mari Aina  female  21.00      1      0                4137    9.8250              NaN        S\\n403          404         0       3                                                      Hakkarainen, Mr. Pekka Pietari    male  28.00      1      0    STON/O2. 3101279   15.8500              NaN        S\\n404          405         0       3                                                             Oreskovic, Miss. Marija  female  20.00      0      0              315096    8.6625              NaN        S\\n405          406         0       2                                                                  Gale, Mr. Shadrach    male  34.00      1      0               28664   21.0000              NaN        S\\n406          407         0       3                                                    Widegren, Mr. Carl/Charles Peter    male  51.00      0      0              347064    7.7500              NaN        S\\n407          408         1       2                                                      Richards, Master. William Rowe    male   3.00      1      1               29106   18.7500              NaN        S\\n408          409         0       3                                                   Birkeland, Mr. Hans Martin Monsen    male  21.00      0      0              312992    7.7750              NaN        S\\n409          410         0       3                                                                  Lefebre, Miss. Ida  female    NaN      3      1                4133   25.4667              NaN        S\\n410          411         0       3                                                                  Sdycoff, Mr. Todor    male    NaN      0      0              349222    7.8958              NaN        S\\n411          412         0       3                                                                     Hart, Mr. Henry    male    NaN      0      0              394140    6.8583              NaN        Q\\n412          413         1       1                                                              Minahan, Miss. Daisy E  female  33.00      1      0               19928   90.0000              C78        Q\\n413          414         0       2                                                      Cunningham, Mr. Alfred Fleming    male    NaN      0      0              239853    0.0000              NaN        S\\n414          415         1       3                                                           Sundman, Mr. Johan Julian    male  44.00      0      0   STON/O 2. 3101269    7.9250              NaN        S\\n415          416         0       3                                             Meek, Mrs. Thomas (Annie Louise Rowley)  female    NaN      0      0              343095    8.0500              NaN        S\\n416          417         1       2                                     Drew, Mrs. James Vivian (Lulu Thorne Christian)  female  34.00      1      1               28220   32.5000              NaN        S\\n417          418         1       2                                                       Silven, Miss. Lyyli Karoliina  female  18.00      0      2              250652   13.0000              NaN        S\\n418          419         0       2                                                          Matthews, Mr. William John    male  30.00      0      0               28228   13.0000              NaN        S\\n419          420         0       3                                                           Van Impe, Miss. Catharina  female  10.00      0      2              345773   24.1500              NaN        S\\n420          421         0       3                                                              Gheorgheff, Mr. Stanio    male    NaN      0      0              349254    7.8958              NaN        C\\n421          422         0       3                                                                 Charters, Mr. David    male  21.00      0      0          A/5. 13032    7.7333              NaN        Q\\n422          423         0       3                                                                  Zimmerman, Mr. Leo    male  29.00      0      0              315082    7.8750              NaN        S\\n423          424         0       3                              Danbom, Mrs. Ernst Gilbert (Anna Sigrid Maria Brogren)  female  28.00      1      1              347080   14.4000              NaN        S\\n424          425         0       3                                                         Rosblom, Mr. Viktor Richard    male  18.00      1      1              370129   20.2125              NaN        S\\n425          426         0       3                                                              Wiseman, Mr. Phillippe    male    NaN      0      0          A/4. 34244    7.2500              NaN        S\\n426          427         1       2                                         Clarke, Mrs. Charles V (Ada Maria Winfield)  female  28.00      1      0                2003   26.0000              NaN        S\\n427          428         1       2                 Phillips, Miss. Kate Florence (\"Mrs Kate Louise Phillips Marshall\")  female  19.00      0      0              250655   26.0000              NaN        S\\n428          429         0       3                                                                    Flynn, Mr. James    male    NaN      0      0              364851    7.7500              NaN        Q\\n429          430         1       3                                                  Pickard, Mr. Berk (Berk Trembisky)    male  32.00      0      0   SOTON/O.Q. 392078    8.0500              E10        S\\n430          431         1       1                                           Bjornstrom-Steffansson, Mr. Mauritz Hakan    male  28.00      0      0              110564   26.5500              C52        S\\n431          432         1       3                                   Thorneycroft, Mrs. Percival (Florence Kate White)  female    NaN      1      0              376564   16.1000              NaN        S\\n432          433         1       2                                 Louch, Mrs. Charles Alexander (Alice Adelaide Slow)  female  42.00      1      0          SC/AH 3085   26.0000              NaN        S\\n433          434         0       3                                                          Kallio, Mr. Nikolai Erland    male  17.00      0      0   STON/O 2. 3101274    7.1250              NaN        S\\n434          435         0       1                                                           Silvey, Mr. William Baird    male  50.00      1      0               13507   55.9000              E44        S\\n435          436         1       1                                                           Carter, Miss. Lucile Polk  female  14.00      1      2              113760  120.0000          B96 B98        S\\n436          437         0       3                                                Ford, Miss. Doolina Margaret \"Daisy\"  female  21.00      2      2          W./C. 6608   34.3750              NaN        S\\n437          438         1       2                                               Richards, Mrs. Sidney (Emily Hocking)  female  24.00      2      3               29106   18.7500              NaN        S\\n438          439         0       1                                                                   Fortune, Mr. Mark    male  64.00      1      4               19950  263.0000      C23 C25 C27        S\\n439          440         0       2                                              Kvillner, Mr. Johan Henrik Johannesson    male  31.00      0      0          C.A. 18723   10.5000              NaN        S\\n440          441         1       2                                         Hart, Mrs. Benjamin (Esther Ada Bloomfield)  female  45.00      1      1        F.C.C. 13529   26.2500              NaN        S\\n441          442         0       3                                                                     Hampe, Mr. Leon    male  20.00      0      0              345769    9.5000              NaN        S\\n442          443         0       3                                                           Petterson, Mr. Johan Emil    male  25.00      1      0              347076    7.7750              NaN        S\\n443          444         1       2                                                           Reynaldo, Ms. Encarnacion  female  28.00      0      0              230434   13.0000              NaN        S\\n444          445         1       3                                                   Johannesen-Bratthammer, Mr. Bernt    male    NaN      0      0               65306    8.1125              NaN        S\\n445          446         1       1                                                           Dodge, Master. Washington    male   4.00      0      2               33638   81.8583              A34        S\\n446          447         1       2                                                   Mellinger, Miss. Madeleine Violet  female  13.00      0      1              250644   19.5000              NaN        S\\n447          448         1       1                                                         Seward, Mr. Frederic Kimber    male  34.00      0      0              113794   26.5500              NaN        S\\n448          449         1       3                                                      Baclini, Miss. Marie Catherine  female   5.00      2      1                2666   19.2583              NaN        C\\n449          450         1       1                                                      Peuchen, Major. Arthur Godfrey    male  52.00      0      0              113786   30.5000             C104        S\\n450          451         0       2                                                               West, Mr. Edwy Arthur    male  36.00      1      2          C.A. 34651   27.7500              NaN        S\\n451          452         0       3                                                     Hagland, Mr. Ingvald Olai Olsen    male    NaN      1      0               65303   19.9667              NaN        S\\n452          453         0       1                                                     Foreman, Mr. Benjamin Laventall    male  30.00      0      0              113051   27.7500             C111        C\\n453          454         1       1                                                            Goldenberg, Mr. Samuel L    male  49.00      1      0               17453   89.1042              C92        C\\n454          455         0       3                                                                 Peduzzi, Mr. Joseph    male    NaN      0      0            A/5 2817    8.0500              NaN        S\\n455          456         1       3                                                                  Jalsevac, Mr. Ivan    male  29.00      0      0              349240    7.8958              NaN        C\\n456          457         0       1                                                           Millet, Mr. Francis Davis    male  65.00      0      0               13509   26.5500              E38        S\\n457          458         1       1                                                   Kenyon, Mrs. Frederick R (Marion)  female    NaN      1      0               17464   51.8625              D21        S\\n458          459         1       2                                                                 Toomey, Miss. Ellen  female  50.00      0      0        F.C.C. 13531   10.5000              NaN        S\\n459          460         0       3                                                               O\\'Connor, Mr. Maurice    male    NaN      0      0              371060    7.7500              NaN        Q\\n460          461         1       1                                                                 Anderson, Mr. Harry    male  48.00      0      0               19952   26.5500              E12        S\\n461          462         0       3                                                                 Morley, Mr. William    male  34.00      0      0              364506    8.0500              NaN        S\\n462          463         0       1                                                                   Gee, Mr. Arthur H    male  47.00      0      0              111320   38.5000              E63        S\\n463          464         0       2                                                        Milling, Mr. Jacob Christian    male  48.00      0      0              234360   13.0000              NaN        S\\n464          465         0       3                                                                  Maisner, Mr. Simon    male    NaN      0      0            A/S 2816    8.0500              NaN        S\\n465          466         0       3                                                     Goncalves, Mr. Manuel Estanslas    male  38.00      0      0  SOTON/O.Q. 3101306    7.0500              NaN        S\\n466          467         0       2                                                               Campbell, Mr. William    male    NaN      0      0              239853    0.0000              NaN        S\\n467          468         0       1                                                          Smart, Mr. John Montgomery    male  56.00      0      0              113792   26.5500              NaN        S\\n468          469         0       3                                                                  Scanlan, Mr. James    male    NaN      0      0               36209    7.7250              NaN        Q\\n469          470         1       3                                                       Baclini, Miss. Helene Barbara  female   0.75      2      1                2666   19.2583              NaN        C\\n470          471         0       3                                                                   Keefe, Mr. Arthur    male    NaN      0      0              323592    7.2500              NaN        S\\n471          472         0       3                                                                     Cacic, Mr. Luka    male  38.00      0      0              315089    8.6625              NaN        S\\n472          473         1       2                                             West, Mrs. Edwy Arthur (Ada Mary Worth)  female  33.00      1      2          C.A. 34651   27.7500              NaN        S\\n473          474         1       2                                        Jerwan, Mrs. Amin S (Marie Marthe Thuillard)  female  23.00      0      0     SC/AH Basle 541   13.7917                D        C\\n474          475         0       3                                                         Strandberg, Miss. Ida Sofia  female  22.00      0      0                7553    9.8375              NaN        S\\n475          476         0       1                                                         Clifford, Mr. George Quincy    male    NaN      0      0              110465   52.0000              A14        S\\n476          477         0       2                                                             Renouf, Mr. Peter Henry    male  34.00      1      0               31027   21.0000              NaN        S\\n477          478         0       3                                                           Braund, Mr. Lewis Richard    male  29.00      1      0                3460    7.0458              NaN        S\\n478          479         0       3                                                           Karlsson, Mr. Nils August    male  22.00      0      0              350060    7.5208              NaN        S\\n479          480         1       3                                                            Hirvonen, Miss. Hildur E  female   2.00      0      1             3101298   12.2875              NaN        S\\n480          481         0       3                                                      Goodwin, Master. Harold Victor    male   9.00      5      2             CA 2144   46.9000              NaN        S\\n481          482         0       2                                                    Frost, Mr. Anthony Wood \"Archie\"    male    NaN      0      0              239854    0.0000              NaN        S\\n482          483         0       3                                                            Rouse, Mr. Richard Henry    male  50.00      0      0            A/5 3594    8.0500              NaN        S\\n483          484         1       3                                                              Turkula, Mrs. (Hedwig)  female  63.00      0      0                4134    9.5875              NaN        S\\n484          485         1       1                                                             Bishop, Mr. Dickinson H    male  25.00      1      0               11967   91.0792              B49        C\\n485          486         0       3                                                              Lefebre, Miss. Jeannie  female    NaN      3      1                4133   25.4667              NaN        S\\n486          487         1       1                                     Hoyt, Mrs. Frederick Maxfield (Jane Anne Forby)  female  35.00      1      0               19943   90.0000              C93        S\\n487          488         0       1                                                             Kent, Mr. Edward Austin    male  58.00      0      0               11771   29.7000              B37        C\\n488          489         0       3                                                       Somerton, Mr. Francis William    male  30.00      0      0          A.5. 18509    8.0500              NaN        S\\n489          490         1       3                                               Coutts, Master. Eden Leslie \"Neville\"    male   9.00      1      1          C.A. 37671   15.9000              NaN        S\\n490          491         0       3                                                Hagland, Mr. Konrad Mathias Reiersen    male    NaN      1      0               65304   19.9667              NaN        S\\n491          492         0       3                                                                 Windelov, Mr. Einar    male  21.00      0      0    SOTON/OQ 3101317    7.2500              NaN        S\\n492          493         0       1                                                          Molson, Mr. Harry Markland    male  55.00      0      0              113787   30.5000              C30        S\\n493          494         0       1                                                             Artagaveytia, Mr. Ramon    male  71.00      0      0            PC 17609   49.5042              NaN        C\\n494          495         0       3                                                          Stanley, Mr. Edward Roland    male  21.00      0      0           A/4 45380    8.0500              NaN        S\\n495          496         0       3                                                               Yousseff, Mr. Gerious    male    NaN      0      0                2627   14.4583              NaN        C\\n496          497         1       1                                                      Eustis, Miss. Elizabeth Mussey  female  54.00      1      0               36947   78.2667              D20        C\\n497          498         0       3                                                     Shellard, Mr. Frederick William    male    NaN      0      0           C.A. 6212   15.1000              NaN        S\\n498          499         0       1                                     Allison, Mrs. Hudson J C (Bessie Waldo Daniels)  female  25.00      1      2              113781  151.5500          C22 C26        S\\n499          500         0       3                                                                  Svensson, Mr. Olof    male  24.00      0      0              350035    7.7958              NaN        S\\n500          501         0       3                                                                    Calic, Mr. Petar    male  17.00      0      0              315086    8.6625              NaN        S\\n501          502         0       3                                                                 Canavan, Miss. Mary  female  21.00      0      0              364846    7.7500              NaN        Q\\n502          503         0       3                                                      O\\'Sullivan, Miss. Bridget Mary  female    NaN      0      0              330909    7.6292              NaN        Q\\n503          504         0       3                                                      Laitinen, Miss. Kristina Sofia  female  37.00      0      0                4135    9.5875              NaN        S\\n504          505         1       1                                                               Maioni, Miss. Roberta  female  16.00      0      0              110152   86.5000              B79        S\\n505          506         0       1                                          Penasco y Castellana, Mr. Victor de Satode    male  18.00      1      0            PC 17758  108.9000              C65        C\\n506          507         1       2                                       Quick, Mrs. Frederick Charles (Jane Richards)  female  33.00      0      2               26360   26.0000              NaN        S\\n507          508         1       1                                       Bradley, Mr. George (\"George Arthur Brayton\")    male    NaN      0      0              111427   26.5500              NaN        S\\n508          509         0       3                                                            Olsen, Mr. Henry Margido    male  28.00      0      0              C 4001   22.5250              NaN        S\\n509          510         1       3                                                                      Lang, Mr. Fang    male  26.00      0      0                1601   56.4958              NaN        S\\n510          511         1       3                                                            Daly, Mr. Eugene Patrick    male  29.00      0      0              382651    7.7500              NaN        Q\\n511          512         0       3                                                                   Webber, Mr. James    male    NaN      0      0    SOTON/OQ 3101316    8.0500              NaN        S\\n512          513         1       1                                                           McGough, Mr. James Robert    male  36.00      0      0            PC 17473   26.2875              E25        S\\n513          514         1       1                                      Rothschild, Mrs. Martin (Elizabeth L. Barrett)  female  54.00      1      0            PC 17603   59.4000              NaN        C\\n514          515         0       3                                                                   Coleff, Mr. Satio    male  24.00      0      0              349209    7.4958              NaN        S\\n515          516         0       1                                                        Walker, Mr. William Anderson    male  47.00      0      0               36967   34.0208              D46        S\\n516          517         1       2                                                        Lemore, Mrs. (Amelia Milley)  female  34.00      0      0          C.A. 34260   10.5000              F33        S\\n517          518         0       3                                                                   Ryan, Mr. Patrick    male    NaN      0      0              371110   24.1500              NaN        Q\\n518          519         1       2                                Angle, Mrs. William A (Florence \"Mary\" Agnes Hughes)  female  36.00      1      0              226875   26.0000              NaN        S\\n519          520         0       3                                                                 Pavlovic, Mr. Stefo    male  32.00      0      0              349242    7.8958              NaN        S\\n520          521         1       1                                                               Perreault, Miss. Anne  female  30.00      0      0               12749   93.5000              B73        S\\n521          522         0       3                                                                     Vovk, Mr. Janko    male  22.00      0      0              349252    7.8958              NaN        S\\n522          523         0       3                                                                  Lahoud, Mr. Sarkis    male    NaN      0      0                2624    7.2250              NaN        C\\n523          524         1       1                                     Hippach, Mrs. Louis Albert (Ida Sophia Fischer)  female  44.00      0      1              111361   57.9792              B18        C\\n524          525         0       3                                                                   Kassem, Mr. Fared    male    NaN      0      0                2700    7.2292              NaN        C\\n525          526         0       3                                                                  Farrell, Mr. James    male  40.50      0      0              367232    7.7500              NaN        Q\\n526          527         1       2                                                                Ridsdale, Miss. Lucy  female  50.00      0      0         W./C. 14258   10.5000              NaN        S\\n527          528         0       1                                                                  Farthing, Mr. John    male    NaN      0      0            PC 17483  221.7792              C95        S\\n528          529         0       3                                                           Salonen, Mr. Johan Werner    male  39.00      0      0             3101296    7.9250              NaN        S\\n529          530         0       2                                                         Hocking, Mr. Richard George    male  23.00      2      1               29104   11.5000              NaN        S\\n530          531         1       2                                                            Quick, Miss. Phyllis May  female   2.00      1      1               26360   26.0000              NaN        S\\n531          532         0       3                                                                   Toufik, Mr. Nakli    male    NaN      0      0                2641    7.2292              NaN        C\\n532          533         0       3                                                                Elias, Mr. Joseph Jr    male  17.00      1      1                2690    7.2292              NaN        C\\n533          534         1       3                                              Peter, Mrs. Catherine (Catherine Rizk)  female    NaN      0      2                2668   22.3583              NaN        C\\n534          535         0       3                                                                 Cacic, Miss. Marija  female  30.00      0      0              315084    8.6625              NaN        S\\n535          536         1       2                                                              Hart, Miss. Eva Miriam  female   7.00      0      2        F.C.C. 13529   26.2500              NaN        S\\n536          537         0       1                                                   Butt, Major. Archibald Willingham    male  45.00      0      0              113050   26.5500              B38        S\\n537          538         1       1                                                                 LeRoy, Miss. Bertha  female  30.00      0      0            PC 17761  106.4250              NaN        C\\n538          539         0       3                                                            Risien, Mr. Samuel Beard    male    NaN      0      0              364498   14.5000              NaN        S\\n539          540         1       1                                                  Frolicher, Miss. Hedwig Margaritha  female  22.00      0      2               13568   49.5000              B39        C\\n540          541         1       1                                                             Crosby, Miss. Harriet R  female  36.00      0      2           WE/P 5735   71.0000              B22        S\\n541          542         0       3                                                Andersson, Miss. Ingeborg Constanzia  female   9.00      4      2              347082   31.2750              NaN        S\\n542          543         0       3                                                   Andersson, Miss. Sigrid Elisabeth  female  11.00      4      2              347082   31.2750              NaN        S\\n543          544         1       2                                                                   Beane, Mr. Edward    male  32.00      1      0                2908   26.0000              NaN        S\\n544          545         0       1                                                          Douglas, Mr. Walter Donald    male  50.00      1      0            PC 17761  106.4250              C86        C\\n545          546         0       1                                                        Nicholson, Mr. Arthur Ernest    male  64.00      0      0                 693   26.0000              NaN        S\\n546          547         1       2                                                   Beane, Mrs. Edward (Ethel Clarke)  female  19.00      1      0                2908   26.0000              NaN        S\\n547          548         1       2                                                          Padro y Manent, Mr. Julian    male    NaN      0      0       SC/PARIS 2146   13.8625              NaN        C\\n548          549         0       3                                                           Goldsmith, Mr. Frank John    male  33.00      1      1              363291   20.5250              NaN        S\\n549          550         1       2                                                      Davies, Master. John Morgan Jr    male   8.00      1      1          C.A. 33112   36.7500              NaN        S\\n550          551         1       1                                                         Thayer, Mr. John Borland Jr    male  17.00      0      2               17421  110.8833              C70        C\\n551          552         0       2                                                         Sharp, Mr. Percival James R    male  27.00      0      0              244358   26.0000              NaN        S\\n552          553         0       3                                                                O\\'Brien, Mr. Timothy    male    NaN      0      0              330979    7.8292              NaN        Q\\n553          554         1       3                                                   Leeni, Mr. Fahim (\"Philip Zenni\")    male  22.00      0      0                2620    7.2250              NaN        C\\n554          555         1       3                                                                  Ohman, Miss. Velin  female  22.00      0      0              347085    7.7750              NaN        S\\n555          556         0       1                                                                  Wright, Mr. George    male  62.00      0      0              113807   26.5500              NaN        S\\n556          557         1       1                   Duff Gordon, Lady. (Lucille Christiana Sutherland) (\"Mrs Morgan\")  female  48.00      1      0               11755   39.6000              A16        C\\n557          558         0       1                                                                 Robbins, Mr. Victor    male    NaN      0      0            PC 17757  227.5250              NaN        C\\n558          559         1       1                                              Taussig, Mrs. Emil (Tillie Mandelbaum)  female  39.00      1      1              110413   79.6500              E67        S\\n559          560         1       3                                        de Messemaeker, Mrs. Guillaume Joseph (Emma)  female  36.00      1      0              345572   17.4000              NaN        S\\n560          561         0       3                                                            Morrow, Mr. Thomas Rowan    male    NaN      0      0              372622    7.7500              NaN        Q\\n561          562         0       3                                                                   Sivic, Mr. Husein    male  40.00      0      0              349251    7.8958              NaN        S\\n562          563         0       2                                                          Norman, Mr. Robert Douglas    male  28.00      0      0              218629   13.5000              NaN        S\\n563          564         0       3                                                                   Simmons, Mr. John    male    NaN      0      0     SOTON/OQ 392082    8.0500              NaN        S\\n564          565         0       3                                                      Meanwell, Miss. (Marion Ogden)  female    NaN      0      0   SOTON/O.Q. 392087    8.0500              NaN        S\\n565          566         0       3                                                                Davies, Mr. Alfred J    male  24.00      2      0           A/4 48871   24.1500              NaN        S\\n566          567         0       3                                                                Stoytcheff, Mr. Ilia    male  19.00      0      0              349205    7.8958              NaN        S\\n567          568         0       3                                         Palsson, Mrs. Nils (Alma Cornelia Berglund)  female  29.00      0      4              349909   21.0750              NaN        S\\n568          569         0       3                                                                 Doharr, Mr. Tannous    male    NaN      0      0                2686    7.2292              NaN        C\\n569          570         1       3                                                                   Jonsson, Mr. Carl    male  32.00      0      0              350417    7.8542              NaN        S\\n570          571         1       2                                                                  Harris, Mr. George    male  62.00      0      0         S.W./PP 752   10.5000              NaN        S\\n571          572         1       1                                       Appleton, Mrs. Edward Dale (Charlotte Lamson)  female  53.00      2      0               11769   51.4792             C101        S\\n572          573         1       1                                                    Flynn, Mr. John Irwin (\"Irving\")    male  36.00      0      0            PC 17474   26.3875              E25        S\\n573          574         1       3                                                                   Kelly, Miss. Mary  female    NaN      0      0               14312    7.7500              NaN        Q\\n574          575         0       3                                                        Rush, Mr. Alfred George John    male  16.00      0      0          A/4. 20589    8.0500              NaN        S\\n575          576         0       3                                                                Patchett, Mr. George    male  19.00      0      0              358585   14.5000              NaN        S\\n576          577         1       2                                                                Garside, Miss. Ethel  female  34.00      0      0              243880   13.0000              NaN        S\\n577          578         1       1                                           Silvey, Mrs. William Baird (Alice Munger)  female  39.00      1      0               13507   55.9000              E44        S\\n578          579         0       3                                                    Caram, Mrs. Joseph (Maria Elias)  female    NaN      1      0                2689   14.4583              NaN        C\\n579          580         1       3                                                                 Jussila, Mr. Eiriik    male  32.00      0      0   STON/O 2. 3101286    7.9250              NaN        S\\n580          581         1       2                                                         Christy, Miss. Julie Rachel  female  25.00      1      1              237789   30.0000              NaN        S\\n581          582         1       1                                Thayer, Mrs. John Borland (Marian Longstreth Morris)  female  39.00      1      1               17421  110.8833              C68        C\\n582          583         0       2                                                          Downton, Mr. William James    male  54.00      0      0               28403   26.0000              NaN        S\\n583          584         0       1                                                                 Ross, Mr. John Hugo    male  36.00      0      0               13049   40.1250              A10        C\\n584          585         0       3                                                                 Paulner, Mr. Uscher    male    NaN      0      0                3411    8.7125              NaN        C\\n585          586         1       1                                                                 Taussig, Miss. Ruth  female  18.00      0      2              110413   79.6500              E68        S\\n586          587         0       2                                                             Jarvis, Mr. John Denzil    male  47.00      0      0              237565   15.0000              NaN        S\\n587          588         1       1                                                    Frolicher-Stehli, Mr. Maxmillian    male  60.00      1      1               13567   79.2000              B41        C\\n588          589         0       3                                                               Gilinski, Mr. Eliezer    male  22.00      0      0               14973    8.0500              NaN        S\\n589          590         0       3                                                                 Murdlin, Mr. Joseph    male    NaN      0      0          A./5. 3235    8.0500              NaN        S\\n590          591         0       3                                                                Rintamaki, Mr. Matti    male  35.00      0      0   STON/O 2. 3101273    7.1250              NaN        S\\n591          592         1       1                                     Stephenson, Mrs. Walter Bertram (Martha Eustis)  female  52.00      1      0               36947   78.2667              D20        C\\n592          593         0       3                                                          Elsbury, Mr. William James    male  47.00      0      0            A/5 3902    7.2500              NaN        S\\n593          594         0       3                                                                  Bourke, Miss. Mary  female    NaN      0      2              364848    7.7500              NaN        Q\\n594          595         0       2                                                             Chapman, Mr. John Henry    male  37.00      1      0         SC/AH 29037   26.0000              NaN        S\\n595          596         0       3                                                         Van Impe, Mr. Jean Baptiste    male  36.00      1      1              345773   24.1500              NaN        S\\n596          597         1       2                                                          Leitch, Miss. Jessie Wills  female    NaN      0      0              248727   33.0000              NaN        S\\n597          598         0       3                                                                 Johnson, Mr. Alfred    male  49.00      0      0                LINE    0.0000              NaN        S\\n598          599         0       3                                                                   Boulos, Mr. Hanna    male    NaN      0      0                2664    7.2250              NaN        C\\n599          600         1       1                                        Duff Gordon, Sir. Cosmo Edmund (\"Mr Morgan\")    male  49.00      1      0            PC 17485   56.9292              A20        C\\n600          601         1       2                                 Jacobsohn, Mrs. Sidney Samuel (Amy Frances Christy)  female  24.00      2      1              243847   27.0000              NaN        S\\n601          602         0       3                                                                Slabenoff, Mr. Petco    male    NaN      0      0              349214    7.8958              NaN        S\\n602          603         0       1                                                           Harrington, Mr. Charles H    male    NaN      0      0              113796   42.4000              NaN        S\\n603          604         0       3                                                           Torber, Mr. Ernst William    male  44.00      0      0              364511    8.0500              NaN        S\\n604          605         1       1                                                     Homer, Mr. Harry (\"Mr E Haven\")    male  35.00      0      0              111426   26.5500              NaN        C\\n605          606         0       3                                                       Lindell, Mr. Edvard Bengtsson    male  36.00      1      0              349910   15.5500              NaN        S\\n606          607         0       3                                                                   Karaic, Mr. Milan    male  30.00      0      0              349246    7.8958              NaN        S\\n607          608         1       1                                                         Daniel, Mr. Robert Williams    male  27.00      0      0              113804   30.5000              NaN        S\\n608          609         1       2                               Laroche, Mrs. Joseph (Juliette Marie Louise Lafargue)  female  22.00      1      2       SC/Paris 2123   41.5792              NaN        C\\n609          610         1       1                                                           Shutes, Miss. Elizabeth W  female  40.00      0      0            PC 17582  153.4625             C125        S\\n610          611         0       3                           Andersson, Mrs. Anders Johan (Alfrida Konstantia Brogren)  female  39.00      1      5              347082   31.2750              NaN        S\\n611          612         0       3                                                               Jardin, Mr. Jose Neto    male    NaN      0      0  SOTON/O.Q. 3101305    7.0500              NaN        S\\n612          613         1       3                                                         Murphy, Miss. Margaret Jane  female    NaN      1      0              367230   15.5000              NaN        Q\\n613          614         0       3                                                                    Horgan, Mr. John    male    NaN      0      0              370377    7.7500              NaN        Q\\n614          615         0       3                                                     Brocklebank, Mr. William Alfred    male  35.00      0      0              364512    8.0500              NaN        S\\n615          616         1       2                                                                 Herman, Miss. Alice  female  24.00      1      2              220845   65.0000              NaN        S\\n616          617         0       3                                                           Danbom, Mr. Ernst Gilbert    male  34.00      1      1              347080   14.4000              NaN        S\\n617          618         0       3                                     Lobb, Mrs. William Arthur (Cordelia K Stanlick)  female  26.00      1      0           A/5. 3336   16.1000              NaN        S\\n618          619         1       2                                                         Becker, Miss. Marion Louise  female   4.00      2      1              230136   39.0000               F4        S\\n619          620         0       2                                                                 Gavey, Mr. Lawrence    male  26.00      0      0               31028   10.5000              NaN        S\\n620          621         0       3                                                                 Yasbeck, Mr. Antoni    male  27.00      1      0                2659   14.4542              NaN        C\\n621          622         1       1                                                        Kimball, Mr. Edwin Nelson Jr    male  42.00      1      0               11753   52.5542              D19        S\\n622          623         1       3                                                                    Nakid, Mr. Sahid    male  20.00      1      1                2653   15.7417              NaN        C\\n623          624         0       3                                                         Hansen, Mr. Henry Damsgaard    male  21.00      0      0              350029    7.8542              NaN        S\\n624          625         0       3                                                         Bowen, Mr. David John \"Dai\"    male  21.00      0      0               54636   16.1000              NaN        S\\n625          626         0       1                                                               Sutton, Mr. Frederick    male  61.00      0      0               36963   32.3208              D50        S\\n626          627         0       2                                                      Kirkland, Rev. Charles Leonard    male  57.00      0      0              219533   12.3500              NaN        Q\\n627          628         1       1                                                       Longley, Miss. Gretchen Fiske  female  21.00      0      0               13502   77.9583               D9        S\\n628          629         0       3                                                           Bostandyeff, Mr. Guentcho    male  26.00      0      0              349224    7.8958              NaN        S\\n629          630         0       3                                                            O\\'Connell, Mr. Patrick D    male    NaN      0      0              334912    7.7333              NaN        Q\\n630          631         1       1                                                Barkworth, Mr. Algernon Henry Wilson    male  80.00      0      0               27042   30.0000              A23        S\\n631          632         0       3                                                         Lundahl, Mr. Johan Svensson    male  51.00      0      0              347743    7.0542              NaN        S\\n632          633         1       1                                                           Stahelin-Maeglin, Dr. Max    male  32.00      0      0               13214   30.5000              B50        C\\n633          634         0       1                                                       Parr, Mr. William Henry Marsh    male    NaN      0      0              112052    0.0000              NaN        S\\n634          635         0       3                                                                  Skoog, Miss. Mabel  female   9.00      3      2              347088   27.9000              NaN        S\\n635          636         1       2                                                                   Davis, Miss. Mary  female  28.00      0      0              237668   13.0000              NaN        S\\n636          637         0       3                                                          Leinonen, Mr. Antti Gustaf    male  32.00      0      0   STON/O 2. 3101292    7.9250              NaN        S\\n637          638         0       2                                                                 Collyer, Mr. Harvey    male  31.00      1      1          C.A. 31921   26.2500              NaN        S\\n638          639         0       3                                              Panula, Mrs. Juha (Maria Emilia Ojala)  female  41.00      0      5             3101295   39.6875              NaN        S\\n639          640         0       3                                                          Thorneycroft, Mr. Percival    male    NaN      1      0              376564   16.1000              NaN        S\\n640          641         0       3                                                              Jensen, Mr. Hans Peder    male  20.00      0      0              350050    7.8542              NaN        S\\n641          642         1       1                                                                Sagesser, Mlle. Emma  female  24.00      0      0            PC 17477   69.3000              B35        C\\n642          643         0       3                                                       Skoog, Miss. Margit Elizabeth  female   2.00      3      2              347088   27.9000              NaN        S\\n643          644         1       3                                                                     Foo, Mr. Choong    male    NaN      0      0                1601   56.4958              NaN        S\\n644          645         1       3                                                              Baclini, Miss. Eugenie  female   0.75      2      1                2666   19.2583              NaN        C\\n645          646         1       1                                                           Harper, Mr. Henry Sleeper    male  48.00      1      0            PC 17572   76.7292              D33        C\\n646          647         0       3                                                                   Cor, Mr. Liudevit    male  19.00      0      0              349231    7.8958              NaN        S\\n647          648         1       1                                                 Simonius-Blumer, Col. Oberst Alfons    male  56.00      0      0               13213   35.5000              A26        C\\n648          649         0       3                                                                  Willey, Mr. Edward    male    NaN      0      0       S.O./P.P. 751    7.5500              NaN        S\\n649          650         1       3                                                     Stanley, Miss. Amy Zillah Elsie  female  23.00      0      0            CA. 2314    7.5500              NaN        S\\n650          651         0       3                                                                   Mitkoff, Mr. Mito    male    NaN      0      0              349221    7.8958              NaN        S\\n651          652         1       2                                                                 Doling, Miss. Elsie  female  18.00      0      1              231919   23.0000              NaN        S\\n652          653         0       3                                                      Kalvik, Mr. Johannes Halvorsen    male  21.00      0      0                8475    8.4333              NaN        S\\n653          654         1       3                                                       O\\'Leary, Miss. Hanora \"Norah\"  female    NaN      0      0              330919    7.8292              NaN        Q\\n654          655         0       3                                                        Hegarty, Miss. Hanora \"Nora\"  female  18.00      0      0              365226    6.7500              NaN        Q\\n655          656         0       2                                                           Hickman, Mr. Leonard Mark    male  24.00      2      0        S.O.C. 14879   73.5000              NaN        S\\n656          657         0       3                                                               Radeff, Mr. Alexander    male    NaN      0      0              349223    7.8958              NaN        S\\n657          658         0       3                                                       Bourke, Mrs. John (Catherine)  female  32.00      1      1              364849   15.5000              NaN        Q\\n658          659         0       2                                                        Eitemiller, Mr. George Floyd    male  23.00      0      0               29751   13.0000              NaN        S\\n659          660         0       1                                                          Newell, Mr. Arthur Webster    male  58.00      0      2               35273  113.2750              D48        C\\n660          661         1       1                                                       Frauenthal, Dr. Henry William    male  50.00      2      0            PC 17611  133.6500              NaN        S\\n661          662         0       3                                                                   Badt, Mr. Mohamed    male  40.00      0      0                2623    7.2250              NaN        C\\n662          663         0       1                                                          Colley, Mr. Edward Pomeroy    male  47.00      0      0                5727   25.5875              E58        S\\n663          664         0       3                                                                    Coleff, Mr. Peju    male  36.00      0      0              349210    7.4958              NaN        S\\n664          665         1       3                                                         Lindqvist, Mr. Eino William    male  20.00      1      0   STON/O 2. 3101285    7.9250              NaN        S\\n665          666         0       2                                                                  Hickman, Mr. Lewis    male  32.00      2      0        S.O.C. 14879   73.5000              NaN        S\\n666          667         0       2                                                         Butler, Mr. Reginald Fenton    male  25.00      0      0              234686   13.0000              NaN        S\\n667          668         0       3                                                          Rommetvedt, Mr. Knud Paust    male    NaN      0      0              312993    7.7750              NaN        S\\n668          669         0       3                                                                     Cook, Mr. Jacob    male  43.00      0      0            A/5 3536    8.0500              NaN        S\\n669          670         1       1                                   Taylor, Mrs. Elmer Zebley (Juliet Cummins Wright)  female    NaN      1      0               19996   52.0000             C126        S\\n670          671         1       2                       Brown, Mrs. Thomas William Solomon (Elizabeth Catherine Ford)  female  40.00      1      1               29750   39.0000              NaN        S\\n671          672         0       1                                                              Davidson, Mr. Thornton    male  31.00      1      0          F.C. 12750   52.0000              B71        S\\n672          673         0       2                                                         Mitchell, Mr. Henry Michael    male  70.00      0      0          C.A. 24580   10.5000              NaN        S\\n673          674         1       2                                                               Wilhelms, Mr. Charles    male  31.00      0      0              244270   13.0000              NaN        S\\n674          675         0       2                                                          Watson, Mr. Ennis Hastings    male    NaN      0      0              239856    0.0000              NaN        S\\n675          676         0       3                                                      Edvardsson, Mr. Gustaf Hjalmar    male  18.00      0      0              349912    7.7750              NaN        S\\n676          677         0       3                                                       Sawyer, Mr. Frederick Charles    male  24.50      0      0              342826    8.0500              NaN        S\\n677          678         1       3                                                             Turja, Miss. Anna Sofia  female  18.00      0      0                4138    9.8417              NaN        S\\n678          679         0       3                                             Goodwin, Mrs. Frederick (Augusta Tyler)  female  43.00      1      6             CA 2144   46.9000              NaN        S\\n679          680         1       1                                                  Cardeza, Mr. Thomas Drake Martinez    male  36.00      0      1            PC 17755  512.3292      B51 B53 B55        C\\n680          681         0       3                                                                 Peters, Miss. Katie  female    NaN      0      0              330935    8.1375              NaN        Q\\n681          682         1       1                                                                  Hassab, Mr. Hammad    male  27.00      0      0            PC 17572   76.7292              D49        C\\n682          683         0       3                                                         Olsvigen, Mr. Thor Anderson    male  20.00      0      0                6563    9.2250              NaN        S\\n683          684         0       3                                                         Goodwin, Mr. Charles Edward    male  14.00      5      2             CA 2144   46.9000              NaN        S\\n684          685         0       2                                                   Brown, Mr. Thomas William Solomon    male  60.00      1      1               29750   39.0000              NaN        S\\n685          686         0       2                                              Laroche, Mr. Joseph Philippe Lemercier    male  25.00      1      2       SC/Paris 2123   41.5792              NaN        C\\n686          687         0       3                                                            Panula, Mr. Jaako Arnold    male  14.00      4      1             3101295   39.6875              NaN        S\\n687          688         0       3                                                                   Dakic, Mr. Branko    male  19.00      0      0              349228   10.1708              NaN        S\\n688          689         0       3                                                     Fischer, Mr. Eberhard Thelander    male  18.00      0      0              350036    7.7958              NaN        S\\n689          690         1       1                                                   Madill, Miss. Georgette Alexandra  female  15.00      0      1               24160  211.3375               B5        S\\n690          691         1       1                                                             Dick, Mr. Albert Adrian    male  31.00      1      0               17474   57.0000              B20        S\\n691          692         1       3                                                                  Karun, Miss. Manca  female   4.00      0      1              349256   13.4167              NaN        C\\n692          693         1       3                                                                        Lam, Mr. Ali    male    NaN      0      0                1601   56.4958              NaN        S\\n693          694         0       3                                                                    Saad, Mr. Khalil    male  25.00      0      0                2672    7.2250              NaN        C\\n694          695         0       1                                                                     Weir, Col. John    male  60.00      0      0              113800   26.5500              NaN        S\\n695          696         0       2                                                          Chapman, Mr. Charles Henry    male  52.00      0      0              248731   13.5000              NaN        S\\n696          697         0       3                                                                    Kelly, Mr. James    male  44.00      0      0              363592    8.0500              NaN        S\\n697          698         1       3                                                    Mullens, Miss. Katherine \"Katie\"  female    NaN      0      0               35852    7.7333              NaN        Q\\n698          699         0       1                                                            Thayer, Mr. John Borland    male  49.00      1      1               17421  110.8833              C68        C\\n699          700         0       3                                            Humblen, Mr. Adolf Mathias Nicolai Olsen    male  42.00      0      0              348121    7.6500            F G63        S\\n700          701         1       1                                   Astor, Mrs. John Jacob (Madeleine Talmadge Force)  female  18.00      1      0            PC 17757  227.5250          C62 C64        C\\n701          702         1       1                                                    Silverthorne, Mr. Spencer Victor    male  35.00      0      0            PC 17475   26.2875              E24        S\\n702          703         0       3                                                               Barbara, Miss. Saiide  female  18.00      0      1                2691   14.4542              NaN        C\\n703          704         0       3                                                               Gallagher, Mr. Martin    male  25.00      0      0               36864    7.7417              NaN        Q\\n704          705         0       3                                                             Hansen, Mr. Henrik Juul    male  26.00      1      0              350025    7.8542              NaN        S\\n705          706         0       2                                      Morley, Mr. Henry Samuel (\"Mr Henry Marshall\")    male  39.00      0      0              250655   26.0000              NaN        S\\n706          707         1       2                                                       Kelly, Mrs. Florence \"Fannie\"  female  45.00      0      0              223596   13.5000              NaN        S\\n707          708         1       1                                                   Calderhead, Mr. Edward Pennington    male  42.00      0      0            PC 17476   26.2875              E24        S\\n708          709         1       1                                                                Cleaver, Miss. Alice  female  22.00      0      0              113781  151.5500              NaN        S\\n709          710         1       3                                   Moubarek, Master. Halim Gonios (\"William George\")    male    NaN      1      1                2661   15.2458              NaN        C\\n710          711         1       1                                    Mayne, Mlle. Berthe Antonine (\"Mrs de Villiers\")  female  24.00      0      0            PC 17482   49.5042              C90        C\\n711          712         0       1                                                                  Klaber, Mr. Herman    male    NaN      0      0              113028   26.5500             C124        S\\n712          713         1       1                                                            Taylor, Mr. Elmer Zebley    male  48.00      1      0               19996   52.0000             C126        S\\n713          714         0       3                                                          Larsson, Mr. August Viktor    male  29.00      0      0                7545    9.4833              NaN        S\\n714          715         0       2                                                               Greenberg, Mr. Samuel    male  52.00      0      0              250647   13.0000              NaN        S\\n715          716         0       3                                          Soholt, Mr. Peter Andreas Lauritz Andersen    male  19.00      0      0              348124    7.6500            F G73        S\\n716          717         1       1                                                       Endres, Miss. Caroline Louise  female  38.00      0      0            PC 17757  227.5250              C45        C\\n717          718         1       2                                                 Troutt, Miss. Edwina Celia \"Winnie\"  female  27.00      0      0               34218   10.5000             E101        S\\n718          719         0       3                                                                 McEvoy, Mr. Michael    male    NaN      0      0               36568   15.5000              NaN        Q\\n719          720         0       3                                                        Johnson, Mr. Malkolm Joackim    male  33.00      0      0              347062    7.7750              NaN        S\\n720          721         1       2                                                   Harper, Miss. Annie Jessie \"Nina\"  female   6.00      0      1              248727   33.0000              NaN        S\\n721          722         0       3                                                           Jensen, Mr. Svend Lauritz    male  17.00      1      0              350048    7.0542              NaN        S\\n722          723         0       2                                                        Gillespie, Mr. William Henry    male  34.00      0      0               12233   13.0000              NaN        S\\n723          724         0       2                                                             Hodges, Mr. Henry Price    male  50.00      0      0              250643   13.0000              NaN        S\\n724          725         1       1                                                       Chambers, Mr. Norman Campbell    male  27.00      1      0              113806   53.1000               E8        S\\n725          726         0       3                                                                 Oreskovic, Mr. Luka    male  20.00      0      0              315094    8.6625              NaN        S\\n726          727         1       2                                         Renouf, Mrs. Peter Henry (Lillian Jefferys)  female  30.00      3      0               31027   21.0000              NaN        S\\n727          728         1       3                                                            Mannion, Miss. Margareth  female    NaN      0      0               36866    7.7375              NaN        Q\\n728          729         0       2                                                     Bryhl, Mr. Kurt Arnold Gottfrid    male  25.00      1      0              236853   26.0000              NaN        S\\n729          730         0       3                                                       Ilmakangas, Miss. Pieta Sofia  female  25.00      1      0    STON/O2. 3101271    7.9250              NaN        S\\n730          731         1       1                                                       Allen, Miss. Elisabeth Walton  female  29.00      0      0               24160  211.3375               B5        S\\n731          732         0       3                                                            Hassan, Mr. Houssein G N    male  11.00      0      0                2699   18.7875              NaN        C\\n732          733         0       2                                                                Knight, Mr. Robert J    male    NaN      0      0              239855    0.0000              NaN        S\\n733          734         0       2                                                          Berriman, Mr. William John    male  23.00      0      0               28425   13.0000              NaN        S\\n734          735         0       2                                                        Troupiansky, Mr. Moses Aaron    male  23.00      0      0              233639   13.0000              NaN        S\\n735          736         0       3                                                                Williams, Mr. Leslie    male  28.50      0      0               54636   16.1000              NaN        S\\n736          737         0       3                                             Ford, Mrs. Edward (Margaret Ann Watson)  female  48.00      1      3          W./C. 6608   34.3750              NaN        S\\n737          738         1       1                                                              Lesurer, Mr. Gustave J    male  35.00      0      0            PC 17755  512.3292             B101        C\\n738          739         0       3                                                                  Ivanoff, Mr. Kanio    male    NaN      0      0              349201    7.8958              NaN        S\\n739          740         0       3                                                                  Nankoff, Mr. Minko    male    NaN      0      0              349218    7.8958              NaN        S\\n740          741         1       1                                                         Hawksford, Mr. Walter James    male    NaN      0      0               16988   30.0000              D45        S\\n741          742         0       1                                                       Cavendish, Mr. Tyrell William    male  36.00      1      0               19877   78.8500              C46        S\\n742          743         1       1                                               Ryerson, Miss. Susan Parker \"Suzette\"  female  21.00      2      2            PC 17608  262.3750  B57 B59 B63 B66        C\\n743          744         0       3                                                                   McNamee, Mr. Neal    male  24.00      1      0              376566   16.1000              NaN        S\\n744          745         1       3                                                                  Stranden, Mr. Juho    male  31.00      0      0   STON/O 2. 3101288    7.9250              NaN        S\\n745          746         0       1                                                        Crosby, Capt. Edward Gifford    male  70.00      1      1           WE/P 5735   71.0000              B22        S\\n746          747         0       3                                                         Abbott, Mr. Rossmore Edward    male  16.00      1      1           C.A. 2673   20.2500              NaN        S\\n747          748         1       2                                                               Sinkkonen, Miss. Anna  female  30.00      0      0              250648   13.0000              NaN        S\\n748          749         0       1                                                           Marvin, Mr. Daniel Warner    male  19.00      1      0              113773   53.1000              D30        S\\n749          750         0       3                                                             Connaghton, Mr. Michael    male  31.00      0      0              335097    7.7500              NaN        Q\\n750          751         1       2                                                                   Wells, Miss. Joan  female   4.00      1      1               29103   23.0000              NaN        S\\n751          752         1       3                                                                 Moor, Master. Meier    male   6.00      0      1              392096   12.4750             E121        S\\n752          753         0       3                                                    Vande Velde, Mr. Johannes Joseph    male  33.00      0      0              345780    9.5000              NaN        S\\n753          754         0       3                                                                  Jonkoff, Mr. Lalio    male  23.00      0      0              349204    7.8958              NaN        S\\n754          755         1       2                                                    Herman, Mrs. Samuel (Jane Laver)  female  48.00      1      2              220845   65.0000              NaN        S\\n755          756         1       2                                                           Hamalainen, Master. Viljo    male   0.67      1      1              250649   14.5000              NaN        S\\n756          757         0       3                                                        Carlsson, Mr. August Sigfrid    male  28.00      0      0              350042    7.7958              NaN        S\\n757          758         0       2                                                            Bailey, Mr. Percy Andrew    male  18.00      0      0               29108   11.5000              NaN        S\\n758          759         0       3                                                        Theobald, Mr. Thomas Leonard    male  34.00      0      0              363294    8.0500              NaN        S\\n759          760         1       1                            Rothes, the Countess. of (Lucy Noel Martha Dyer-Edwards)  female  33.00      0      0              110152   86.5000              B77        S\\n760          761         0       3                                                                  Garfirth, Mr. John    male    NaN      0      0              358585   14.5000              NaN        S\\n761          762         0       3                                                      Nirva, Mr. Iisakki Antino Aijo    male  41.00      0      0    SOTON/O2 3101272    7.1250              NaN        S\\n762          763         1       3                                                               Barah, Mr. Hanna Assi    male  20.00      0      0                2663    7.2292              NaN        C\\n763          764         1       1                                           Carter, Mrs. William Ernest (Lucile Polk)  female  36.00      1      2              113760  120.0000          B96 B98        S\\n764          765         0       3                                                              Eklund, Mr. Hans Linus    male  16.00      0      0              347074    7.7750              NaN        S\\n765          766         1       1                                                Hogeboom, Mrs. John C (Anna Andrews)  female  51.00      1      0               13502   77.9583              D11        S\\n766          767         0       1                                                           Brewe, Dr. Arthur Jackson    male    NaN      0      0              112379   39.6000              NaN        C\\n767          768         0       3                                                                  Mangan, Miss. Mary  female  30.50      0      0              364850    7.7500              NaN        Q\\n768          769         0       3                                                                 Moran, Mr. Daniel J    male    NaN      1      0              371110   24.1500              NaN        Q\\n769          770         0       3                                                    Gronnestad, Mr. Daniel Danielsen    male  32.00      0      0                8471    8.3625              NaN        S\\n770          771         0       3                                                              Lievens, Mr. Rene Aime    male  24.00      0      0              345781    9.5000              NaN        S\\n771          772         0       3                                                             Jensen, Mr. Niels Peder    male  48.00      0      0              350047    7.8542              NaN        S\\n772          773         0       2                                                                   Mack, Mrs. (Mary)  female  57.00      0      0         S.O./P.P. 3   10.5000              E77        S\\n773          774         0       3                                                                     Elias, Mr. Dibo    male    NaN      0      0                2674    7.2250              NaN        C\\n774          775         1       2                                               Hocking, Mrs. Elizabeth (Eliza Needs)  female  54.00      1      3               29105   23.0000              NaN        S\\n775          776         0       3                                             Myhrman, Mr. Pehr Fabian Oliver Malkolm    male  18.00      0      0              347078    7.7500              NaN        S\\n776          777         0       3                                                                    Tobin, Mr. Roger    male    NaN      0      0              383121    7.7500              F38        Q\\n777          778         1       3                                                       Emanuel, Miss. Virginia Ethel  female   5.00      0      0              364516   12.4750              NaN        S\\n778          779         0       3                                                             Kilgannon, Mr. Thomas J    male    NaN      0      0               36865    7.7375              NaN        Q\\n779          780         1       1                               Robert, Mrs. Edward Scott (Elisabeth Walton McMillan)  female  43.00      0      1               24160  211.3375               B3        S\\n780          781         1       3                                                                Ayoub, Miss. Banoura  female  13.00      0      0                2687    7.2292              NaN        C\\n781          782         1       1                                           Dick, Mrs. Albert Adrian (Vera Gillespie)  female  17.00      1      0               17474   57.0000              B20        S\\n782          783         0       1                                                              Long, Mr. Milton Clyde    male  29.00      0      0              113501   30.0000               D6        S\\n783          784         0       3                                                              Johnston, Mr. Andrew G    male    NaN      1      2          W./C. 6607   23.4500              NaN        S\\n784          785         0       3                                                                    Ali, Mr. William    male  25.00      0      0  SOTON/O.Q. 3101312    7.0500              NaN        S\\n785          786         0       3                                                  Harmer, Mr. Abraham (David Lishin)    male  25.00      0      0              374887    7.2500              NaN        S\\n786          787         1       3                                                           Sjoblom, Miss. Anna Sofia  female  18.00      0      0             3101265    7.4958              NaN        S\\n787          788         0       3                                                           Rice, Master. George Hugh    male   8.00      4      1              382652   29.1250              NaN        Q\\n788          789         1       3                                                          Dean, Master. Bertram Vere    male   1.00      1      2           C.A. 2315   20.5750              NaN        S\\n789          790         0       1                                                            Guggenheim, Mr. Benjamin    male  46.00      0      0            PC 17593   79.2000          B82 B84        C\\n790          791         0       3                                                            Keane, Mr. Andrew \"Andy\"    male    NaN      0      0               12460    7.7500              NaN        Q\\n791          792         0       2                                                                 Gaskell, Mr. Alfred    male  16.00      0      0              239865   26.0000              NaN        S\\n792          793         0       3                                                             Sage, Miss. Stella Anna  female    NaN      8      2            CA. 2343   69.5500              NaN        S\\n793          794         0       1                                                            Hoyt, Mr. William Fisher    male    NaN      0      0            PC 17600   30.6958              NaN        C\\n794          795         0       3                                                               Dantcheff, Mr. Ristiu    male  25.00      0      0              349203    7.8958              NaN        S\\n795          796         0       2                                                                  Otter, Mr. Richard    male  39.00      0      0               28213   13.0000              NaN        S\\n796          797         1       1                                                         Leader, Dr. Alice (Farnham)  female  49.00      0      0               17465   25.9292              D17        S\\n797          798         1       3                                                                    Osman, Mrs. Mara  female  31.00      0      0              349244    8.6833              NaN        S\\n798          799         0       3                                                        Ibrahim Shawah, Mr. Yousseff    male  30.00      0      0                2685    7.2292              NaN        C\\n799          800         0       3                                Van Impe, Mrs. Jean Baptiste (Rosalie Paula Govaert)  female  30.00      1      1              345773   24.1500              NaN        S\\n800          801         0       2                                                                Ponesell, Mr. Martin    male  34.00      0      0              250647   13.0000              NaN        S\\n801          802         1       2                                         Collyer, Mrs. Harvey (Charlotte Annie Tate)  female  31.00      1      1          C.A. 31921   26.2500              NaN        S\\n802          803         1       1                                                 Carter, Master. William Thornton II    male  11.00      1      2              113760  120.0000          B96 B98        S\\n803          804         1       3                                                     Thomas, Master. Assad Alexander    male   0.42      0      1                2625    8.5167              NaN        C\\n804          805         1       3                                                             Hedman, Mr. Oskar Arvid    male  27.00      0      0              347089    6.9750              NaN        S\\n805          806         0       3                                                           Johansson, Mr. Karl Johan    male  31.00      0      0              347063    7.7750              NaN        S\\n806          807         0       1                                                              Andrews, Mr. Thomas Jr    male  39.00      0      0              112050    0.0000              A36        S\\n807          808         0       3                                                     Pettersson, Miss. Ellen Natalia  female  18.00      0      0              347087    7.7750              NaN        S\\n808          809         0       2                                                                   Meyer, Mr. August    male  39.00      0      0              248723   13.0000              NaN        S\\n809          810         1       1                                      Chambers, Mrs. Norman Campbell (Bertha Griggs)  female  33.00      1      0              113806   53.1000               E8        S\\n810          811         0       3                                                              Alexander, Mr. William    male  26.00      0      0                3474    7.8875              NaN        S\\n811          812         0       3                                                                   Lester, Mr. James    male  39.00      0      0           A/4 48871   24.1500              NaN        S\\n812          813         0       2                                                           Slemen, Mr. Richard James    male  35.00      0      0               28206   10.5000              NaN        S\\n813          814         0       3                                                  Andersson, Miss. Ebba Iris Alfrida  female   6.00      4      2              347082   31.2750              NaN        S\\n814          815         0       3                                                          Tomlin, Mr. Ernest Portage    male  30.50      0      0              364499    8.0500              NaN        S\\n815          816         0       1                                                                    Fry, Mr. Richard    male    NaN      0      0              112058    0.0000             B102        S\\n816          817         0       3                                                        Heininen, Miss. Wendla Maria  female  23.00      0      0    STON/O2. 3101290    7.9250              NaN        S\\n817          818         0       2                                                                  Mallet, Mr. Albert    male  31.00      1      1     S.C./PARIS 2079   37.0042              NaN        C\\n818          819         0       3                                                    Holm, Mr. John Fredrik Alexander    male  43.00      0      0              C 7075    6.4500              NaN        S\\n819          820         0       3                                                        Skoog, Master. Karl Thorsten    male  10.00      3      2              347088   27.9000              NaN        S\\n820          821         1       1                                  Hays, Mrs. Charles Melville (Clara Jennings Gregg)  female  52.00      1      1               12749   93.5000              B69        S\\n821          822         1       3                                                                   Lulic, Mr. Nikola    male  27.00      0      0              315098    8.6625              NaN        S\\n822          823         0       1                                                     Reuchlin, Jonkheer. John George    male  38.00      0      0               19972    0.0000              NaN        S\\n823          824         1       3                                                                  Moor, Mrs. (Beila)  female  27.00      0      1              392096   12.4750             E121        S\\n824          825         0       3                                                        Panula, Master. Urho Abraham    male   2.00      4      1             3101295   39.6875              NaN        S\\n825          826         0       3                                                                     Flynn, Mr. John    male    NaN      0      0              368323    6.9500              NaN        Q\\n826          827         0       3                                                                        Lam, Mr. Len    male    NaN      0      0                1601   56.4958              NaN        S\\n827          828         1       2                                                               Mallet, Master. Andre    male   1.00      0      2     S.C./PARIS 2079   37.0042              NaN        C\\n828          829         1       3                                                        McCormack, Mr. Thomas Joseph    male    NaN      0      0              367228    7.7500              NaN        Q\\n829          830         1       1                                           Stone, Mrs. George Nelson (Martha Evelyn)  female  62.00      0      0              113572   80.0000              B28      NaN\\n830          831         1       3                                             Yasbeck, Mrs. Antoni (Selini Alexander)  female  15.00      1      0                2659   14.4542              NaN        C\\n831          832         1       2                                                     Richards, Master. George Sibley    male   0.83      1      1               29106   18.7500              NaN        S\\n832          833         0       3                                                                      Saad, Mr. Amin    male    NaN      0      0                2671    7.2292              NaN        C\\n833          834         0       3                                                              Augustsson, Mr. Albert    male  23.00      0      0              347468    7.8542              NaN        S\\n834          835         0       3                                                              Allum, Mr. Owen George    male  18.00      0      0                2223    8.3000              NaN        S\\n835          836         1       1                                                         Compton, Miss. Sara Rebecca  female  39.00      1      1            PC 17756   83.1583              E49        C\\n836          837         0       3                                                                    Pasic, Mr. Jakob    male  21.00      0      0              315097    8.6625              NaN        S\\n837          838         0       3                                                                 Sirota, Mr. Maurice    male    NaN      0      0              392092    8.0500              NaN        S\\n838          839         1       3                                                                     Chip, Mr. Chang    male  32.00      0      0                1601   56.4958              NaN        S\\n839          840         1       1                                                                Marechal, Mr. Pierre    male    NaN      0      0               11774   29.7000              C47        C\\n840          841         0       3                                                         Alhomaki, Mr. Ilmari Rudolf    male  20.00      0      0    SOTON/O2 3101287    7.9250              NaN        S\\n841          842         0       2                                                            Mudd, Mr. Thomas Charles    male  16.00      0      0         S.O./P.P. 3   10.5000              NaN        S\\n842          843         1       1                                                             Serepeca, Miss. Augusta  female  30.00      0      0              113798   31.0000              NaN        C\\n843          844         0       3                                                          Lemberopolous, Mr. Peter L    male  34.50      0      0                2683    6.4375              NaN        C\\n844          845         0       3                                                                 Culumovic, Mr. Jeso    male  17.00      0      0              315090    8.6625              NaN        S\\n845          846         0       3                                                                 Abbing, Mr. Anthony    male  42.00      0      0           C.A. 5547    7.5500              NaN        S\\n846          847         0       3                                                            Sage, Mr. Douglas Bullen    male    NaN      8      2            CA. 2343   69.5500              NaN        S\\n847          848         0       3                                                                  Markoff, Mr. Marin    male  35.00      0      0              349213    7.8958              NaN        C\\n848          849         0       2                                                                   Harper, Rev. John    male  28.00      0      1              248727   33.0000              NaN        S\\n849          850         1       1                                        Goldenberg, Mrs. Samuel L (Edwiga Grabowska)  female    NaN      1      0               17453   89.1042              C92        C\\n850          851         0       3                                             Andersson, Master. Sigvard Harald Elias    male   4.00      4      2              347082   31.2750              NaN        S\\n851          852         0       3                                                                 Svensson, Mr. Johan    male  74.00      0      0              347060    7.7750              NaN        S\\n852          853         0       3                                                             Boulos, Miss. Nourelain  female   9.00      1      1                2678   15.2458              NaN        C\\n853          854         1       1                                                           Lines, Miss. Mary Conover  female  16.00      0      1            PC 17592   39.4000              D28        S\\n854          855         0       2                                       Carter, Mrs. Ernest Courtenay (Lilian Hughes)  female  44.00      1      0              244252   26.0000              NaN        S\\n855          856         1       3                                                          Aks, Mrs. Sam (Leah Rosen)  female  18.00      0      1              392091    9.3500              NaN        S\\n856          857         1       1                                          Wick, Mrs. George Dennick (Mary Hitchcock)  female  45.00      1      1               36928  164.8667              NaN        S\\n857          858         1       1                                                              Daly, Mr. Peter Denis     male  51.00      0      0              113055   26.5500              E17        S\\n858          859         1       3                                               Baclini, Mrs. Solomon (Latifa Qurban)  female  24.00      0      3                2666   19.2583              NaN        C\\n859          860         0       3                                                                    Razi, Mr. Raihed    male    NaN      0      0                2629    7.2292              NaN        C\\n860          861         0       3                                                             Hansen, Mr. Claus Peter    male  41.00      2      0              350026   14.1083              NaN        S\\n861          862         0       2                                                         Giles, Mr. Frederick Edward    male  21.00      1      0               28134   11.5000              NaN        S\\n862          863         1       1                                 Swift, Mrs. Frederick Joel (Margaret Welles Barron)  female  48.00      0      0               17466   25.9292              D17        S\\n863          864         0       3                                                   Sage, Miss. Dorothy Edith \"Dolly\"  female    NaN      8      2            CA. 2343   69.5500              NaN        S\\n864          865         0       2                                                              Gill, Mr. John William    male  24.00      0      0              233866   13.0000              NaN        S\\n865          866         1       2                                                            Bystrom, Mrs. (Karolina)  female  42.00      0      0              236852   13.0000              NaN        S\\n866          867         1       2                                                        Duran y More, Miss. Asuncion  female  27.00      1      0       SC/PARIS 2149   13.8583              NaN        C\\n867          868         0       1                                                Roebling, Mr. Washington Augustus II    male  31.00      0      0            PC 17590   50.4958              A24        S\\n868          869         0       3                                                         van Melkebeke, Mr. Philemon    male    NaN      0      0              345777    9.5000              NaN        S\\n869          870         1       3                                                     Johnson, Master. Harold Theodor    male   4.00      1      1              347742   11.1333              NaN        S\\n870          871         0       3                                                                   Balkic, Mr. Cerin    male  26.00      0      0              349248    7.8958              NaN        S\\n871          872         1       1                                    Beckwith, Mrs. Richard Leonard (Sallie Monypeny)  female  47.00      1      1               11751   52.5542              D35        S\\n872          873         0       1                                                            Carlsson, Mr. Frans Olof    male  33.00      0      0                 695    5.0000      B51 B53 B55        S\\n873          874         0       3                                                         Vander Cruyssen, Mr. Victor    male  47.00      0      0              345765    9.0000              NaN        S\\n874          875         1       2                                               Abelson, Mrs. Samuel (Hannah Wizosky)  female  28.00      1      0           P/PP 3381   24.0000              NaN        C\\n875          876         1       3                                                    Najib, Miss. Adele Kiamie \"Jane\"  female  15.00      0      0                2667    7.2250              NaN        C\\n876          877         0       3                                                       Gustafsson, Mr. Alfred Ossian    male  20.00      0      0                7534    9.8458              NaN        S\\n877          878         0       3                                                                Petroff, Mr. Nedelio    male  19.00      0      0              349212    7.8958              NaN        S\\n878          879         0       3                                                                  Laleff, Mr. Kristo    male    NaN      0      0              349217    7.8958              NaN        S\\n879          880         1       1                                       Potter, Mrs. Thomas Jr (Lily Alexenia Wilson)  female  56.00      0      1               11767   83.1583              C50        C\\n880          881         1       2                                        Shelley, Mrs. William (Imanita Parrish Hall)  female  25.00      0      1              230433   26.0000              NaN        S\\n881          882         0       3                                                                  Markun, Mr. Johann    male  33.00      0      0              349257    7.8958              NaN        S\\n882          883         0       3                                                        Dahlberg, Miss. Gerda Ulrika  female  22.00      0      0                7552   10.5167              NaN        S\\n883          884         0       2                                                       Banfield, Mr. Frederick James    male  28.00      0      0    C.A./SOTON 34068   10.5000              NaN        S\\n884          885         0       3                                                              Sutehall, Mr. Henry Jr    male  25.00      0      0     SOTON/OQ 392076    7.0500              NaN        S\\n885          886         0       3                                                Rice, Mrs. William (Margaret Norton)  female  39.00      0      5              382652   29.1250              NaN        Q\\n886          887         0       2                                                               Montvila, Rev. Juozas    male  27.00      0      0              211536   13.0000              NaN        S\\n887          888         1       1                                                        Graham, Miss. Margaret Edith  female  19.00      0      0              112053   30.0000              B42        S\\n888          889         0       3                                            Johnston, Miss. Catherine Helen \"Carrie\"  female    NaN      1      2          W./C. 6607   23.4500              NaN        S\\n889          890         1       1                                                               Behr, Mr. Karl Howell    male  26.00      0      0              111369   30.0000             C148        C\\n890          891         0       3                                                                 Dooley, Mr. Patrick    male  32.00      0      0              370376    7.7500              NaN        Q'"
      ]
     },
     "execution_count": 24,
     "metadata": {},
     "output_type": "execute_result"
    }
   ],
   "source": [
    "data.to_string()"
   ]
  },
  {
   "cell_type": "markdown",
   "id": "c7ab8b59",
   "metadata": {},
   "source": [
    "# tail"
   ]
  },
  {
   "cell_type": "code",
   "execution_count": null,
   "id": "54cb8d0c",
   "metadata": {},
   "outputs": [],
   "source": [
    "it print the last 5 rows by default but we can change as per need"
   ]
  },
  {
   "cell_type": "code",
   "execution_count": 19,
   "id": "71b936d5",
   "metadata": {},
   "outputs": [
    {
     "data": {
      "text/html": [
       "<div>\n",
       "<style scoped>\n",
       "    .dataframe tbody tr th:only-of-type {\n",
       "        vertical-align: middle;\n",
       "    }\n",
       "\n",
       "    .dataframe tbody tr th {\n",
       "        vertical-align: top;\n",
       "    }\n",
       "\n",
       "    .dataframe thead th {\n",
       "        text-align: right;\n",
       "    }\n",
       "</style>\n",
       "<table border=\"1\" class=\"dataframe\">\n",
       "  <thead>\n",
       "    <tr style=\"text-align: right;\">\n",
       "      <th></th>\n",
       "      <th>PassengerId</th>\n",
       "      <th>Survived</th>\n",
       "      <th>Pclass</th>\n",
       "      <th>Name</th>\n",
       "      <th>Sex</th>\n",
       "      <th>Age</th>\n",
       "      <th>SibSp</th>\n",
       "      <th>Parch</th>\n",
       "      <th>Ticket</th>\n",
       "      <th>Fare</th>\n",
       "      <th>Cabin</th>\n",
       "      <th>Embarked</th>\n",
       "    </tr>\n",
       "  </thead>\n",
       "  <tbody>\n",
       "    <tr>\n",
       "      <th>886</th>\n",
       "      <td>887</td>\n",
       "      <td>0</td>\n",
       "      <td>2</td>\n",
       "      <td>Montvila, Rev. Juozas</td>\n",
       "      <td>male</td>\n",
       "      <td>27.0</td>\n",
       "      <td>0</td>\n",
       "      <td>0</td>\n",
       "      <td>211536</td>\n",
       "      <td>13.00</td>\n",
       "      <td>NaN</td>\n",
       "      <td>S</td>\n",
       "    </tr>\n",
       "    <tr>\n",
       "      <th>887</th>\n",
       "      <td>888</td>\n",
       "      <td>1</td>\n",
       "      <td>1</td>\n",
       "      <td>Graham, Miss. Margaret Edith</td>\n",
       "      <td>female</td>\n",
       "      <td>19.0</td>\n",
       "      <td>0</td>\n",
       "      <td>0</td>\n",
       "      <td>112053</td>\n",
       "      <td>30.00</td>\n",
       "      <td>B42</td>\n",
       "      <td>S</td>\n",
       "    </tr>\n",
       "    <tr>\n",
       "      <th>888</th>\n",
       "      <td>889</td>\n",
       "      <td>0</td>\n",
       "      <td>3</td>\n",
       "      <td>Johnston, Miss. Catherine Helen \"Carrie\"</td>\n",
       "      <td>female</td>\n",
       "      <td>NaN</td>\n",
       "      <td>1</td>\n",
       "      <td>2</td>\n",
       "      <td>W./C. 6607</td>\n",
       "      <td>23.45</td>\n",
       "      <td>NaN</td>\n",
       "      <td>S</td>\n",
       "    </tr>\n",
       "    <tr>\n",
       "      <th>889</th>\n",
       "      <td>890</td>\n",
       "      <td>1</td>\n",
       "      <td>1</td>\n",
       "      <td>Behr, Mr. Karl Howell</td>\n",
       "      <td>male</td>\n",
       "      <td>26.0</td>\n",
       "      <td>0</td>\n",
       "      <td>0</td>\n",
       "      <td>111369</td>\n",
       "      <td>30.00</td>\n",
       "      <td>C148</td>\n",
       "      <td>C</td>\n",
       "    </tr>\n",
       "    <tr>\n",
       "      <th>890</th>\n",
       "      <td>891</td>\n",
       "      <td>0</td>\n",
       "      <td>3</td>\n",
       "      <td>Dooley, Mr. Patrick</td>\n",
       "      <td>male</td>\n",
       "      <td>32.0</td>\n",
       "      <td>0</td>\n",
       "      <td>0</td>\n",
       "      <td>370376</td>\n",
       "      <td>7.75</td>\n",
       "      <td>NaN</td>\n",
       "      <td>Q</td>\n",
       "    </tr>\n",
       "  </tbody>\n",
       "</table>\n",
       "</div>"
      ],
      "text/plain": [
       "     PassengerId  Survived  Pclass                                      Name  \\\n",
       "886          887         0       2                     Montvila, Rev. Juozas   \n",
       "887          888         1       1              Graham, Miss. Margaret Edith   \n",
       "888          889         0       3  Johnston, Miss. Catherine Helen \"Carrie\"   \n",
       "889          890         1       1                     Behr, Mr. Karl Howell   \n",
       "890          891         0       3                       Dooley, Mr. Patrick   \n",
       "\n",
       "        Sex   Age  SibSp  Parch      Ticket   Fare Cabin Embarked  \n",
       "886    male  27.0      0      0      211536  13.00   NaN        S  \n",
       "887  female  19.0      0      0      112053  30.00   B42        S  \n",
       "888  female   NaN      1      2  W./C. 6607  23.45   NaN        S  \n",
       "889    male  26.0      0      0      111369  30.00  C148        C  \n",
       "890    male  32.0      0      0      370376   7.75   NaN        Q  "
      ]
     },
     "execution_count": 19,
     "metadata": {},
     "output_type": "execute_result"
    }
   ],
   "source": [
    "data.tail()"
   ]
  },
  {
   "cell_type": "markdown",
   "id": "3f7f7d8a",
   "metadata": {},
   "source": [
    "# describe()"
   ]
  },
  {
   "cell_type": "code",
   "execution_count": null,
   "id": "821d1e41",
   "metadata": {},
   "outputs": [],
   "source": [
    "it returns some statistical measure of the numeric columns\n"
   ]
  },
  {
   "cell_type": "code",
   "execution_count": 25,
   "id": "6dca4f39",
   "metadata": {},
   "outputs": [
    {
     "data": {
      "text/html": [
       "<div>\n",
       "<style scoped>\n",
       "    .dataframe tbody tr th:only-of-type {\n",
       "        vertical-align: middle;\n",
       "    }\n",
       "\n",
       "    .dataframe tbody tr th {\n",
       "        vertical-align: top;\n",
       "    }\n",
       "\n",
       "    .dataframe thead th {\n",
       "        text-align: right;\n",
       "    }\n",
       "</style>\n",
       "<table border=\"1\" class=\"dataframe\">\n",
       "  <thead>\n",
       "    <tr style=\"text-align: right;\">\n",
       "      <th></th>\n",
       "      <th>PassengerId</th>\n",
       "      <th>Survived</th>\n",
       "      <th>Pclass</th>\n",
       "      <th>Age</th>\n",
       "      <th>SibSp</th>\n",
       "      <th>Parch</th>\n",
       "      <th>Fare</th>\n",
       "    </tr>\n",
       "  </thead>\n",
       "  <tbody>\n",
       "    <tr>\n",
       "      <th>count</th>\n",
       "      <td>891.000000</td>\n",
       "      <td>891.000000</td>\n",
       "      <td>891.000000</td>\n",
       "      <td>714.000000</td>\n",
       "      <td>891.000000</td>\n",
       "      <td>891.000000</td>\n",
       "      <td>891.000000</td>\n",
       "    </tr>\n",
       "    <tr>\n",
       "      <th>mean</th>\n",
       "      <td>446.000000</td>\n",
       "      <td>0.383838</td>\n",
       "      <td>2.308642</td>\n",
       "      <td>29.699118</td>\n",
       "      <td>0.523008</td>\n",
       "      <td>0.381594</td>\n",
       "      <td>32.204208</td>\n",
       "    </tr>\n",
       "    <tr>\n",
       "      <th>std</th>\n",
       "      <td>257.353842</td>\n",
       "      <td>0.486592</td>\n",
       "      <td>0.836071</td>\n",
       "      <td>14.526497</td>\n",
       "      <td>1.102743</td>\n",
       "      <td>0.806057</td>\n",
       "      <td>49.693429</td>\n",
       "    </tr>\n",
       "    <tr>\n",
       "      <th>min</th>\n",
       "      <td>1.000000</td>\n",
       "      <td>0.000000</td>\n",
       "      <td>1.000000</td>\n",
       "      <td>0.420000</td>\n",
       "      <td>0.000000</td>\n",
       "      <td>0.000000</td>\n",
       "      <td>0.000000</td>\n",
       "    </tr>\n",
       "    <tr>\n",
       "      <th>25%</th>\n",
       "      <td>223.500000</td>\n",
       "      <td>0.000000</td>\n",
       "      <td>2.000000</td>\n",
       "      <td>20.125000</td>\n",
       "      <td>0.000000</td>\n",
       "      <td>0.000000</td>\n",
       "      <td>7.910400</td>\n",
       "    </tr>\n",
       "    <tr>\n",
       "      <th>50%</th>\n",
       "      <td>446.000000</td>\n",
       "      <td>0.000000</td>\n",
       "      <td>3.000000</td>\n",
       "      <td>28.000000</td>\n",
       "      <td>0.000000</td>\n",
       "      <td>0.000000</td>\n",
       "      <td>14.454200</td>\n",
       "    </tr>\n",
       "    <tr>\n",
       "      <th>75%</th>\n",
       "      <td>668.500000</td>\n",
       "      <td>1.000000</td>\n",
       "      <td>3.000000</td>\n",
       "      <td>38.000000</td>\n",
       "      <td>1.000000</td>\n",
       "      <td>0.000000</td>\n",
       "      <td>31.000000</td>\n",
       "    </tr>\n",
       "    <tr>\n",
       "      <th>max</th>\n",
       "      <td>891.000000</td>\n",
       "      <td>1.000000</td>\n",
       "      <td>3.000000</td>\n",
       "      <td>80.000000</td>\n",
       "      <td>8.000000</td>\n",
       "      <td>6.000000</td>\n",
       "      <td>512.329200</td>\n",
       "    </tr>\n",
       "  </tbody>\n",
       "</table>\n",
       "</div>"
      ],
      "text/plain": [
       "       PassengerId    Survived      Pclass         Age       SibSp  \\\n",
       "count   891.000000  891.000000  891.000000  714.000000  891.000000   \n",
       "mean    446.000000    0.383838    2.308642   29.699118    0.523008   \n",
       "std     257.353842    0.486592    0.836071   14.526497    1.102743   \n",
       "min       1.000000    0.000000    1.000000    0.420000    0.000000   \n",
       "25%     223.500000    0.000000    2.000000   20.125000    0.000000   \n",
       "50%     446.000000    0.000000    3.000000   28.000000    0.000000   \n",
       "75%     668.500000    1.000000    3.000000   38.000000    1.000000   \n",
       "max     891.000000    1.000000    3.000000   80.000000    8.000000   \n",
       "\n",
       "            Parch        Fare  \n",
       "count  891.000000  891.000000  \n",
       "mean     0.381594   32.204208  \n",
       "std      0.806057   49.693429  \n",
       "min      0.000000    0.000000  \n",
       "25%      0.000000    7.910400  \n",
       "50%      0.000000   14.454200  \n",
       "75%      0.000000   31.000000  \n",
       "max      6.000000  512.329200  "
      ]
     },
     "execution_count": 25,
     "metadata": {},
     "output_type": "execute_result"
    }
   ],
   "source": [
    "data.describe()"
   ]
  },
  {
   "cell_type": "markdown",
   "id": "47029b4e",
   "metadata": {},
   "source": [
    "# info\n",
    "# It returns a DataFrame object that gives some basic information about the data"
   ]
  },
  {
   "cell_type": "code",
   "execution_count": 26,
   "id": "158aa34a",
   "metadata": {},
   "outputs": [
    {
     "name": "stdout",
     "output_type": "stream",
     "text": [
      "<class 'pandas.core.frame.DataFrame'>\n",
      "RangeIndex: 891 entries, 0 to 890\n",
      "Data columns (total 12 columns):\n",
      " #   Column       Non-Null Count  Dtype  \n",
      "---  ------       --------------  -----  \n",
      " 0   PassengerId  891 non-null    int64  \n",
      " 1   Survived     891 non-null    int64  \n",
      " 2   Pclass       891 non-null    int64  \n",
      " 3   Name         891 non-null    object \n",
      " 4   Sex          891 non-null    object \n",
      " 5   Age          714 non-null    float64\n",
      " 6   SibSp        891 non-null    int64  \n",
      " 7   Parch        891 non-null    int64  \n",
      " 8   Ticket       891 non-null    object \n",
      " 9   Fare         891 non-null    float64\n",
      " 10  Cabin        204 non-null    object \n",
      " 11  Embarked     889 non-null    object \n",
      "dtypes: float64(2), int64(5), object(5)\n",
      "memory usage: 83.7+ KB\n"
     ]
    }
   ],
   "source": [
    "data.info()"
   ]
  },
  {
   "cell_type": "markdown",
   "id": "f119b552",
   "metadata": {},
   "source": [
    "# duplicated"
   ]
  },
  {
   "cell_type": "code",
   "execution_count": null,
   "id": "f2585348",
   "metadata": {},
   "outputs": [],
   "source": [
    "it return duplicated rows in the form of boolean series"
   ]
  },
  {
   "cell_type": "code",
   "execution_count": 27,
   "id": "307d11b4",
   "metadata": {},
   "outputs": [
    {
     "data": {
      "text/plain": [
       "0      False\n",
       "1      False\n",
       "2      False\n",
       "3      False\n",
       "4      False\n",
       "       ...  \n",
       "886    False\n",
       "887    False\n",
       "888    False\n",
       "889    False\n",
       "890    False\n",
       "Length: 891, dtype: bool"
      ]
     },
     "execution_count": 27,
     "metadata": {},
     "output_type": "execute_result"
    }
   ],
   "source": [
    "data.duplicated()"
   ]
  },
  {
   "cell_type": "code",
   "execution_count": 28,
   "id": "2d304991",
   "metadata": {},
   "outputs": [
    {
     "data": {
      "text/plain": [
       "0"
      ]
     },
     "execution_count": 28,
     "metadata": {},
     "output_type": "execute_result"
    }
   ],
   "source": [
    "data.duplicated().sum()"
   ]
  },
  {
   "cell_type": "code",
   "execution_count": 29,
   "id": "d512293f",
   "metadata": {},
   "outputs": [
    {
     "data": {
      "text/html": [
       "<div>\n",
       "<style scoped>\n",
       "    .dataframe tbody tr th:only-of-type {\n",
       "        vertical-align: middle;\n",
       "    }\n",
       "\n",
       "    .dataframe tbody tr th {\n",
       "        vertical-align: top;\n",
       "    }\n",
       "\n",
       "    .dataframe thead th {\n",
       "        text-align: right;\n",
       "    }\n",
       "</style>\n",
       "<table border=\"1\" class=\"dataframe\">\n",
       "  <thead>\n",
       "    <tr style=\"text-align: right;\">\n",
       "      <th></th>\n",
       "      <th>PassengerId</th>\n",
       "      <th>Survived</th>\n",
       "      <th>Pclass</th>\n",
       "      <th>Name</th>\n",
       "      <th>Sex</th>\n",
       "      <th>Age</th>\n",
       "      <th>SibSp</th>\n",
       "      <th>Parch</th>\n",
       "      <th>Ticket</th>\n",
       "      <th>Fare</th>\n",
       "      <th>Cabin</th>\n",
       "      <th>Embarked</th>\n",
       "    </tr>\n",
       "  </thead>\n",
       "  <tbody>\n",
       "  </tbody>\n",
       "</table>\n",
       "</div>"
      ],
      "text/plain": [
       "Empty DataFrame\n",
       "Columns: [PassengerId, Survived, Pclass, Name, Sex, Age, SibSp, Parch, Ticket, Fare, Cabin, Embarked]\n",
       "Index: []"
      ]
     },
     "execution_count": 29,
     "metadata": {},
     "output_type": "execute_result"
    }
   ],
   "source": [
    "data[data.duplicated()]"
   ]
  },
  {
   "cell_type": "markdown",
   "id": "1d912a80",
   "metadata": {},
   "source": [
    "# nunique"
   ]
  },
  {
   "cell_type": "code",
   "execution_count": null,
   "id": "6059d54d",
   "metadata": {},
   "outputs": [],
   "source": [
    "It returns the number of unique values in each column of a DataFrame"
   ]
  },
  {
   "cell_type": "code",
   "execution_count": 30,
   "id": "85169d67",
   "metadata": {},
   "outputs": [
    {
     "data": {
      "text/plain": [
       "PassengerId    891\n",
       "Survived         2\n",
       "Pclass           3\n",
       "Name           891\n",
       "Sex              2\n",
       "Age             88\n",
       "SibSp            7\n",
       "Parch            7\n",
       "Ticket         681\n",
       "Fare           248\n",
       "Cabin          147\n",
       "Embarked         3\n",
       "dtype: int64"
      ]
     },
     "execution_count": 30,
     "metadata": {},
     "output_type": "execute_result"
    }
   ],
   "source": [
    "data.nunique()"
   ]
  },
  {
   "cell_type": "markdown",
   "id": "34306db3",
   "metadata": {},
   "source": [
    "# unique"
   ]
  },
  {
   "cell_type": "code",
   "execution_count": null,
   "id": "70c4dc55",
   "metadata": {},
   "outputs": [],
   "source": [
    "it return unique values in series column"
   ]
  },
  {
   "cell_type": "code",
   "execution_count": 32,
   "id": "714cd6ab",
   "metadata": {},
   "outputs": [
    {
     "data": {
      "text/plain": [
       "array([  1,   2,   3,   4,   5,   6,   7,   8,   9,  10,  11,  12,  13,\n",
       "        14,  15,  16,  17,  18,  19,  20,  21,  22,  23,  24,  25,  26,\n",
       "        27,  28,  29,  30,  31,  32,  33,  34,  35,  36,  37,  38,  39,\n",
       "        40,  41,  42,  43,  44,  45,  46,  47,  48,  49,  50,  51,  52,\n",
       "        53,  54,  55,  56,  57,  58,  59,  60,  61,  62,  63,  64,  65,\n",
       "        66,  67,  68,  69,  70,  71,  72,  73,  74,  75,  76,  77,  78,\n",
       "        79,  80,  81,  82,  83,  84,  85,  86,  87,  88,  89,  90,  91,\n",
       "        92,  93,  94,  95,  96,  97,  98,  99, 100, 101, 102, 103, 104,\n",
       "       105, 106, 107, 108, 109, 110, 111, 112, 113, 114, 115, 116, 117,\n",
       "       118, 119, 120, 121, 122, 123, 124, 125, 126, 127, 128, 129, 130,\n",
       "       131, 132, 133, 134, 135, 136, 137, 138, 139, 140, 141, 142, 143,\n",
       "       144, 145, 146, 147, 148, 149, 150, 151, 152, 153, 154, 155, 156,\n",
       "       157, 158, 159, 160, 161, 162, 163, 164, 165, 166, 167, 168, 169,\n",
       "       170, 171, 172, 173, 174, 175, 176, 177, 178, 179, 180, 181, 182,\n",
       "       183, 184, 185, 186, 187, 188, 189, 190, 191, 192, 193, 194, 195,\n",
       "       196, 197, 198, 199, 200, 201, 202, 203, 204, 205, 206, 207, 208,\n",
       "       209, 210, 211, 212, 213, 214, 215, 216, 217, 218, 219, 220, 221,\n",
       "       222, 223, 224, 225, 226, 227, 228, 229, 230, 231, 232, 233, 234,\n",
       "       235, 236, 237, 238, 239, 240, 241, 242, 243, 244, 245, 246, 247,\n",
       "       248, 249, 250, 251, 252, 253, 254, 255, 256, 257, 258, 259, 260,\n",
       "       261, 262, 263, 264, 265, 266, 267, 268, 269, 270, 271, 272, 273,\n",
       "       274, 275, 276, 277, 278, 279, 280, 281, 282, 283, 284, 285, 286,\n",
       "       287, 288, 289, 290, 291, 292, 293, 294, 295, 296, 297, 298, 299,\n",
       "       300, 301, 302, 303, 304, 305, 306, 307, 308, 309, 310, 311, 312,\n",
       "       313, 314, 315, 316, 317, 318, 319, 320, 321, 322, 323, 324, 325,\n",
       "       326, 327, 328, 329, 330, 331, 332, 333, 334, 335, 336, 337, 338,\n",
       "       339, 340, 341, 342, 343, 344, 345, 346, 347, 348, 349, 350, 351,\n",
       "       352, 353, 354, 355, 356, 357, 358, 359, 360, 361, 362, 363, 364,\n",
       "       365, 366, 367, 368, 369, 370, 371, 372, 373, 374, 375, 376, 377,\n",
       "       378, 379, 380, 381, 382, 383, 384, 385, 386, 387, 388, 389, 390,\n",
       "       391, 392, 393, 394, 395, 396, 397, 398, 399, 400, 401, 402, 403,\n",
       "       404, 405, 406, 407, 408, 409, 410, 411, 412, 413, 414, 415, 416,\n",
       "       417, 418, 419, 420, 421, 422, 423, 424, 425, 426, 427, 428, 429,\n",
       "       430, 431, 432, 433, 434, 435, 436, 437, 438, 439, 440, 441, 442,\n",
       "       443, 444, 445, 446, 447, 448, 449, 450, 451, 452, 453, 454, 455,\n",
       "       456, 457, 458, 459, 460, 461, 462, 463, 464, 465, 466, 467, 468,\n",
       "       469, 470, 471, 472, 473, 474, 475, 476, 477, 478, 479, 480, 481,\n",
       "       482, 483, 484, 485, 486, 487, 488, 489, 490, 491, 492, 493, 494,\n",
       "       495, 496, 497, 498, 499, 500, 501, 502, 503, 504, 505, 506, 507,\n",
       "       508, 509, 510, 511, 512, 513, 514, 515, 516, 517, 518, 519, 520,\n",
       "       521, 522, 523, 524, 525, 526, 527, 528, 529, 530, 531, 532, 533,\n",
       "       534, 535, 536, 537, 538, 539, 540, 541, 542, 543, 544, 545, 546,\n",
       "       547, 548, 549, 550, 551, 552, 553, 554, 555, 556, 557, 558, 559,\n",
       "       560, 561, 562, 563, 564, 565, 566, 567, 568, 569, 570, 571, 572,\n",
       "       573, 574, 575, 576, 577, 578, 579, 580, 581, 582, 583, 584, 585,\n",
       "       586, 587, 588, 589, 590, 591, 592, 593, 594, 595, 596, 597, 598,\n",
       "       599, 600, 601, 602, 603, 604, 605, 606, 607, 608, 609, 610, 611,\n",
       "       612, 613, 614, 615, 616, 617, 618, 619, 620, 621, 622, 623, 624,\n",
       "       625, 626, 627, 628, 629, 630, 631, 632, 633, 634, 635, 636, 637,\n",
       "       638, 639, 640, 641, 642, 643, 644, 645, 646, 647, 648, 649, 650,\n",
       "       651, 652, 653, 654, 655, 656, 657, 658, 659, 660, 661, 662, 663,\n",
       "       664, 665, 666, 667, 668, 669, 670, 671, 672, 673, 674, 675, 676,\n",
       "       677, 678, 679, 680, 681, 682, 683, 684, 685, 686, 687, 688, 689,\n",
       "       690, 691, 692, 693, 694, 695, 696, 697, 698, 699, 700, 701, 702,\n",
       "       703, 704, 705, 706, 707, 708, 709, 710, 711, 712, 713, 714, 715,\n",
       "       716, 717, 718, 719, 720, 721, 722, 723, 724, 725, 726, 727, 728,\n",
       "       729, 730, 731, 732, 733, 734, 735, 736, 737, 738, 739, 740, 741,\n",
       "       742, 743, 744, 745, 746, 747, 748, 749, 750, 751, 752, 753, 754,\n",
       "       755, 756, 757, 758, 759, 760, 761, 762, 763, 764, 765, 766, 767,\n",
       "       768, 769, 770, 771, 772, 773, 774, 775, 776, 777, 778, 779, 780,\n",
       "       781, 782, 783, 784, 785, 786, 787, 788, 789, 790, 791, 792, 793,\n",
       "       794, 795, 796, 797, 798, 799, 800, 801, 802, 803, 804, 805, 806,\n",
       "       807, 808, 809, 810, 811, 812, 813, 814, 815, 816, 817, 818, 819,\n",
       "       820, 821, 822, 823, 824, 825, 826, 827, 828, 829, 830, 831, 832,\n",
       "       833, 834, 835, 836, 837, 838, 839, 840, 841, 842, 843, 844, 845,\n",
       "       846, 847, 848, 849, 850, 851, 852, 853, 854, 855, 856, 857, 858,\n",
       "       859, 860, 861, 862, 863, 864, 865, 866, 867, 868, 869, 870, 871,\n",
       "       872, 873, 874, 875, 876, 877, 878, 879, 880, 881, 882, 883, 884,\n",
       "       885, 886, 887, 888, 889, 890, 891], dtype=int64)"
      ]
     },
     "execution_count": 32,
     "metadata": {},
     "output_type": "execute_result"
    }
   ],
   "source": [
    "data.PassengerId.unique()"
   ]
  },
  {
   "cell_type": "code",
   "execution_count": 33,
   "id": "21f0164e",
   "metadata": {},
   "outputs": [
    {
     "data": {
      "text/plain": [
       "array([0, 1], dtype=int64)"
      ]
     },
     "execution_count": 33,
     "metadata": {},
     "output_type": "execute_result"
    }
   ],
   "source": [
    "data.Survived.unique()"
   ]
  },
  {
   "cell_type": "code",
   "execution_count": 34,
   "id": "70c2b228",
   "metadata": {},
   "outputs": [
    {
     "data": {
      "text/plain": [
       "array([22.  , 38.  , 26.  , 35.  ,   nan, 54.  ,  2.  , 27.  , 14.  ,\n",
       "        4.  , 58.  , 20.  , 39.  , 55.  , 31.  , 34.  , 15.  , 28.  ,\n",
       "        8.  , 19.  , 40.  , 66.  , 42.  , 21.  , 18.  ,  3.  ,  7.  ,\n",
       "       49.  , 29.  , 65.  , 28.5 ,  5.  , 11.  , 45.  , 17.  , 32.  ,\n",
       "       16.  , 25.  ,  0.83, 30.  , 33.  , 23.  , 24.  , 46.  , 59.  ,\n",
       "       71.  , 37.  , 47.  , 14.5 , 70.5 , 32.5 , 12.  ,  9.  , 36.5 ,\n",
       "       51.  , 55.5 , 40.5 , 44.  ,  1.  , 61.  , 56.  , 50.  , 36.  ,\n",
       "       45.5 , 20.5 , 62.  , 41.  , 52.  , 63.  , 23.5 ,  0.92, 43.  ,\n",
       "       60.  , 10.  , 64.  , 13.  , 48.  ,  0.75, 53.  , 57.  , 80.  ,\n",
       "       70.  , 24.5 ,  6.  ,  0.67, 30.5 ,  0.42, 34.5 , 74.  ])"
      ]
     },
     "execution_count": 34,
     "metadata": {},
     "output_type": "execute_result"
    }
   ],
   "source": [
    "data.Age.unique()"
   ]
  },
  {
   "cell_type": "code",
   "execution_count": 35,
   "id": "f0803daa",
   "metadata": {},
   "outputs": [
    {
     "data": {
      "text/plain": [
       "0      0\n",
       "1      1\n",
       "2      1\n",
       "3      1\n",
       "4      0\n",
       "      ..\n",
       "886    0\n",
       "887    1\n",
       "888    0\n",
       "889    1\n",
       "890    0\n",
       "Name: Survived, Length: 891, dtype: int64"
      ]
     },
     "execution_count": 35,
     "metadata": {},
     "output_type": "execute_result"
    }
   ],
   "source": [
    "data[('Survived')] #to fetch single column only"
   ]
  },
  {
   "cell_type": "code",
   "execution_count": 36,
   "id": "dd127e75",
   "metadata": {},
   "outputs": [
    {
     "data": {
      "text/plain": [
       "0      0\n",
       "1      1\n",
       "2      1\n",
       "3      1\n",
       "4      0\n",
       "      ..\n",
       "886    0\n",
       "887    1\n",
       "888    0\n",
       "889    1\n",
       "890    0\n",
       "Name: Survived, Length: 891, dtype: int64"
      ]
     },
     "execution_count": 36,
     "metadata": {},
     "output_type": "execute_result"
    }
   ],
   "source": [
    "data['Survived']"
   ]
  },
  {
   "cell_type": "code",
   "execution_count": 37,
   "id": "17f0436b",
   "metadata": {},
   "outputs": [
    {
     "data": {
      "text/plain": [
       "0      0\n",
       "1      1\n",
       "2      1\n",
       "3      1\n",
       "4      0\n",
       "      ..\n",
       "886    0\n",
       "887    1\n",
       "888    0\n",
       "889    1\n",
       "890    0\n",
       "Name: Survived, Length: 891, dtype: int64"
      ]
     },
     "execution_count": 37,
     "metadata": {},
     "output_type": "execute_result"
    }
   ],
   "source": [
    "data.Survived"
   ]
  },
  {
   "cell_type": "markdown",
   "id": "e5aa43b0",
   "metadata": {},
   "source": [
    "# value counts()\n",
    "# It return the counts of the unique values in a column"
   ]
  },
  {
   "cell_type": "code",
   "execution_count": 39,
   "id": "6abe2972",
   "metadata": {},
   "outputs": [
    {
     "data": {
      "text/plain": [
       "PassengerId  Survived  Pclass  Name                                                  Sex     Age   SibSp  Parch  Ticket    Fare      Cabin  Embarked\n",
       "2            1         1       Cumings, Mrs. John Bradley (Florence Briggs Thayer)   female  38.0  1      0      PC 17599  71.2833   C85    C           1\n",
       "572          1         1       Appleton, Mrs. Edward Dale (Charlotte Lamson)         female  53.0  2      0      11769     51.4792   C101   S           1\n",
       "578          1         1       Silvey, Mrs. William Baird (Alice Munger)             female  39.0  1      0      13507     55.9000   E44    S           1\n",
       "582          1         1       Thayer, Mrs. John Borland (Marian Longstreth Morris)  female  39.0  1      1      17421     110.8833  C68    C           1\n",
       "584          0         1       Ross, Mr. John Hugo                                   male    36.0  0      0      13049     40.1250   A10    C           1\n",
       "                                                                                                                                                       ..\n",
       "328          1         2       Ball, Mrs. (Ada E Hall)                               female  36.0  0      0      28551     13.0000   D      S           1\n",
       "330          1         1       Hippach, Miss. Jean Gertrude                          female  16.0  0      1      111361    57.9792   B18    C           1\n",
       "332          0         1       Partner, Mr. Austen                                   male    45.5  0      0      113043    28.5000   C124   S           1\n",
       "333          0         1       Graham, Mr. George Edward                             male    38.0  0      1      PC 17582  153.4625  C91    S           1\n",
       "890          1         1       Behr, Mr. Karl Howell                                 male    26.0  0      0      111369    30.0000   C148   C           1\n",
       "Length: 183, dtype: int64"
      ]
     },
     "execution_count": 39,
     "metadata": {},
     "output_type": "execute_result"
    }
   ],
   "source": [
    "data.value_counts()"
   ]
  },
  {
   "cell_type": "code",
   "execution_count": 40,
   "id": "c037d1c3",
   "metadata": {},
   "outputs": [
    {
     "data": {
      "text/plain": [
       "3    491\n",
       "1    216\n",
       "2    184\n",
       "Name: Pclass, dtype: int64"
      ]
     },
     "execution_count": 40,
     "metadata": {},
     "output_type": "execute_result"
    }
   ],
   "source": [
    "data.Pclass.value_counts()"
   ]
  },
  {
   "cell_type": "code",
   "execution_count": 44,
   "id": "2d4e0a08",
   "metadata": {},
   "outputs": [
    {
     "data": {
      "text/plain": [
       "array([3, 1, 2], dtype=int64)"
      ]
     },
     "execution_count": 44,
     "metadata": {},
     "output_type": "execute_result"
    }
   ],
   "source": [
    "data['Pclass'].unique()"
   ]
  },
  {
   "cell_type": "code",
   "execution_count": 45,
   "id": "a1110bab",
   "metadata": {},
   "outputs": [
    {
     "data": {
      "text/plain": [
       "male      577\n",
       "female    314\n",
       "Name: Sex, dtype: int64"
      ]
     },
     "execution_count": 45,
     "metadata": {},
     "output_type": "execute_result"
    }
   ],
   "source": [
    "data.Sex.value_counts()"
   ]
  },
  {
   "cell_type": "code",
   "execution_count": 47,
   "id": "f22eff3d",
   "metadata": {},
   "outputs": [
    {
     "data": {
      "text/plain": [
       "24.00    30\n",
       "22.00    27\n",
       "18.00    26\n",
       "19.00    25\n",
       "28.00    25\n",
       "         ..\n",
       "36.50     1\n",
       "55.50     1\n",
       "0.92      1\n",
       "23.50     1\n",
       "74.00     1\n",
       "Name: Age, Length: 88, dtype: int64"
      ]
     },
     "execution_count": 47,
     "metadata": {},
     "output_type": "execute_result"
    }
   ],
   "source": [
    "data.Age.value_counts()"
   ]
  },
  {
   "cell_type": "code",
   "execution_count": 48,
   "id": "f6311842",
   "metadata": {},
   "outputs": [
    {
     "data": {
      "text/plain": [
       "3    55.106622\n",
       "1    24.242424\n",
       "2    20.650954\n",
       "Name: Pclass, dtype: float64"
      ]
     },
     "execution_count": 48,
     "metadata": {},
     "output_type": "execute_result"
    }
   ],
   "source": [
    "data.Pclass.value_counts()*100/len(data)"
   ]
  },
  {
   "cell_type": "markdown",
   "id": "b9431c7a",
   "metadata": {},
   "source": [
    "# checking the null values\n",
    "\n",
    "# isna\n",
    "\n",
    "# isnull -->return output in boolean values"
   ]
  },
  {
   "cell_type": "code",
   "execution_count": 49,
   "id": "ea8fb808",
   "metadata": {},
   "outputs": [
    {
     "data": {
      "text/html": [
       "<div>\n",
       "<style scoped>\n",
       "    .dataframe tbody tr th:only-of-type {\n",
       "        vertical-align: middle;\n",
       "    }\n",
       "\n",
       "    .dataframe tbody tr th {\n",
       "        vertical-align: top;\n",
       "    }\n",
       "\n",
       "    .dataframe thead th {\n",
       "        text-align: right;\n",
       "    }\n",
       "</style>\n",
       "<table border=\"1\" class=\"dataframe\">\n",
       "  <thead>\n",
       "    <tr style=\"text-align: right;\">\n",
       "      <th></th>\n",
       "      <th>PassengerId</th>\n",
       "      <th>Survived</th>\n",
       "      <th>Pclass</th>\n",
       "      <th>Name</th>\n",
       "      <th>Sex</th>\n",
       "      <th>Age</th>\n",
       "      <th>SibSp</th>\n",
       "      <th>Parch</th>\n",
       "      <th>Ticket</th>\n",
       "      <th>Fare</th>\n",
       "      <th>Cabin</th>\n",
       "      <th>Embarked</th>\n",
       "    </tr>\n",
       "  </thead>\n",
       "  <tbody>\n",
       "    <tr>\n",
       "      <th>0</th>\n",
       "      <td>False</td>\n",
       "      <td>False</td>\n",
       "      <td>False</td>\n",
       "      <td>False</td>\n",
       "      <td>False</td>\n",
       "      <td>False</td>\n",
       "      <td>False</td>\n",
       "      <td>False</td>\n",
       "      <td>False</td>\n",
       "      <td>False</td>\n",
       "      <td>True</td>\n",
       "      <td>False</td>\n",
       "    </tr>\n",
       "    <tr>\n",
       "      <th>1</th>\n",
       "      <td>False</td>\n",
       "      <td>False</td>\n",
       "      <td>False</td>\n",
       "      <td>False</td>\n",
       "      <td>False</td>\n",
       "      <td>False</td>\n",
       "      <td>False</td>\n",
       "      <td>False</td>\n",
       "      <td>False</td>\n",
       "      <td>False</td>\n",
       "      <td>False</td>\n",
       "      <td>False</td>\n",
       "    </tr>\n",
       "    <tr>\n",
       "      <th>2</th>\n",
       "      <td>False</td>\n",
       "      <td>False</td>\n",
       "      <td>False</td>\n",
       "      <td>False</td>\n",
       "      <td>False</td>\n",
       "      <td>False</td>\n",
       "      <td>False</td>\n",
       "      <td>False</td>\n",
       "      <td>False</td>\n",
       "      <td>False</td>\n",
       "      <td>True</td>\n",
       "      <td>False</td>\n",
       "    </tr>\n",
       "    <tr>\n",
       "      <th>3</th>\n",
       "      <td>False</td>\n",
       "      <td>False</td>\n",
       "      <td>False</td>\n",
       "      <td>False</td>\n",
       "      <td>False</td>\n",
       "      <td>False</td>\n",
       "      <td>False</td>\n",
       "      <td>False</td>\n",
       "      <td>False</td>\n",
       "      <td>False</td>\n",
       "      <td>False</td>\n",
       "      <td>False</td>\n",
       "    </tr>\n",
       "    <tr>\n",
       "      <th>4</th>\n",
       "      <td>False</td>\n",
       "      <td>False</td>\n",
       "      <td>False</td>\n",
       "      <td>False</td>\n",
       "      <td>False</td>\n",
       "      <td>False</td>\n",
       "      <td>False</td>\n",
       "      <td>False</td>\n",
       "      <td>False</td>\n",
       "      <td>False</td>\n",
       "      <td>True</td>\n",
       "      <td>False</td>\n",
       "    </tr>\n",
       "    <tr>\n",
       "      <th>...</th>\n",
       "      <td>...</td>\n",
       "      <td>...</td>\n",
       "      <td>...</td>\n",
       "      <td>...</td>\n",
       "      <td>...</td>\n",
       "      <td>...</td>\n",
       "      <td>...</td>\n",
       "      <td>...</td>\n",
       "      <td>...</td>\n",
       "      <td>...</td>\n",
       "      <td>...</td>\n",
       "      <td>...</td>\n",
       "    </tr>\n",
       "    <tr>\n",
       "      <th>886</th>\n",
       "      <td>False</td>\n",
       "      <td>False</td>\n",
       "      <td>False</td>\n",
       "      <td>False</td>\n",
       "      <td>False</td>\n",
       "      <td>False</td>\n",
       "      <td>False</td>\n",
       "      <td>False</td>\n",
       "      <td>False</td>\n",
       "      <td>False</td>\n",
       "      <td>True</td>\n",
       "      <td>False</td>\n",
       "    </tr>\n",
       "    <tr>\n",
       "      <th>887</th>\n",
       "      <td>False</td>\n",
       "      <td>False</td>\n",
       "      <td>False</td>\n",
       "      <td>False</td>\n",
       "      <td>False</td>\n",
       "      <td>False</td>\n",
       "      <td>False</td>\n",
       "      <td>False</td>\n",
       "      <td>False</td>\n",
       "      <td>False</td>\n",
       "      <td>False</td>\n",
       "      <td>False</td>\n",
       "    </tr>\n",
       "    <tr>\n",
       "      <th>888</th>\n",
       "      <td>False</td>\n",
       "      <td>False</td>\n",
       "      <td>False</td>\n",
       "      <td>False</td>\n",
       "      <td>False</td>\n",
       "      <td>True</td>\n",
       "      <td>False</td>\n",
       "      <td>False</td>\n",
       "      <td>False</td>\n",
       "      <td>False</td>\n",
       "      <td>True</td>\n",
       "      <td>False</td>\n",
       "    </tr>\n",
       "    <tr>\n",
       "      <th>889</th>\n",
       "      <td>False</td>\n",
       "      <td>False</td>\n",
       "      <td>False</td>\n",
       "      <td>False</td>\n",
       "      <td>False</td>\n",
       "      <td>False</td>\n",
       "      <td>False</td>\n",
       "      <td>False</td>\n",
       "      <td>False</td>\n",
       "      <td>False</td>\n",
       "      <td>False</td>\n",
       "      <td>False</td>\n",
       "    </tr>\n",
       "    <tr>\n",
       "      <th>890</th>\n",
       "      <td>False</td>\n",
       "      <td>False</td>\n",
       "      <td>False</td>\n",
       "      <td>False</td>\n",
       "      <td>False</td>\n",
       "      <td>False</td>\n",
       "      <td>False</td>\n",
       "      <td>False</td>\n",
       "      <td>False</td>\n",
       "      <td>False</td>\n",
       "      <td>True</td>\n",
       "      <td>False</td>\n",
       "    </tr>\n",
       "  </tbody>\n",
       "</table>\n",
       "<p>891 rows × 12 columns</p>\n",
       "</div>"
      ],
      "text/plain": [
       "     PassengerId  Survived  Pclass   Name    Sex    Age  SibSp  Parch  Ticket  \\\n",
       "0          False     False   False  False  False  False  False  False   False   \n",
       "1          False     False   False  False  False  False  False  False   False   \n",
       "2          False     False   False  False  False  False  False  False   False   \n",
       "3          False     False   False  False  False  False  False  False   False   \n",
       "4          False     False   False  False  False  False  False  False   False   \n",
       "..           ...       ...     ...    ...    ...    ...    ...    ...     ...   \n",
       "886        False     False   False  False  False  False  False  False   False   \n",
       "887        False     False   False  False  False  False  False  False   False   \n",
       "888        False     False   False  False  False   True  False  False   False   \n",
       "889        False     False   False  False  False  False  False  False   False   \n",
       "890        False     False   False  False  False  False  False  False   False   \n",
       "\n",
       "      Fare  Cabin  Embarked  \n",
       "0    False   True     False  \n",
       "1    False  False     False  \n",
       "2    False   True     False  \n",
       "3    False  False     False  \n",
       "4    False   True     False  \n",
       "..     ...    ...       ...  \n",
       "886  False   True     False  \n",
       "887  False  False     False  \n",
       "888  False   True     False  \n",
       "889  False  False     False  \n",
       "890  False   True     False  \n",
       "\n",
       "[891 rows x 12 columns]"
      ]
     },
     "execution_count": 49,
     "metadata": {},
     "output_type": "execute_result"
    }
   ],
   "source": [
    "data.isnull()"
   ]
  },
  {
   "cell_type": "code",
   "execution_count": 50,
   "id": "dd1d10fb",
   "metadata": {},
   "outputs": [
    {
     "data": {
      "text/html": [
       "<div>\n",
       "<style scoped>\n",
       "    .dataframe tbody tr th:only-of-type {\n",
       "        vertical-align: middle;\n",
       "    }\n",
       "\n",
       "    .dataframe tbody tr th {\n",
       "        vertical-align: top;\n",
       "    }\n",
       "\n",
       "    .dataframe thead th {\n",
       "        text-align: right;\n",
       "    }\n",
       "</style>\n",
       "<table border=\"1\" class=\"dataframe\">\n",
       "  <thead>\n",
       "    <tr style=\"text-align: right;\">\n",
       "      <th></th>\n",
       "      <th>PassengerId</th>\n",
       "      <th>Survived</th>\n",
       "      <th>Pclass</th>\n",
       "      <th>Name</th>\n",
       "      <th>Sex</th>\n",
       "      <th>Age</th>\n",
       "      <th>SibSp</th>\n",
       "      <th>Parch</th>\n",
       "      <th>Ticket</th>\n",
       "      <th>Fare</th>\n",
       "      <th>Cabin</th>\n",
       "      <th>Embarked</th>\n",
       "    </tr>\n",
       "  </thead>\n",
       "  <tbody>\n",
       "    <tr>\n",
       "      <th>0</th>\n",
       "      <td>False</td>\n",
       "      <td>False</td>\n",
       "      <td>False</td>\n",
       "      <td>False</td>\n",
       "      <td>False</td>\n",
       "      <td>False</td>\n",
       "      <td>False</td>\n",
       "      <td>False</td>\n",
       "      <td>False</td>\n",
       "      <td>False</td>\n",
       "      <td>True</td>\n",
       "      <td>False</td>\n",
       "    </tr>\n",
       "    <tr>\n",
       "      <th>1</th>\n",
       "      <td>False</td>\n",
       "      <td>False</td>\n",
       "      <td>False</td>\n",
       "      <td>False</td>\n",
       "      <td>False</td>\n",
       "      <td>False</td>\n",
       "      <td>False</td>\n",
       "      <td>False</td>\n",
       "      <td>False</td>\n",
       "      <td>False</td>\n",
       "      <td>False</td>\n",
       "      <td>False</td>\n",
       "    </tr>\n",
       "    <tr>\n",
       "      <th>2</th>\n",
       "      <td>False</td>\n",
       "      <td>False</td>\n",
       "      <td>False</td>\n",
       "      <td>False</td>\n",
       "      <td>False</td>\n",
       "      <td>False</td>\n",
       "      <td>False</td>\n",
       "      <td>False</td>\n",
       "      <td>False</td>\n",
       "      <td>False</td>\n",
       "      <td>True</td>\n",
       "      <td>False</td>\n",
       "    </tr>\n",
       "    <tr>\n",
       "      <th>3</th>\n",
       "      <td>False</td>\n",
       "      <td>False</td>\n",
       "      <td>False</td>\n",
       "      <td>False</td>\n",
       "      <td>False</td>\n",
       "      <td>False</td>\n",
       "      <td>False</td>\n",
       "      <td>False</td>\n",
       "      <td>False</td>\n",
       "      <td>False</td>\n",
       "      <td>False</td>\n",
       "      <td>False</td>\n",
       "    </tr>\n",
       "    <tr>\n",
       "      <th>4</th>\n",
       "      <td>False</td>\n",
       "      <td>False</td>\n",
       "      <td>False</td>\n",
       "      <td>False</td>\n",
       "      <td>False</td>\n",
       "      <td>False</td>\n",
       "      <td>False</td>\n",
       "      <td>False</td>\n",
       "      <td>False</td>\n",
       "      <td>False</td>\n",
       "      <td>True</td>\n",
       "      <td>False</td>\n",
       "    </tr>\n",
       "    <tr>\n",
       "      <th>...</th>\n",
       "      <td>...</td>\n",
       "      <td>...</td>\n",
       "      <td>...</td>\n",
       "      <td>...</td>\n",
       "      <td>...</td>\n",
       "      <td>...</td>\n",
       "      <td>...</td>\n",
       "      <td>...</td>\n",
       "      <td>...</td>\n",
       "      <td>...</td>\n",
       "      <td>...</td>\n",
       "      <td>...</td>\n",
       "    </tr>\n",
       "    <tr>\n",
       "      <th>886</th>\n",
       "      <td>False</td>\n",
       "      <td>False</td>\n",
       "      <td>False</td>\n",
       "      <td>False</td>\n",
       "      <td>False</td>\n",
       "      <td>False</td>\n",
       "      <td>False</td>\n",
       "      <td>False</td>\n",
       "      <td>False</td>\n",
       "      <td>False</td>\n",
       "      <td>True</td>\n",
       "      <td>False</td>\n",
       "    </tr>\n",
       "    <tr>\n",
       "      <th>887</th>\n",
       "      <td>False</td>\n",
       "      <td>False</td>\n",
       "      <td>False</td>\n",
       "      <td>False</td>\n",
       "      <td>False</td>\n",
       "      <td>False</td>\n",
       "      <td>False</td>\n",
       "      <td>False</td>\n",
       "      <td>False</td>\n",
       "      <td>False</td>\n",
       "      <td>False</td>\n",
       "      <td>False</td>\n",
       "    </tr>\n",
       "    <tr>\n",
       "      <th>888</th>\n",
       "      <td>False</td>\n",
       "      <td>False</td>\n",
       "      <td>False</td>\n",
       "      <td>False</td>\n",
       "      <td>False</td>\n",
       "      <td>True</td>\n",
       "      <td>False</td>\n",
       "      <td>False</td>\n",
       "      <td>False</td>\n",
       "      <td>False</td>\n",
       "      <td>True</td>\n",
       "      <td>False</td>\n",
       "    </tr>\n",
       "    <tr>\n",
       "      <th>889</th>\n",
       "      <td>False</td>\n",
       "      <td>False</td>\n",
       "      <td>False</td>\n",
       "      <td>False</td>\n",
       "      <td>False</td>\n",
       "      <td>False</td>\n",
       "      <td>False</td>\n",
       "      <td>False</td>\n",
       "      <td>False</td>\n",
       "      <td>False</td>\n",
       "      <td>False</td>\n",
       "      <td>False</td>\n",
       "    </tr>\n",
       "    <tr>\n",
       "      <th>890</th>\n",
       "      <td>False</td>\n",
       "      <td>False</td>\n",
       "      <td>False</td>\n",
       "      <td>False</td>\n",
       "      <td>False</td>\n",
       "      <td>False</td>\n",
       "      <td>False</td>\n",
       "      <td>False</td>\n",
       "      <td>False</td>\n",
       "      <td>False</td>\n",
       "      <td>True</td>\n",
       "      <td>False</td>\n",
       "    </tr>\n",
       "  </tbody>\n",
       "</table>\n",
       "<p>891 rows × 12 columns</p>\n",
       "</div>"
      ],
      "text/plain": [
       "     PassengerId  Survived  Pclass   Name    Sex    Age  SibSp  Parch  Ticket  \\\n",
       "0          False     False   False  False  False  False  False  False   False   \n",
       "1          False     False   False  False  False  False  False  False   False   \n",
       "2          False     False   False  False  False  False  False  False   False   \n",
       "3          False     False   False  False  False  False  False  False   False   \n",
       "4          False     False   False  False  False  False  False  False   False   \n",
       "..           ...       ...     ...    ...    ...    ...    ...    ...     ...   \n",
       "886        False     False   False  False  False  False  False  False   False   \n",
       "887        False     False   False  False  False  False  False  False   False   \n",
       "888        False     False   False  False  False   True  False  False   False   \n",
       "889        False     False   False  False  False  False  False  False   False   \n",
       "890        False     False   False  False  False  False  False  False   False   \n",
       "\n",
       "      Fare  Cabin  Embarked  \n",
       "0    False   True     False  \n",
       "1    False  False     False  \n",
       "2    False   True     False  \n",
       "3    False  False     False  \n",
       "4    False   True     False  \n",
       "..     ...    ...       ...  \n",
       "886  False   True     False  \n",
       "887  False  False     False  \n",
       "888  False   True     False  \n",
       "889  False  False     False  \n",
       "890  False   True     False  \n",
       "\n",
       "[891 rows x 12 columns]"
      ]
     },
     "execution_count": 50,
     "metadata": {},
     "output_type": "execute_result"
    }
   ],
   "source": [
    "data.isna()"
   ]
  },
  {
   "cell_type": "code",
   "execution_count": 51,
   "id": "819d7c34",
   "metadata": {},
   "outputs": [
    {
     "data": {
      "text/plain": [
       "PassengerId      0\n",
       "Survived         0\n",
       "Pclass           0\n",
       "Name             0\n",
       "Sex              0\n",
       "Age            177\n",
       "SibSp            0\n",
       "Parch            0\n",
       "Ticket           0\n",
       "Fare             0\n",
       "Cabin          687\n",
       "Embarked         2\n",
       "dtype: int64"
      ]
     },
     "execution_count": 51,
     "metadata": {},
     "output_type": "execute_result"
    }
   ],
   "source": [
    "data.isnull().sum() #with sum is null not shown output on boolean value"
   ]
  },
  {
   "cell_type": "code",
   "execution_count": 53,
   "id": "2252ea33",
   "metadata": {},
   "outputs": [
    {
     "data": {
      "text/plain": [
       "177"
      ]
     },
     "execution_count": 53,
     "metadata": {},
     "output_type": "execute_result"
    }
   ],
   "source": [
    "data.Age.isnull().sum()"
   ]
  },
  {
   "cell_type": "code",
   "execution_count": 54,
   "id": "027e457e",
   "metadata": {},
   "outputs": [
    {
     "data": {
      "text/plain": [
       "PassengerId     0.000\n",
       "Survived        0.000\n",
       "Pclass          0.000\n",
       "Name            0.000\n",
       "Sex             0.000\n",
       "Age            19.865\n",
       "SibSp           0.000\n",
       "Parch           0.000\n",
       "Ticket          0.000\n",
       "Fare            0.000\n",
       "Cabin          77.104\n",
       "Embarked        0.224\n",
       "dtype: float64"
      ]
     },
     "execution_count": 54,
     "metadata": {},
     "output_type": "execute_result"
    }
   ],
   "source": [
    "np.round(data.isnull().sum()*100/len(data),3)"
   ]
  },
  {
   "cell_type": "code",
   "execution_count": 55,
   "id": "2cec7da5",
   "metadata": {},
   "outputs": [
    {
     "data": {
      "text/plain": [
       "PassengerId      0\n",
       "Survived         0\n",
       "Pclass           0\n",
       "Name             0\n",
       "Sex              0\n",
       "Age            177\n",
       "SibSp            0\n",
       "Parch            0\n",
       "Ticket           0\n",
       "Fare             0\n",
       "Cabin          687\n",
       "Embarked         2\n",
       "dtype: int64"
      ]
     },
     "execution_count": 55,
     "metadata": {},
     "output_type": "execute_result"
    }
   ],
   "source": [
    "data.isna().sum()"
   ]
  },
  {
   "cell_type": "markdown",
   "id": "da51aee7",
   "metadata": {},
   "source": [
    "# get the columns name"
   ]
  },
  {
   "cell_type": "code",
   "execution_count": 56,
   "id": "5942ad1a",
   "metadata": {},
   "outputs": [
    {
     "data": {
      "text/plain": [
       "Index(['PassengerId', 'Survived', 'Pclass', 'Name', 'Sex', 'Age', 'SibSp',\n",
       "       'Parch', 'Ticket', 'Fare', 'Cabin', 'Embarked'],\n",
       "      dtype='object')"
      ]
     },
     "execution_count": 56,
     "metadata": {},
     "output_type": "execute_result"
    }
   ],
   "source": [
    "data.columns"
   ]
  },
  {
   "cell_type": "markdown",
   "id": "35d110b0",
   "metadata": {},
   "source": [
    "# dropping a column"
   ]
  },
  {
   "cell_type": "code",
   "execution_count": 57,
   "id": "79842d31",
   "metadata": {},
   "outputs": [],
   "source": [
    "#remove unnecessary column"
   ]
  },
  {
   "cell_type": "code",
   "execution_count": 58,
   "id": "7260e388",
   "metadata": {},
   "outputs": [],
   "source": [
    "df=data.drop('PassengerId',axis=1)"
   ]
  },
  {
   "cell_type": "code",
   "execution_count": 59,
   "id": "00793b54",
   "metadata": {},
   "outputs": [
    {
     "data": {
      "text/html": [
       "<div>\n",
       "<style scoped>\n",
       "    .dataframe tbody tr th:only-of-type {\n",
       "        vertical-align: middle;\n",
       "    }\n",
       "\n",
       "    .dataframe tbody tr th {\n",
       "        vertical-align: top;\n",
       "    }\n",
       "\n",
       "    .dataframe thead th {\n",
       "        text-align: right;\n",
       "    }\n",
       "</style>\n",
       "<table border=\"1\" class=\"dataframe\">\n",
       "  <thead>\n",
       "    <tr style=\"text-align: right;\">\n",
       "      <th></th>\n",
       "      <th>PassengerId</th>\n",
       "      <th>Survived</th>\n",
       "      <th>Pclass</th>\n",
       "      <th>Name</th>\n",
       "      <th>Sex</th>\n",
       "      <th>Age</th>\n",
       "      <th>SibSp</th>\n",
       "      <th>Parch</th>\n",
       "      <th>Ticket</th>\n",
       "      <th>Fare</th>\n",
       "      <th>Cabin</th>\n",
       "      <th>Embarked</th>\n",
       "    </tr>\n",
       "  </thead>\n",
       "  <tbody>\n",
       "    <tr>\n",
       "      <th>0</th>\n",
       "      <td>1</td>\n",
       "      <td>0</td>\n",
       "      <td>3</td>\n",
       "      <td>Braund, Mr. Owen Harris</td>\n",
       "      <td>male</td>\n",
       "      <td>22.0</td>\n",
       "      <td>1</td>\n",
       "      <td>0</td>\n",
       "      <td>A/5 21171</td>\n",
       "      <td>7.2500</td>\n",
       "      <td>NaN</td>\n",
       "      <td>S</td>\n",
       "    </tr>\n",
       "    <tr>\n",
       "      <th>1</th>\n",
       "      <td>2</td>\n",
       "      <td>1</td>\n",
       "      <td>1</td>\n",
       "      <td>Cumings, Mrs. John Bradley (Florence Briggs Th...</td>\n",
       "      <td>female</td>\n",
       "      <td>38.0</td>\n",
       "      <td>1</td>\n",
       "      <td>0</td>\n",
       "      <td>PC 17599</td>\n",
       "      <td>71.2833</td>\n",
       "      <td>C85</td>\n",
       "      <td>C</td>\n",
       "    </tr>\n",
       "    <tr>\n",
       "      <th>2</th>\n",
       "      <td>3</td>\n",
       "      <td>1</td>\n",
       "      <td>3</td>\n",
       "      <td>Heikkinen, Miss. Laina</td>\n",
       "      <td>female</td>\n",
       "      <td>26.0</td>\n",
       "      <td>0</td>\n",
       "      <td>0</td>\n",
       "      <td>STON/O2. 3101282</td>\n",
       "      <td>7.9250</td>\n",
       "      <td>NaN</td>\n",
       "      <td>S</td>\n",
       "    </tr>\n",
       "    <tr>\n",
       "      <th>3</th>\n",
       "      <td>4</td>\n",
       "      <td>1</td>\n",
       "      <td>1</td>\n",
       "      <td>Futrelle, Mrs. Jacques Heath (Lily May Peel)</td>\n",
       "      <td>female</td>\n",
       "      <td>35.0</td>\n",
       "      <td>1</td>\n",
       "      <td>0</td>\n",
       "      <td>113803</td>\n",
       "      <td>53.1000</td>\n",
       "      <td>C123</td>\n",
       "      <td>S</td>\n",
       "    </tr>\n",
       "    <tr>\n",
       "      <th>4</th>\n",
       "      <td>5</td>\n",
       "      <td>0</td>\n",
       "      <td>3</td>\n",
       "      <td>Allen, Mr. William Henry</td>\n",
       "      <td>male</td>\n",
       "      <td>35.0</td>\n",
       "      <td>0</td>\n",
       "      <td>0</td>\n",
       "      <td>373450</td>\n",
       "      <td>8.0500</td>\n",
       "      <td>NaN</td>\n",
       "      <td>S</td>\n",
       "    </tr>\n",
       "  </tbody>\n",
       "</table>\n",
       "</div>"
      ],
      "text/plain": [
       "   PassengerId  Survived  Pclass  \\\n",
       "0            1         0       3   \n",
       "1            2         1       1   \n",
       "2            3         1       3   \n",
       "3            4         1       1   \n",
       "4            5         0       3   \n",
       "\n",
       "                                                Name     Sex   Age  SibSp  \\\n",
       "0                            Braund, Mr. Owen Harris    male  22.0      1   \n",
       "1  Cumings, Mrs. John Bradley (Florence Briggs Th...  female  38.0      1   \n",
       "2                             Heikkinen, Miss. Laina  female  26.0      0   \n",
       "3       Futrelle, Mrs. Jacques Heath (Lily May Peel)  female  35.0      1   \n",
       "4                           Allen, Mr. William Henry    male  35.0      0   \n",
       "\n",
       "   Parch            Ticket     Fare Cabin Embarked  \n",
       "0      0         A/5 21171   7.2500   NaN        S  \n",
       "1      0          PC 17599  71.2833   C85        C  \n",
       "2      0  STON/O2. 3101282   7.9250   NaN        S  \n",
       "3      0            113803  53.1000  C123        S  \n",
       "4      0            373450   8.0500   NaN        S  "
      ]
     },
     "execution_count": 59,
     "metadata": {},
     "output_type": "execute_result"
    }
   ],
   "source": [
    "data.head()"
   ]
  },
  {
   "cell_type": "code",
   "execution_count": 60,
   "id": "6a7ad6cb",
   "metadata": {},
   "outputs": [
    {
     "data": {
      "text/html": [
       "<div>\n",
       "<style scoped>\n",
       "    .dataframe tbody tr th:only-of-type {\n",
       "        vertical-align: middle;\n",
       "    }\n",
       "\n",
       "    .dataframe tbody tr th {\n",
       "        vertical-align: top;\n",
       "    }\n",
       "\n",
       "    .dataframe thead th {\n",
       "        text-align: right;\n",
       "    }\n",
       "</style>\n",
       "<table border=\"1\" class=\"dataframe\">\n",
       "  <thead>\n",
       "    <tr style=\"text-align: right;\">\n",
       "      <th></th>\n",
       "      <th>Survived</th>\n",
       "      <th>Pclass</th>\n",
       "      <th>Name</th>\n",
       "      <th>Sex</th>\n",
       "      <th>Age</th>\n",
       "      <th>SibSp</th>\n",
       "      <th>Parch</th>\n",
       "      <th>Ticket</th>\n",
       "      <th>Fare</th>\n",
       "      <th>Cabin</th>\n",
       "      <th>Embarked</th>\n",
       "    </tr>\n",
       "  </thead>\n",
       "  <tbody>\n",
       "    <tr>\n",
       "      <th>0</th>\n",
       "      <td>0</td>\n",
       "      <td>3</td>\n",
       "      <td>Braund, Mr. Owen Harris</td>\n",
       "      <td>male</td>\n",
       "      <td>22.0</td>\n",
       "      <td>1</td>\n",
       "      <td>0</td>\n",
       "      <td>A/5 21171</td>\n",
       "      <td>7.2500</td>\n",
       "      <td>NaN</td>\n",
       "      <td>S</td>\n",
       "    </tr>\n",
       "    <tr>\n",
       "      <th>1</th>\n",
       "      <td>1</td>\n",
       "      <td>1</td>\n",
       "      <td>Cumings, Mrs. John Bradley (Florence Briggs Th...</td>\n",
       "      <td>female</td>\n",
       "      <td>38.0</td>\n",
       "      <td>1</td>\n",
       "      <td>0</td>\n",
       "      <td>PC 17599</td>\n",
       "      <td>71.2833</td>\n",
       "      <td>C85</td>\n",
       "      <td>C</td>\n",
       "    </tr>\n",
       "    <tr>\n",
       "      <th>2</th>\n",
       "      <td>1</td>\n",
       "      <td>3</td>\n",
       "      <td>Heikkinen, Miss. Laina</td>\n",
       "      <td>female</td>\n",
       "      <td>26.0</td>\n",
       "      <td>0</td>\n",
       "      <td>0</td>\n",
       "      <td>STON/O2. 3101282</td>\n",
       "      <td>7.9250</td>\n",
       "      <td>NaN</td>\n",
       "      <td>S</td>\n",
       "    </tr>\n",
       "    <tr>\n",
       "      <th>3</th>\n",
       "      <td>1</td>\n",
       "      <td>1</td>\n",
       "      <td>Futrelle, Mrs. Jacques Heath (Lily May Peel)</td>\n",
       "      <td>female</td>\n",
       "      <td>35.0</td>\n",
       "      <td>1</td>\n",
       "      <td>0</td>\n",
       "      <td>113803</td>\n",
       "      <td>53.1000</td>\n",
       "      <td>C123</td>\n",
       "      <td>S</td>\n",
       "    </tr>\n",
       "    <tr>\n",
       "      <th>4</th>\n",
       "      <td>0</td>\n",
       "      <td>3</td>\n",
       "      <td>Allen, Mr. William Henry</td>\n",
       "      <td>male</td>\n",
       "      <td>35.0</td>\n",
       "      <td>0</td>\n",
       "      <td>0</td>\n",
       "      <td>373450</td>\n",
       "      <td>8.0500</td>\n",
       "      <td>NaN</td>\n",
       "      <td>S</td>\n",
       "    </tr>\n",
       "  </tbody>\n",
       "</table>\n",
       "</div>"
      ],
      "text/plain": [
       "   Survived  Pclass                                               Name  \\\n",
       "0         0       3                            Braund, Mr. Owen Harris   \n",
       "1         1       1  Cumings, Mrs. John Bradley (Florence Briggs Th...   \n",
       "2         1       3                             Heikkinen, Miss. Laina   \n",
       "3         1       1       Futrelle, Mrs. Jacques Heath (Lily May Peel)   \n",
       "4         0       3                           Allen, Mr. William Henry   \n",
       "\n",
       "      Sex   Age  SibSp  Parch            Ticket     Fare Cabin Embarked  \n",
       "0    male  22.0      1      0         A/5 21171   7.2500   NaN        S  \n",
       "1  female  38.0      1      0          PC 17599  71.2833   C85        C  \n",
       "2  female  26.0      0      0  STON/O2. 3101282   7.9250   NaN        S  \n",
       "3  female  35.0      1      0            113803  53.1000  C123        S  \n",
       "4    male  35.0      0      0            373450   8.0500   NaN        S  "
      ]
     },
     "execution_count": 60,
     "metadata": {},
     "output_type": "execute_result"
    }
   ],
   "source": [
    "df.head()"
   ]
  },
  {
   "cell_type": "code",
   "execution_count": 63,
   "id": "eadb8072",
   "metadata": {},
   "outputs": [],
   "source": [
    "df=data.drop(['Parch','Sex'],axis=1)"
   ]
  },
  {
   "cell_type": "code",
   "execution_count": 64,
   "id": "6e84ec13",
   "metadata": {},
   "outputs": [
    {
     "data": {
      "text/html": [
       "<div>\n",
       "<style scoped>\n",
       "    .dataframe tbody tr th:only-of-type {\n",
       "        vertical-align: middle;\n",
       "    }\n",
       "\n",
       "    .dataframe tbody tr th {\n",
       "        vertical-align: top;\n",
       "    }\n",
       "\n",
       "    .dataframe thead th {\n",
       "        text-align: right;\n",
       "    }\n",
       "</style>\n",
       "<table border=\"1\" class=\"dataframe\">\n",
       "  <thead>\n",
       "    <tr style=\"text-align: right;\">\n",
       "      <th></th>\n",
       "      <th>PassengerId</th>\n",
       "      <th>Survived</th>\n",
       "      <th>Pclass</th>\n",
       "      <th>Name</th>\n",
       "      <th>Sex</th>\n",
       "      <th>Age</th>\n",
       "      <th>SibSp</th>\n",
       "      <th>Parch</th>\n",
       "      <th>Ticket</th>\n",
       "      <th>Fare</th>\n",
       "      <th>Cabin</th>\n",
       "      <th>Embarked</th>\n",
       "    </tr>\n",
       "  </thead>\n",
       "  <tbody>\n",
       "    <tr>\n",
       "      <th>0</th>\n",
       "      <td>1</td>\n",
       "      <td>0</td>\n",
       "      <td>3</td>\n",
       "      <td>Braund, Mr. Owen Harris</td>\n",
       "      <td>male</td>\n",
       "      <td>22.0</td>\n",
       "      <td>1</td>\n",
       "      <td>0</td>\n",
       "      <td>A/5 21171</td>\n",
       "      <td>7.2500</td>\n",
       "      <td>NaN</td>\n",
       "      <td>S</td>\n",
       "    </tr>\n",
       "    <tr>\n",
       "      <th>1</th>\n",
       "      <td>2</td>\n",
       "      <td>1</td>\n",
       "      <td>1</td>\n",
       "      <td>Cumings, Mrs. John Bradley (Florence Briggs Th...</td>\n",
       "      <td>female</td>\n",
       "      <td>38.0</td>\n",
       "      <td>1</td>\n",
       "      <td>0</td>\n",
       "      <td>PC 17599</td>\n",
       "      <td>71.2833</td>\n",
       "      <td>C85</td>\n",
       "      <td>C</td>\n",
       "    </tr>\n",
       "    <tr>\n",
       "      <th>2</th>\n",
       "      <td>3</td>\n",
       "      <td>1</td>\n",
       "      <td>3</td>\n",
       "      <td>Heikkinen, Miss. Laina</td>\n",
       "      <td>female</td>\n",
       "      <td>26.0</td>\n",
       "      <td>0</td>\n",
       "      <td>0</td>\n",
       "      <td>STON/O2. 3101282</td>\n",
       "      <td>7.9250</td>\n",
       "      <td>NaN</td>\n",
       "      <td>S</td>\n",
       "    </tr>\n",
       "    <tr>\n",
       "      <th>3</th>\n",
       "      <td>4</td>\n",
       "      <td>1</td>\n",
       "      <td>1</td>\n",
       "      <td>Futrelle, Mrs. Jacques Heath (Lily May Peel)</td>\n",
       "      <td>female</td>\n",
       "      <td>35.0</td>\n",
       "      <td>1</td>\n",
       "      <td>0</td>\n",
       "      <td>113803</td>\n",
       "      <td>53.1000</td>\n",
       "      <td>C123</td>\n",
       "      <td>S</td>\n",
       "    </tr>\n",
       "    <tr>\n",
       "      <th>4</th>\n",
       "      <td>5</td>\n",
       "      <td>0</td>\n",
       "      <td>3</td>\n",
       "      <td>Allen, Mr. William Henry</td>\n",
       "      <td>male</td>\n",
       "      <td>35.0</td>\n",
       "      <td>0</td>\n",
       "      <td>0</td>\n",
       "      <td>373450</td>\n",
       "      <td>8.0500</td>\n",
       "      <td>NaN</td>\n",
       "      <td>S</td>\n",
       "    </tr>\n",
       "  </tbody>\n",
       "</table>\n",
       "</div>"
      ],
      "text/plain": [
       "   PassengerId  Survived  Pclass  \\\n",
       "0            1         0       3   \n",
       "1            2         1       1   \n",
       "2            3         1       3   \n",
       "3            4         1       1   \n",
       "4            5         0       3   \n",
       "\n",
       "                                                Name     Sex   Age  SibSp  \\\n",
       "0                            Braund, Mr. Owen Harris    male  22.0      1   \n",
       "1  Cumings, Mrs. John Bradley (Florence Briggs Th...  female  38.0      1   \n",
       "2                             Heikkinen, Miss. Laina  female  26.0      0   \n",
       "3       Futrelle, Mrs. Jacques Heath (Lily May Peel)  female  35.0      1   \n",
       "4                           Allen, Mr. William Henry    male  35.0      0   \n",
       "\n",
       "   Parch            Ticket     Fare Cabin Embarked  \n",
       "0      0         A/5 21171   7.2500   NaN        S  \n",
       "1      0          PC 17599  71.2833   C85        C  \n",
       "2      0  STON/O2. 3101282   7.9250   NaN        S  \n",
       "3      0            113803  53.1000  C123        S  \n",
       "4      0            373450   8.0500   NaN        S  "
      ]
     },
     "execution_count": 64,
     "metadata": {},
     "output_type": "execute_result"
    }
   ],
   "source": [
    "data.head()"
   ]
  },
  {
   "cell_type": "code",
   "execution_count": 66,
   "id": "cdd07d55",
   "metadata": {},
   "outputs": [
    {
     "data": {
      "text/html": [
       "<div>\n",
       "<style scoped>\n",
       "    .dataframe tbody tr th:only-of-type {\n",
       "        vertical-align: middle;\n",
       "    }\n",
       "\n",
       "    .dataframe tbody tr th {\n",
       "        vertical-align: top;\n",
       "    }\n",
       "\n",
       "    .dataframe thead th {\n",
       "        text-align: right;\n",
       "    }\n",
       "</style>\n",
       "<table border=\"1\" class=\"dataframe\">\n",
       "  <thead>\n",
       "    <tr style=\"text-align: right;\">\n",
       "      <th></th>\n",
       "      <th>PassengerId</th>\n",
       "      <th>Survived</th>\n",
       "      <th>Pclass</th>\n",
       "      <th>Name</th>\n",
       "      <th>Age</th>\n",
       "      <th>SibSp</th>\n",
       "      <th>Ticket</th>\n",
       "      <th>Fare</th>\n",
       "      <th>Cabin</th>\n",
       "      <th>Embarked</th>\n",
       "    </tr>\n",
       "  </thead>\n",
       "  <tbody>\n",
       "    <tr>\n",
       "      <th>0</th>\n",
       "      <td>1</td>\n",
       "      <td>0</td>\n",
       "      <td>3</td>\n",
       "      <td>Braund, Mr. Owen Harris</td>\n",
       "      <td>22.0</td>\n",
       "      <td>1</td>\n",
       "      <td>A/5 21171</td>\n",
       "      <td>7.2500</td>\n",
       "      <td>NaN</td>\n",
       "      <td>S</td>\n",
       "    </tr>\n",
       "    <tr>\n",
       "      <th>1</th>\n",
       "      <td>2</td>\n",
       "      <td>1</td>\n",
       "      <td>1</td>\n",
       "      <td>Cumings, Mrs. John Bradley (Florence Briggs Th...</td>\n",
       "      <td>38.0</td>\n",
       "      <td>1</td>\n",
       "      <td>PC 17599</td>\n",
       "      <td>71.2833</td>\n",
       "      <td>C85</td>\n",
       "      <td>C</td>\n",
       "    </tr>\n",
       "    <tr>\n",
       "      <th>2</th>\n",
       "      <td>3</td>\n",
       "      <td>1</td>\n",
       "      <td>3</td>\n",
       "      <td>Heikkinen, Miss. Laina</td>\n",
       "      <td>26.0</td>\n",
       "      <td>0</td>\n",
       "      <td>STON/O2. 3101282</td>\n",
       "      <td>7.9250</td>\n",
       "      <td>NaN</td>\n",
       "      <td>S</td>\n",
       "    </tr>\n",
       "    <tr>\n",
       "      <th>3</th>\n",
       "      <td>4</td>\n",
       "      <td>1</td>\n",
       "      <td>1</td>\n",
       "      <td>Futrelle, Mrs. Jacques Heath (Lily May Peel)</td>\n",
       "      <td>35.0</td>\n",
       "      <td>1</td>\n",
       "      <td>113803</td>\n",
       "      <td>53.1000</td>\n",
       "      <td>C123</td>\n",
       "      <td>S</td>\n",
       "    </tr>\n",
       "    <tr>\n",
       "      <th>4</th>\n",
       "      <td>5</td>\n",
       "      <td>0</td>\n",
       "      <td>3</td>\n",
       "      <td>Allen, Mr. William Henry</td>\n",
       "      <td>35.0</td>\n",
       "      <td>0</td>\n",
       "      <td>373450</td>\n",
       "      <td>8.0500</td>\n",
       "      <td>NaN</td>\n",
       "      <td>S</td>\n",
       "    </tr>\n",
       "  </tbody>\n",
       "</table>\n",
       "</div>"
      ],
      "text/plain": [
       "   PassengerId  Survived  Pclass  \\\n",
       "0            1         0       3   \n",
       "1            2         1       1   \n",
       "2            3         1       3   \n",
       "3            4         1       1   \n",
       "4            5         0       3   \n",
       "\n",
       "                                                Name   Age  SibSp  \\\n",
       "0                            Braund, Mr. Owen Harris  22.0      1   \n",
       "1  Cumings, Mrs. John Bradley (Florence Briggs Th...  38.0      1   \n",
       "2                             Heikkinen, Miss. Laina  26.0      0   \n",
       "3       Futrelle, Mrs. Jacques Heath (Lily May Peel)  35.0      1   \n",
       "4                           Allen, Mr. William Henry  35.0      0   \n",
       "\n",
       "             Ticket     Fare Cabin Embarked  \n",
       "0         A/5 21171   7.2500   NaN        S  \n",
       "1          PC 17599  71.2833   C85        C  \n",
       "2  STON/O2. 3101282   7.9250   NaN        S  \n",
       "3            113803  53.1000  C123        S  \n",
       "4            373450   8.0500   NaN        S  "
      ]
     },
     "execution_count": 66,
     "metadata": {},
     "output_type": "execute_result"
    }
   ],
   "source": [
    "df.head()"
   ]
  },
  {
   "cell_type": "code",
   "execution_count": 67,
   "id": "930f5566",
   "metadata": {},
   "outputs": [],
   "source": [
    "df=data.drop(['Parch','Sex'],axis=1,inplace=True)"
   ]
  },
  {
   "cell_type": "code",
   "execution_count": 69,
   "id": "4df6d504",
   "metadata": {},
   "outputs": [
    {
     "data": {
      "text/html": [
       "<div>\n",
       "<style scoped>\n",
       "    .dataframe tbody tr th:only-of-type {\n",
       "        vertical-align: middle;\n",
       "    }\n",
       "\n",
       "    .dataframe tbody tr th {\n",
       "        vertical-align: top;\n",
       "    }\n",
       "\n",
       "    .dataframe thead th {\n",
       "        text-align: right;\n",
       "    }\n",
       "</style>\n",
       "<table border=\"1\" class=\"dataframe\">\n",
       "  <thead>\n",
       "    <tr style=\"text-align: right;\">\n",
       "      <th></th>\n",
       "      <th>PassengerId</th>\n",
       "      <th>Survived</th>\n",
       "      <th>Pclass</th>\n",
       "      <th>Name</th>\n",
       "      <th>Age</th>\n",
       "      <th>SibSp</th>\n",
       "      <th>Ticket</th>\n",
       "      <th>Fare</th>\n",
       "      <th>Cabin</th>\n",
       "      <th>Embarked</th>\n",
       "    </tr>\n",
       "  </thead>\n",
       "  <tbody>\n",
       "    <tr>\n",
       "      <th>0</th>\n",
       "      <td>1</td>\n",
       "      <td>0</td>\n",
       "      <td>3</td>\n",
       "      <td>Braund, Mr. Owen Harris</td>\n",
       "      <td>22.0</td>\n",
       "      <td>1</td>\n",
       "      <td>A/5 21171</td>\n",
       "      <td>7.2500</td>\n",
       "      <td>NaN</td>\n",
       "      <td>S</td>\n",
       "    </tr>\n",
       "    <tr>\n",
       "      <th>1</th>\n",
       "      <td>2</td>\n",
       "      <td>1</td>\n",
       "      <td>1</td>\n",
       "      <td>Cumings, Mrs. John Bradley (Florence Briggs Th...</td>\n",
       "      <td>38.0</td>\n",
       "      <td>1</td>\n",
       "      <td>PC 17599</td>\n",
       "      <td>71.2833</td>\n",
       "      <td>C85</td>\n",
       "      <td>C</td>\n",
       "    </tr>\n",
       "    <tr>\n",
       "      <th>2</th>\n",
       "      <td>3</td>\n",
       "      <td>1</td>\n",
       "      <td>3</td>\n",
       "      <td>Heikkinen, Miss. Laina</td>\n",
       "      <td>26.0</td>\n",
       "      <td>0</td>\n",
       "      <td>STON/O2. 3101282</td>\n",
       "      <td>7.9250</td>\n",
       "      <td>NaN</td>\n",
       "      <td>S</td>\n",
       "    </tr>\n",
       "    <tr>\n",
       "      <th>3</th>\n",
       "      <td>4</td>\n",
       "      <td>1</td>\n",
       "      <td>1</td>\n",
       "      <td>Futrelle, Mrs. Jacques Heath (Lily May Peel)</td>\n",
       "      <td>35.0</td>\n",
       "      <td>1</td>\n",
       "      <td>113803</td>\n",
       "      <td>53.1000</td>\n",
       "      <td>C123</td>\n",
       "      <td>S</td>\n",
       "    </tr>\n",
       "    <tr>\n",
       "      <th>4</th>\n",
       "      <td>5</td>\n",
       "      <td>0</td>\n",
       "      <td>3</td>\n",
       "      <td>Allen, Mr. William Henry</td>\n",
       "      <td>35.0</td>\n",
       "      <td>0</td>\n",
       "      <td>373450</td>\n",
       "      <td>8.0500</td>\n",
       "      <td>NaN</td>\n",
       "      <td>S</td>\n",
       "    </tr>\n",
       "  </tbody>\n",
       "</table>\n",
       "</div>"
      ],
      "text/plain": [
       "   PassengerId  Survived  Pclass  \\\n",
       "0            1         0       3   \n",
       "1            2         1       1   \n",
       "2            3         1       3   \n",
       "3            4         1       1   \n",
       "4            5         0       3   \n",
       "\n",
       "                                                Name   Age  SibSp  \\\n",
       "0                            Braund, Mr. Owen Harris  22.0      1   \n",
       "1  Cumings, Mrs. John Bradley (Florence Briggs Th...  38.0      1   \n",
       "2                             Heikkinen, Miss. Laina  26.0      0   \n",
       "3       Futrelle, Mrs. Jacques Heath (Lily May Peel)  35.0      1   \n",
       "4                           Allen, Mr. William Henry  35.0      0   \n",
       "\n",
       "             Ticket     Fare Cabin Embarked  \n",
       "0         A/5 21171   7.2500   NaN        S  \n",
       "1          PC 17599  71.2833   C85        C  \n",
       "2  STON/O2. 3101282   7.9250   NaN        S  \n",
       "3            113803  53.1000  C123        S  \n",
       "4            373450   8.0500   NaN        S  "
      ]
     },
     "execution_count": 69,
     "metadata": {},
     "output_type": "execute_result"
    }
   ],
   "source": [
    "data.head()"
   ]
  },
  {
   "cell_type": "markdown",
   "id": "39c82cad",
   "metadata": {},
   "source": [
    "# drop the null values\n",
    "# dropna"
   ]
  },
  {
   "cell_type": "code",
   "execution_count": null,
   "id": "5e86ed9d",
   "metadata": {},
   "outputs": [],
   "source": [
    "- set inplace = True if you want to make any changes to the actual/original data\n",
    "- It drops all the rows that have atleast 1 null values\n",
    "- It does not make the changes in the existing dataset"
   ]
  },
  {
   "cell_type": "markdown",
   "id": "880f07ea",
   "metadata": {},
   "source": [
    "# how to access a particular column\n",
    "# data.column_name"
   ]
  },
  {
   "cell_type": "code",
   "execution_count": 70,
   "id": "1d588e2f",
   "metadata": {},
   "outputs": [
    {
     "data": {
      "text/plain": [
       "0        1\n",
       "1        2\n",
       "2        3\n",
       "3        4\n",
       "4        5\n",
       "      ... \n",
       "886    887\n",
       "887    888\n",
       "888    889\n",
       "889    890\n",
       "890    891\n",
       "Name: PassengerId, Length: 891, dtype: int64"
      ]
     },
     "execution_count": 70,
     "metadata": {},
     "output_type": "execute_result"
    }
   ],
   "source": [
    "data.PassengerId"
   ]
  },
  {
   "cell_type": "markdown",
   "id": "b969892c",
   "metadata": {},
   "source": [
    "# Filling the null values \n",
    "\n",
    "- In discreate a columnn we fill the null value with the mean or median value\n",
    "- In categorical value column we fill the null values with the mode"
   ]
  },
  {
   "cell_type": "markdown",
   "id": "fe0fa795",
   "metadata": {},
   "source": [
    "# fillna"
   ]
  },
  {
   "cell_type": "code",
   "execution_count": 71,
   "id": "82df81cd",
   "metadata": {},
   "outputs": [
    {
     "data": {
      "text/plain": [
       "PassengerId      0\n",
       "Survived         0\n",
       "Pclass           0\n",
       "Name             0\n",
       "Age            177\n",
       "SibSp            0\n",
       "Ticket           0\n",
       "Fare             0\n",
       "Cabin          687\n",
       "Embarked         2\n",
       "dtype: int64"
      ]
     },
     "execution_count": 71,
     "metadata": {},
     "output_type": "execute_result"
    }
   ],
   "source": [
    "data.isnull().sum()"
   ]
  },
  {
   "cell_type": "code",
   "execution_count": 72,
   "id": "bc6e9a20",
   "metadata": {},
   "outputs": [
    {
     "data": {
      "text/plain": [
       "29.69911764705882"
      ]
     },
     "execution_count": 72,
     "metadata": {},
     "output_type": "execute_result"
    }
   ],
   "source": [
    "data.Age.mean()"
   ]
  },
  {
   "cell_type": "code",
   "execution_count": 73,
   "id": "01f07f01",
   "metadata": {},
   "outputs": [],
   "source": [
    "data.Age.fillna(data.Age.mean(),inplace=True)"
   ]
  },
  {
   "cell_type": "code",
   "execution_count": 75,
   "id": "9778bfe1",
   "metadata": {},
   "outputs": [
    {
     "data": {
      "text/plain": [
       "PassengerId      0\n",
       "Survived         0\n",
       "Pclass           0\n",
       "Name             0\n",
       "Age              0\n",
       "SibSp            0\n",
       "Ticket           0\n",
       "Fare             0\n",
       "Cabin          687\n",
       "Embarked         2\n",
       "dtype: int64"
      ]
     },
     "execution_count": 75,
     "metadata": {},
     "output_type": "execute_result"
    }
   ],
   "source": [
    "data.isnull().sum()"
   ]
  },
  {
   "cell_type": "markdown",
   "id": "29c4e272",
   "metadata": {},
   "source": [
    "# Drop cabin column as it has 76% values as null values so it is not possible"
   ]
  },
  {
   "cell_type": "code",
   "execution_count": 76,
   "id": "ad3445ea",
   "metadata": {},
   "outputs": [],
   "source": [
    "data.drop('Cabin',axis = 1,inplace = True)"
   ]
  },
  {
   "cell_type": "code",
   "execution_count": 77,
   "id": "b3035a46",
   "metadata": {},
   "outputs": [
    {
     "data": {
      "text/html": [
       "<div>\n",
       "<style scoped>\n",
       "    .dataframe tbody tr th:only-of-type {\n",
       "        vertical-align: middle;\n",
       "    }\n",
       "\n",
       "    .dataframe tbody tr th {\n",
       "        vertical-align: top;\n",
       "    }\n",
       "\n",
       "    .dataframe thead th {\n",
       "        text-align: right;\n",
       "    }\n",
       "</style>\n",
       "<table border=\"1\" class=\"dataframe\">\n",
       "  <thead>\n",
       "    <tr style=\"text-align: right;\">\n",
       "      <th></th>\n",
       "      <th>PassengerId</th>\n",
       "      <th>Survived</th>\n",
       "      <th>Pclass</th>\n",
       "      <th>Name</th>\n",
       "      <th>Age</th>\n",
       "      <th>SibSp</th>\n",
       "      <th>Ticket</th>\n",
       "      <th>Fare</th>\n",
       "      <th>Embarked</th>\n",
       "    </tr>\n",
       "  </thead>\n",
       "  <tbody>\n",
       "    <tr>\n",
       "      <th>0</th>\n",
       "      <td>1</td>\n",
       "      <td>0</td>\n",
       "      <td>3</td>\n",
       "      <td>Braund, Mr. Owen Harris</td>\n",
       "      <td>22.0</td>\n",
       "      <td>1</td>\n",
       "      <td>A/5 21171</td>\n",
       "      <td>7.2500</td>\n",
       "      <td>S</td>\n",
       "    </tr>\n",
       "    <tr>\n",
       "      <th>1</th>\n",
       "      <td>2</td>\n",
       "      <td>1</td>\n",
       "      <td>1</td>\n",
       "      <td>Cumings, Mrs. John Bradley (Florence Briggs Th...</td>\n",
       "      <td>38.0</td>\n",
       "      <td>1</td>\n",
       "      <td>PC 17599</td>\n",
       "      <td>71.2833</td>\n",
       "      <td>C</td>\n",
       "    </tr>\n",
       "    <tr>\n",
       "      <th>2</th>\n",
       "      <td>3</td>\n",
       "      <td>1</td>\n",
       "      <td>3</td>\n",
       "      <td>Heikkinen, Miss. Laina</td>\n",
       "      <td>26.0</td>\n",
       "      <td>0</td>\n",
       "      <td>STON/O2. 3101282</td>\n",
       "      <td>7.9250</td>\n",
       "      <td>S</td>\n",
       "    </tr>\n",
       "    <tr>\n",
       "      <th>3</th>\n",
       "      <td>4</td>\n",
       "      <td>1</td>\n",
       "      <td>1</td>\n",
       "      <td>Futrelle, Mrs. Jacques Heath (Lily May Peel)</td>\n",
       "      <td>35.0</td>\n",
       "      <td>1</td>\n",
       "      <td>113803</td>\n",
       "      <td>53.1000</td>\n",
       "      <td>S</td>\n",
       "    </tr>\n",
       "    <tr>\n",
       "      <th>4</th>\n",
       "      <td>5</td>\n",
       "      <td>0</td>\n",
       "      <td>3</td>\n",
       "      <td>Allen, Mr. William Henry</td>\n",
       "      <td>35.0</td>\n",
       "      <td>0</td>\n",
       "      <td>373450</td>\n",
       "      <td>8.0500</td>\n",
       "      <td>S</td>\n",
       "    </tr>\n",
       "  </tbody>\n",
       "</table>\n",
       "</div>"
      ],
      "text/plain": [
       "   PassengerId  Survived  Pclass  \\\n",
       "0            1         0       3   \n",
       "1            2         1       1   \n",
       "2            3         1       3   \n",
       "3            4         1       1   \n",
       "4            5         0       3   \n",
       "\n",
       "                                                Name   Age  SibSp  \\\n",
       "0                            Braund, Mr. Owen Harris  22.0      1   \n",
       "1  Cumings, Mrs. John Bradley (Florence Briggs Th...  38.0      1   \n",
       "2                             Heikkinen, Miss. Laina  26.0      0   \n",
       "3       Futrelle, Mrs. Jacques Heath (Lily May Peel)  35.0      1   \n",
       "4                           Allen, Mr. William Henry  35.0      0   \n",
       "\n",
       "             Ticket     Fare Embarked  \n",
       "0         A/5 21171   7.2500        S  \n",
       "1          PC 17599  71.2833        C  \n",
       "2  STON/O2. 3101282   7.9250        S  \n",
       "3            113803  53.1000        S  \n",
       "4            373450   8.0500        S  "
      ]
     },
     "execution_count": 77,
     "metadata": {},
     "output_type": "execute_result"
    }
   ],
   "source": [
    "data.head()"
   ]
  },
  {
   "cell_type": "markdown",
   "id": "c256a0ab",
   "metadata": {},
   "source": [
    "# get the details of how many males and females survied or dead"
   ]
  },
  {
   "cell_type": "code",
   "execution_count": 79,
   "id": "dbee4937",
   "metadata": {},
   "outputs": [
    {
     "data": {
      "text/plain": [
       "Survived  Name                                        \n",
       "0         Abbing, Mr. Anthony                             1\n",
       "          Abbott, Mr. Rossmore Edward                     1\n",
       "          Abelson, Mr. Samuel                             1\n",
       "          Adahl, Mr. Mauritz Nils Martin                  1\n",
       "          Adams, Mr. John                                 1\n",
       "                                                         ..\n",
       "1         Woolner, Mr. Hugh                               1\n",
       "          Yasbeck, Mrs. Antoni (Selini Alexander)         1\n",
       "          Young, Miss. Marie Grice                        1\n",
       "          de Messemaeker, Mrs. Guillaume Joseph (Emma)    1\n",
       "          de Mulder, Mr. Theodore                         1\n",
       "Name: Name, Length: 891, dtype: int64"
      ]
     },
     "execution_count": 79,
     "metadata": {},
     "output_type": "execute_result"
    }
   ],
   "source": [
    "data.groupby('Survived').Name.value_counts()"
   ]
  },
  {
   "cell_type": "code",
   "execution_count": 81,
   "id": "d44f7c40",
   "metadata": {},
   "outputs": [
    {
     "data": {
      "text/plain": [
       "array([0, 1], dtype=int64)"
      ]
     },
     "execution_count": 81,
     "metadata": {},
     "output_type": "execute_result"
    }
   ],
   "source": [
    "data.Survived.unique()"
   ]
  },
  {
   "cell_type": "markdown",
   "id": "22e50c77",
   "metadata": {},
   "source": [
    "# what is the average fare in each class"
   ]
  },
  {
   "cell_type": "code",
   "execution_count": 82,
   "id": "bc34440c",
   "metadata": {},
   "outputs": [
    {
     "data": {
      "text/plain": [
       "Fare      Pclass\n",
       "0.0000    2         6\n",
       "          1         5\n",
       "          3         4\n",
       "4.0125    3         1\n",
       "5.0000    1         1\n",
       "                   ..\n",
       "227.5250  1         4\n",
       "247.5208  1         2\n",
       "262.3750  1         2\n",
       "263.0000  1         4\n",
       "512.3292  1         3\n",
       "Name: Pclass, Length: 255, dtype: int64"
      ]
     },
     "execution_count": 82,
     "metadata": {},
     "output_type": "execute_result"
    }
   ],
   "source": [
    "data.groupby('Fare').Pclass.value_counts()"
   ]
  },
  {
   "cell_type": "code",
   "execution_count": 83,
   "id": "581e3a60",
   "metadata": {},
   "outputs": [
    {
     "data": {
      "text/plain": [
       "Pclass  Fare   \n",
       "1       26.5500    15\n",
       "        52.0000     7\n",
       "        0.0000      5\n",
       "        30.0000     5\n",
       "        30.5000     5\n",
       "                   ..\n",
       "3       15.5500     1\n",
       "        17.4000     1\n",
       "        21.6792     1\n",
       "        22.0250     1\n",
       "        22.5250     1\n",
       "Name: Fare, Length: 255, dtype: int64"
      ]
     },
     "execution_count": 83,
     "metadata": {},
     "output_type": "execute_result"
    }
   ],
   "source": [
    "data.groupby('Pclass').Fare.value_counts()"
   ]
  }
 ],
 "metadata": {
  "kernelspec": {
   "display_name": "Python 3 (ipykernel)",
   "language": "python",
   "name": "python3"
  },
  "language_info": {
   "codemirror_mode": {
    "name": "ipython",
    "version": 3
   },
   "file_extension": ".py",
   "mimetype": "text/x-python",
   "name": "python",
   "nbconvert_exporter": "python",
   "pygments_lexer": "ipython3",
   "version": "3.11.4"
  }
 },
 "nbformat": 4,
 "nbformat_minor": 5
}
